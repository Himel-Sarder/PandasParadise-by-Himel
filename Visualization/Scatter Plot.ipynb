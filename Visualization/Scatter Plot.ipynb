{
 "cells": [
  {
   "cell_type": "code",
   "execution_count": null,
   "id": "7d85cc0e",
   "metadata": {},
   "outputs": [],
   "source": [
    "import pandas as pd\n",
    "import seaborn as sns\n",
    "import matplotlib.pyplot as plt"
   ]
  },
  {
   "cell_type": "code",
   "execution_count": null,
   "id": "af116e77",
   "metadata": {},
   "outputs": [],
   "source": [
    "# Sample DataFrame for scatter plot\n",
    "data = {\n",
    "    'X': [1, 2, 3, 4, 5],\n",
    "    'Y': [10, 15, 12, 18, 20]\n",
    "}"
   ]
  },
  {
   "cell_type": "code",
   "execution_count": null,
   "id": "610807b0",
   "metadata": {},
   "outputs": [],
   "source": [
    "df = pd.DataFrame(data)"
   ]
  },
  {
   "cell_type": "code",
   "execution_count": null,
   "id": "81af9a4e",
   "metadata": {},
   "outputs": [],
   "source": [
    "# Scatter plot using pandas\n",
    "df.plot(kind='scatter', x='X', y='Y', title='Scatter Plot using Pandas')\n",
    "plt.xlabel('X')\n",
    "plt.ylabel('Y')\n",
    "plt.show()"
   ]
  },
  {
   "cell_type": "code",
   "execution_count": null,
   "id": "71d03ffd",
   "metadata": {},
   "outputs": [],
   "source": [
    "# Scatter plot using Matplotlib\n",
    "plt.figure(figsize=(8, 5))\n",
    "plt.scatter(df['X'], df['Y'], color='red', label='Data Points')\n",
    "plt.title('Scatter Plot using Matplotlib')\n",
    "plt.xlabel('X')\n",
    "plt.ylabel('Y')\n",
    "plt.legend()\n",
    "plt.show()"
   ]
  },
  {
   "cell_type": "code",
   "execution_count": null,
   "id": "1cb0c851",
   "metadata": {},
   "outputs": [],
   "source": [
    "# Scatter plot using Seaborn\n",
    "plt.figure(figsize=(8, 5))\n",
    "sns.scatterplot(data=df, x='X', y='Y')\n",
    "plt.title('Scatter Plot using Seaborn')\n",
    "plt.xlabel('X')\n",
    "plt.ylabel('Y')\n",
    "plt.show()"
   ]
  }
 ],
 "metadata": {
  "jupytext": {
   "cell_metadata_filter": "-all",
   "main_language": "python",
   "notebook_metadata_filter": "-all"
  }
 },
 "nbformat": 4,
 "nbformat_minor": 5
}
