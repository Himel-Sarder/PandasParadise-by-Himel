{
 "cells": [
  {
   "cell_type": "code",
   "execution_count": null,
   "id": "fab6aa65",
   "metadata": {},
   "outputs": [],
   "source": [
    "import pandas as pd\n",
    "import seaborn as sns\n",
    "import matplotlib.pyplot as plt"
   ]
  },
  {
   "cell_type": "code",
   "execution_count": null,
   "id": "690c847a",
   "metadata": {},
   "outputs": [],
   "source": [
    "# Sample data\n",
    "data = {\n",
    "    'A': [1, 2, 3, 4],\n",
    "    'B': [5, 6, 7, 8],\n",
    "    'C': [9, 10, 11, 12],\n",
    "    'D': [13, 14, 15, 16]\n",
    "}"
   ]
  },
  {
   "cell_type": "code",
   "execution_count": null,
   "id": "f07fc12b",
   "metadata": {},
   "outputs": [],
   "source": [
    "# Create a DataFrame\n",
    "df = pd.DataFrame(data)"
   ]
  },
  {
   "cell_type": "code",
   "execution_count": null,
   "id": "e059b896",
   "metadata": {},
   "outputs": [],
   "source": [
    "# Heatmap using pandas (actually using Matplotlib via imshow)\n",
    "plt.figure(figsize=(8, 5))\n",
    "plt.imshow(df, cmap='viridis', aspect='auto')\n",
    "plt.colorbar(label='Value')\n",
    "plt.title('Heatmap using Matplotlib (via pandas)')\n",
    "plt.xlabel('Columns')\n",
    "plt.ylabel('Rows')\n",
    "plt.xticks(range(len(df.columns)), df.columns)\n",
    "plt.yticks(range(len(df)), df.index)\n",
    "plt.show()"
   ]
  },
  {
   "cell_type": "code",
   "execution_count": null,
   "id": "bd22a00a",
   "metadata": {},
   "outputs": [],
   "source": [
    "# Heatmap using Matplotlib directly\n",
    "plt.figure(figsize=(8, 6))\n",
    "plt.imshow(df.values, cmap='viridis', interpolation='nearest')\n",
    "plt.colorbar(label='Value')\n",
    "plt.title('Heatmap using Matplotlib')\n",
    "plt.xlabel('Columns')\n",
    "plt.ylabel('Rows')\n",
    "plt.xticks(range(len(df.columns)), df.columns)\n",
    "plt.yticks(range(len(df)), df.index)\n",
    "plt.show()"
   ]
  },
  {
   "cell_type": "code",
   "execution_count": null,
   "id": "14aa62ae",
   "metadata": {},
   "outputs": [],
   "source": [
    "# Heatmap using Seaborn\n",
    "plt.figure(figsize=(8, 5))\n",
    "sns.heatmap(df, cmap='viridis', annot=True, fmt=\"d\")\n",
    "plt.title('Heatmap using Seaborn')\n",
    "plt.xlabel('Columns')\n",
    "plt.ylabel('Rows')\n",
    "plt.show()"
   ]
  }
 ],
 "metadata": {
  "jupytext": {
   "cell_metadata_filter": "-all",
   "main_language": "python",
   "notebook_metadata_filter": "-all"
  }
 },
 "nbformat": 4,
 "nbformat_minor": 5
}
