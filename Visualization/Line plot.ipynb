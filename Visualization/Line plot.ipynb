{
 "cells": [
  {
   "cell_type": "code",
   "execution_count": null,
   "id": "fab791a4",
   "metadata": {
    "lines_to_next_cell": 2
   },
   "outputs": [],
   "source": [
    "import pandas as pd\n",
    "import matplotlib.pyplot as plt"
   ]
  },
  {
   "cell_type": "code",
   "execution_count": null,
   "id": "ef326fea",
   "metadata": {},
   "outputs": [],
   "source": [
    "data = {\n",
    "    'Category': ['A', 'B', 'A', 'C', 'B', 'C', 'A'],\n",
    "    'Value': [10, 40, 25, 65, 35, 25, 70],\n",
    "    'Count': [1, 2, 3, 4, 5, 6, 7]\n",
    "}"
   ]
  },
  {
   "cell_type": "code",
   "execution_count": null,
   "id": "7b33161d",
   "metadata": {},
   "outputs": [],
   "source": [
    "df = pd.DataFrame(data)"
   ]
  },
  {
   "cell_type": "code",
   "execution_count": null,
   "id": "e58b2d93",
   "metadata": {},
   "outputs": [],
   "source": [
    "df.plot(x='Count', y='Value', kind='line', marker='o')\n",
    "plt.title('Value Trend Over Count')\n",
    "plt.xlabel('Count')\n",
    "plt.ylabel('Value')\n",
    "plt.grid(True)\n",
    "plt.show()"
   ]
  },
  {
   "cell_type": "code",
   "execution_count": null,
   "id": "7b8ab50e",
   "metadata": {},
   "outputs": [],
   "source": [
    "# Customizing the line plot\n",
    "plt.figure(figsize=(10,6))\n",
    "plt.plot(df['Count'], df['Value'], marker='o',linestyle='-', color='r', label='Value')\n",
    "plt.title('Customized Line Plot of Value Trend Over Count')\n",
    "plt.xlabel('Count')\n",
    "plt.ylabel('Value')\n",
    "plt.legend()\n",
    "plt.grid(True)\n",
    "plt.show()"
   ]
  }
 ],
 "metadata": {
  "jupytext": {
   "cell_metadata_filter": "-all",
   "main_language": "python",
   "notebook_metadata_filter": "-all"
  }
 },
 "nbformat": 4,
 "nbformat_minor": 5
}
