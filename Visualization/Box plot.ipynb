{
 "cells": [
  {
   "cell_type": "code",
   "execution_count": null,
   "id": "55c9db95",
   "metadata": {},
   "outputs": [],
   "source": [
    "# Sample data\n",
    "import pandas as pd\n",
    "import matplotlib.pyplot as plt\n",
    "import seaborn as sns"
   ]
  },
  {
   "cell_type": "code",
   "execution_count": null,
   "id": "4d95cce9",
   "metadata": {},
   "outputs": [],
   "source": [
    "data = {\n",
    "    'Category': ['A', 'A', 'A', 'B', 'B', 'B', 'C', 'C', 'C'],\n",
    "    'Value': [10, 15, 14, 22, 21, 20, 30, 35, 32]\n",
    "}"
   ]
  },
  {
   "cell_type": "code",
   "execution_count": null,
   "id": "cda64d0c",
   "metadata": {},
   "outputs": [],
   "source": [
    "df = pd.DataFrame(data)"
   ]
  },
  {
   "cell_type": "code",
   "execution_count": null,
   "id": "95491a0f",
   "metadata": {},
   "outputs": [],
   "source": [
    "# Basic box plot\n",
    "df.boxplot(column='Value', by='Category')\n",
    "plt.title('Basic Box Plot')\n",
    "plt.suptitle('')  # Suppress the automatic title to make it cleaner\n",
    "plt.xlabel('Category')\n",
    "plt.ylabel('Value')\n",
    "plt.show()"
   ]
  },
  {
   "cell_type": "code",
   "execution_count": null,
   "id": "6e7e1105",
   "metadata": {},
   "outputs": [],
   "source": [
    "# Customizing the box plot\n",
    "plt.figure(figsize=(10, 6))\n",
    "df.boxplot(column='Value', by='Category', grid=False, patch_artist=True,\n",
    "           boxprops=dict(facecolor='lightblue', color='blue'),\n",
    "           medianprops=dict(color='red'))\n",
    "plt.title('Customized Box Plot')\n",
    "plt.suptitle('')\n",
    "plt.xlabel('Category')\n",
    "plt.ylabel('Value')\n",
    "plt.show()"
   ]
  },
  {
   "cell_type": "code",
   "execution_count": null,
   "id": "0eaaa942",
   "metadata": {},
   "outputs": [],
   "source": [
    "# Advanced box plot using Seaborn\n",
    "plt.figure(figsize=(10, 6))\n",
    "sns.boxplot(data=df, x='Category', y='Value', palette='Set3')\n",
    "plt.title('Advanced Box Plot with Seaborn')\n",
    "plt.xlabel('Category')\n",
    "plt.ylabel('Value')\n",
    "plt.show()"
   ]
  }
 ],
 "metadata": {
  "jupytext": {
   "cell_metadata_filter": "-all",
   "main_language": "python",
   "notebook_metadata_filter": "-all"
  }
 },
 "nbformat": 4,
 "nbformat_minor": 5
}
