{
 "cells": [
  {
   "cell_type": "code",
   "execution_count": null,
   "id": "f16c5710",
   "metadata": {},
   "outputs": [],
   "source": [
    "import pandas as pd\n",
    "import matplotlib.pyplot as plt\n",
    "import seaborn as sns"
   ]
  },
  {
   "cell_type": "code",
   "execution_count": null,
   "id": "66741773",
   "metadata": {},
   "outputs": [],
   "source": [
    "# Sample data\n",
    "data = {\n",
    "    'Year': [2000, 2001, 2002, 2003, 2004],\n",
    "    'A': [1, 2, 3, 4, 5],\n",
    "    'B': [2, 3, 4, 5, 6],\n",
    "    'C': [3, 4, 5, 6, 7]\n",
    "}"
   ]
  },
  {
   "cell_type": "code",
   "execution_count": null,
   "id": "809f4387",
   "metadata": {},
   "outputs": [],
   "source": [
    "# Create a DataFrame\n",
    "df = pd.DataFrame(data)"
   ]
  },
  {
   "cell_type": "code",
   "execution_count": null,
   "id": "502c394f",
   "metadata": {},
   "outputs": [],
   "source": [
    "# Set 'Year' as the index\n",
    "df.set_index('Year', inplace=True)"
   ]
  },
  {
   "cell_type": "code",
   "execution_count": null,
   "id": "a1c45740",
   "metadata": {},
   "outputs": [],
   "source": [
    "# Area plot using pandas\n",
    "df.plot(kind='area', alpha=0.5)\n",
    "plt.title('Area Plot using Pandas')\n",
    "plt.xlabel('Year')\n",
    "plt.ylabel('Values')\n",
    "plt.show()"
   ]
  },
  {
   "cell_type": "code",
   "execution_count": null,
   "id": "9ee6ee19",
   "metadata": {},
   "outputs": [],
   "source": [
    "# Extracting data for Matplotlib plot\n",
    "years = df.index\n",
    "A = df['A']\n",
    "B = df['B']\n",
    "C = df['C']"
   ]
  },
  {
   "cell_type": "code",
   "execution_count": null,
   "id": "71f055d3",
   "metadata": {},
   "outputs": [],
   "source": [
    "# Area plot using Matplotlib\n",
    "plt.figure(figsize=(8, 6))\n",
    "plt.fill_between(years, A, color='skyblue', alpha=0.5, label='A')\n",
    "plt.fill_between(years, B, color='lightgreen', alpha=0.5, label='B')\n",
    "plt.fill_between(years, C, color='salmon', alpha=0.5, label='C')"
   ]
  },
  {
   "cell_type": "code",
   "execution_count": null,
   "id": "5adb0451",
   "metadata": {},
   "outputs": [],
   "source": [
    "# Add labels and title\n",
    "plt.title('Area Plot using Matplotlib')\n",
    "plt.xlabel('Year')\n",
    "plt.ylabel('Values')\n",
    "plt.legend()\n",
    "plt.show()"
   ]
  },
  {
   "cell_type": "code",
   "execution_count": null,
   "id": "02e7e25f",
   "metadata": {},
   "outputs": [],
   "source": [
    "# Area plot using Seaborn and Matplotlib\n",
    "plt.figure(figsize=(8, 6))\n",
    "sns.set_style(\"whitegrid\")"
   ]
  },
  {
   "cell_type": "code",
   "execution_count": null,
   "id": "b468284c",
   "metadata": {},
   "outputs": [],
   "source": [
    "# Create an area plot for each series\n",
    "plt.fill_between(years, A, color='skyblue', alpha=0.5, label='A')\n",
    "plt.fill_between(years, B, color='lightgreen', alpha=0.5, label='B')\n",
    "plt.fill_between(years, C, color='salmon', alpha=0.5, label='C')"
   ]
  },
  {
   "cell_type": "code",
   "execution_count": null,
   "id": "87e49a8b",
   "metadata": {},
   "outputs": [],
   "source": [
    "# Add labels and title\n",
    "plt.title('Area Plot using Seaborn and Matplotlib')\n",
    "plt.xlabel('Year')\n",
    "plt.ylabel('Values')\n",
    "plt.legend()\n",
    "plt.show()"
   ]
  }
 ],
 "metadata": {
  "jupytext": {
   "cell_metadata_filter": "-all",
   "main_language": "python",
   "notebook_metadata_filter": "-all"
  }
 },
 "nbformat": 4,
 "nbformat_minor": 5
}
