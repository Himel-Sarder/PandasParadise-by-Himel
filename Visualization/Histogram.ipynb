{
 "cells": [
  {
   "cell_type": "code",
   "execution_count": null,
   "id": "701bd32f",
   "metadata": {},
   "outputs": [],
   "source": [
    "import pandas as pd\n",
    "import seaborn as sns\n",
    "import matplotlib.pyplot as plt"
   ]
  },
  {
   "cell_type": "code",
   "execution_count": null,
   "id": "aa934ca0",
   "metadata": {},
   "outputs": [],
   "source": [
    "# Sample data\n",
    "data = [1, 2, 2, 3, 3, 3, 4, 4, 4, 4, 5, 5, 5, 5, 5]"
   ]
  },
  {
   "cell_type": "code",
   "execution_count": null,
   "id": "f8c14736",
   "metadata": {},
   "outputs": [],
   "source": [
    "# Create a DataFrame\n",
    "df = pd.DataFrame({'Value': data})"
   ]
  },
  {
   "cell_type": "code",
   "execution_count": null,
   "id": "c16bb68c",
   "metadata": {},
   "outputs": [],
   "source": [
    "# Histogram using pandas\n",
    "df.hist(bins=5, color='skyblue', edgecolor='black', linewidth=1.2)\n",
    "plt.title('Histogram using Pandas')\n",
    "plt.xlabel('Value')\n",
    "plt.ylabel('Frequency')\n",
    "plt.show()"
   ]
  },
  {
   "cell_type": "code",
   "execution_count": null,
   "id": "f6ce5e4e",
   "metadata": {},
   "outputs": [],
   "source": [
    "# Histogram using Matplotlib\n",
    "plt.figure(figsize=(8, 5))\n",
    "plt.hist(df['Value'], bins=5, color='lightgreen', edgecolor='black', linewidth=1.2)\n",
    "plt.title('Histogram using Matplotlib')\n",
    "plt.xlabel('Value')\n",
    "plt.ylabel('Frequency')\n",
    "plt.grid(True)\n",
    "plt.show()"
   ]
  },
  {
   "cell_type": "code",
   "execution_count": null,
   "id": "768412f4",
   "metadata": {},
   "outputs": [],
   "source": [
    "# Histogram using Seaborn\n",
    "plt.figure(figsize=(8, 5))\n",
    "sns.histplot(data=df, x='Value', bins=5, color='salmon', kde=False)\n",
    "plt.title('Histogram using Seaborn')\n",
    "plt.xlabel('Value')\n",
    "plt.ylabel('Frequency')\n",
    "plt.show()"
   ]
  }
 ],
 "metadata": {
  "jupytext": {
   "cell_metadata_filter": "-all",
   "main_language": "python",
   "notebook_metadata_filter": "-all"
  }
 },
 "nbformat": 4,
 "nbformat_minor": 5
}
