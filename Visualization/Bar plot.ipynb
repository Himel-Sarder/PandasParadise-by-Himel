{
 "cells": [
  {
   "cell_type": "code",
   "execution_count": null,
   "id": "8241d8af",
   "metadata": {},
   "outputs": [],
   "source": [
    "import pandas as pd\n",
    "import matplotlib.pyplot as plt\n",
    "import seaborn as sns"
   ]
  },
  {
   "cell_type": "code",
   "execution_count": null,
   "id": "6217174e",
   "metadata": {},
   "outputs": [],
   "source": [
    "# Sample DataFrame for basic and customized bar plot\n",
    "data = {\n",
    "    'Category': ['A', 'B', 'C', 'D', 'E', 'F'],\n",
    "    'Value': [10, 20, 15, 25, 30, 5]\n",
    "}"
   ]
  },
  {
   "cell_type": "code",
   "execution_count": null,
   "id": "63772b39",
   "metadata": {},
   "outputs": [],
   "source": [
    "df = pd.DataFrame(data)"
   ]
  },
  {
   "cell_type": "code",
   "execution_count": null,
   "id": "dc4b4400",
   "metadata": {},
   "outputs": [],
   "source": [
    "# Basic bar plot\n",
    "df.plot(kind='bar', x='Category', y='Value')\n",
    "plt.title('Basic Bar Plot')\n",
    "plt.xlabel('Category')\n",
    "plt.ylabel('Value')\n",
    "plt.show()"
   ]
  },
  {
   "cell_type": "code",
   "execution_count": null,
   "id": "69f67c4d",
   "metadata": {},
   "outputs": [],
   "source": [
    "# Customizing the bar plot\n",
    "plt.figure(figsize=(8, 5))\n",
    "plt.bar(df['Category'], df['Value'], color='skyblue')\n",
    "plt.title('Customized Bar Plot')\n",
    "plt.xlabel('Category')\n",
    "plt.ylabel('Value')\n",
    "plt.grid(True, axis='y', linestyle='--', alpha=0.7)\n",
    "plt.show()"
   ]
  },
  {
   "cell_type": "code",
   "execution_count": null,
   "id": "3bdd17ce",
   "metadata": {},
   "outputs": [],
   "source": [
    "# Advanced bar plot using Seaborn\n",
    "plt.figure(figsize=(8, 5))\n",
    "sns.barplot(data=df, x='Category', y='Value', palette='viridis')\n",
    "plt.title('Advanced Bar Plot with Seaborn')\n",
    "plt.xlabel('Category')\n",
    "plt.ylabel('Value')\n",
    "plt.show()"
   ]
  }
 ],
 "metadata": {
  "jupytext": {
   "cell_metadata_filter": "-all",
   "main_language": "python",
   "notebook_metadata_filter": "-all"
  }
 },
 "nbformat": 4,
 "nbformat_minor": 5
}
