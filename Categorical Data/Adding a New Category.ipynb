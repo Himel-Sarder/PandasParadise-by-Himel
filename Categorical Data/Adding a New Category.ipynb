{
 "cells": [
  {
   "cell_type": "code",
   "execution_count": null,
   "id": "e220ad71",
   "metadata": {},
   "outputs": [],
   "source": [
    "import pandas as pd"
   ]
  },
  {
   "cell_type": "code",
   "execution_count": null,
   "id": "ce57e70f",
   "metadata": {},
   "outputs": [],
   "source": [
    "# Creating a sample DataFrame\n",
    "data = {'Category': ['A', 'B', 'A', 'C', 'B', 'C', 'A'],\n",
    "        'Value': [10, 20, 30, 40, 50, 60, 70],\n",
    "        'Type': ['X', 'Y', 'X', 'Y', 'X', 'Y', 'X']}"
   ]
  },
  {
   "cell_type": "code",
   "execution_count": null,
   "id": "8297a593",
   "metadata": {},
   "outputs": [],
   "source": [
    "df = pd.DataFrame(data)"
   ]
  },
  {
   "cell_type": "code",
   "execution_count": null,
   "id": "8b0e6b7c",
   "metadata": {},
   "outputs": [],
   "source": [
    "# Display the original DataFrame\n",
    "print(\"Original DataFrame:\")\n",
    "print(df)\n",
    "df['Category'] = df['Category'].astype('category')\n",
    "df['Type'] = df['Type'].astype('category')"
   ]
  },
  {
   "cell_type": "code",
   "execution_count": null,
   "id": "61ce69e2",
   "metadata": {
    "lines_to_next_cell": 2
   },
   "outputs": [],
   "source": [
    "# Display the data types of the DataFrame\n",
    "print(\"\\nData Types after Conversion:\")\n",
    "print(df.dtypes)"
   ]
  },
  {
   "cell_type": "code",
   "execution_count": null,
   "id": "43e49ede",
   "metadata": {},
   "outputs": [],
   "source": [
    "# Add a new category 'D' to ensure there is a category to remove\n",
    "df['Category'] = df['Category'].cat.add_categories(['D'])"
   ]
  },
  {
   "cell_type": "code",
   "execution_count": null,
   "id": "2b2ef190",
   "metadata": {},
   "outputs": [],
   "source": [
    "# Display categories after adding 'D'\n",
    "print(\"\\nCategories after Adding 'D':\")\n",
    "print(df['Category'].cat.categories)"
   ]
  }
 ],
 "metadata": {
  "jupytext": {
   "cell_metadata_filter": "-all",
   "main_language": "python",
   "notebook_metadata_filter": "-all"
  }
 },
 "nbformat": 4,
 "nbformat_minor": 5
}
