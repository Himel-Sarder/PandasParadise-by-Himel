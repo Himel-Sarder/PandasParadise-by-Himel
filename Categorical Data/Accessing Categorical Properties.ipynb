{
 "cells": [
  {
   "cell_type": "code",
   "execution_count": null,
   "id": "2864acfc",
   "metadata": {},
   "outputs": [],
   "source": [
    "import pandas as pd"
   ]
  },
  {
   "cell_type": "code",
   "execution_count": null,
   "id": "0f86dc1e",
   "metadata": {},
   "outputs": [],
   "source": [
    "# Creating a sample DataFrame\n",
    "data = {'Category': ['A', 'B', 'A', 'C', 'B', 'C', 'A'],\n",
    "        'Value': [10, 20, 30, 40, 50, 60, 70],\n",
    "        'Type': ['X', 'Y', 'X', 'Y', 'X', 'Y', 'X']}"
   ]
  },
  {
   "cell_type": "code",
   "execution_count": null,
   "id": "be6a0562",
   "metadata": {},
   "outputs": [],
   "source": [
    "df = pd.DataFrame(data)\n",
    "df['Category'] = df['Category'].astype('category')\n",
    "df['Type'] = df['Type'].astype('category')"
   ]
  },
  {
   "cell_type": "code",
   "execution_count": null,
   "id": "ff4c6eb9",
   "metadata": {},
   "outputs": [],
   "source": [
    "# Display the data types of the DataFrame\n",
    "print(\"\\nData Types after Conversion:\")\n",
    "print(df.dtypes)"
   ]
  },
  {
   "cell_type": "code",
   "execution_count": null,
   "id": "b1a2acc9",
   "metadata": {},
   "outputs": [],
   "source": [
    "# Display the original DataFrame\n",
    "print(\"Original DataFrame:\")\n",
    "print(df)"
   ]
  },
  {
   "cell_type": "markdown",
   "id": "e27cee35",
   "metadata": {
    "lines_to_next_cell": 2
   },
   "source": [
    "You can access properties\n",
    "specific to categorical data using\n",
    "the cat accessor."
   ]
  },
  {
   "cell_type": "code",
   "execution_count": null,
   "id": "58e85d39",
   "metadata": {},
   "outputs": [],
   "source": [
    "# Accessing the categories\n",
    "print(\"\\nCategories of 'Category' Column:\")\n",
    "print(df['Category'].cat.categories)"
   ]
  },
  {
   "cell_type": "code",
   "execution_count": null,
   "id": "3545c7bd",
   "metadata": {},
   "outputs": [],
   "source": [
    "# Accessing the codes\n",
    "print(\"\\nCodes of 'Category' Column:\")\n",
    "print(df['Category'].cat.codes)"
   ]
  },
  {
   "cell_type": "code",
   "execution_count": null,
   "id": "12fbdf0f",
   "metadata": {},
   "outputs": [],
   "source": []
  }
 ],
 "metadata": {
  "jupytext": {
   "cell_metadata_filter": "-all",
   "main_language": "python",
   "notebook_metadata_filter": "-all"
  }
 },
 "nbformat": 4,
 "nbformat_minor": 5
}
