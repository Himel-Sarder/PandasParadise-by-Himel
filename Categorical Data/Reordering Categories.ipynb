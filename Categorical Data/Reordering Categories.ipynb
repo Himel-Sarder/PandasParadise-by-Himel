{
 "cells": [
  {
   "cell_type": "code",
   "execution_count": null,
   "id": "1959c598",
   "metadata": {},
   "outputs": [],
   "source": [
    "import pandas as pd"
   ]
  },
  {
   "cell_type": "code",
   "execution_count": null,
   "id": "a5aacafe",
   "metadata": {},
   "outputs": [],
   "source": [
    "# Creating a sample DataFrame\n",
    "data = {'Category': ['A', 'B', 'A', 'C', 'B', 'C', 'A'],\n",
    "        'Value': [10, 20, 30, 40, 50, 60, 70],\n",
    "        'Type': ['X', 'Y', 'X', 'Y', 'X', 'Y', 'X']}"
   ]
  },
  {
   "cell_type": "code",
   "execution_count": null,
   "id": "3bad24c6",
   "metadata": {},
   "outputs": [],
   "source": [
    "df = pd.DataFrame(data)"
   ]
  },
  {
   "cell_type": "code",
   "execution_count": null,
   "id": "426c5832",
   "metadata": {},
   "outputs": [],
   "source": [
    "# Display the original DataFrame\n",
    "print(\"Original DataFrame:\")\n",
    "print(df)"
   ]
  },
  {
   "cell_type": "code",
   "execution_count": null,
   "id": "de7e3a51",
   "metadata": {},
   "outputs": [],
   "source": [
    "df['Category'] = df['Category'].astype('category')\n",
    "df['Type'] = df['Type'].astype('category')"
   ]
  },
  {
   "cell_type": "code",
   "execution_count": null,
   "id": "dba708f9",
   "metadata": {},
   "outputs": [],
   "source": [
    "# Display the data types of the DataFrame\n",
    "print(\"\\nData Types after Conversion:\")\n",
    "print(df.dtypes)"
   ]
  },
  {
   "cell_type": "code",
   "execution_count": null,
   "id": "0c9f0457",
   "metadata": {},
   "outputs": [],
   "source": [
    "# Reordering the categories\n",
    "df['Category'] = df['Category'].cat.reorder_categories(['C', 'B', 'A'], ordered=True)\n",
    "print(\"\\nCategories after Reordering:\")\n",
    "print(df['Category'].cat.categories)"
   ]
  }
 ],
 "metadata": {
  "jupytext": {
   "cell_metadata_filter": "-all",
   "main_language": "python",
   "notebook_metadata_filter": "-all"
  }
 },
 "nbformat": 4,
 "nbformat_minor": 5
}
