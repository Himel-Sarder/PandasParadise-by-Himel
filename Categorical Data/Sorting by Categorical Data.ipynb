{
 "cells": [
  {
   "cell_type": "code",
   "execution_count": null,
   "id": "289105d7",
   "metadata": {},
   "outputs": [],
   "source": [
    "import pandas as pd"
   ]
  },
  {
   "cell_type": "code",
   "execution_count": null,
   "id": "c6a800c1",
   "metadata": {},
   "outputs": [],
   "source": [
    "# Creating a sample DataFrame\n",
    "data = {'Category': ['A', 'B', 'A', 'C', 'B', 'C', 'A'],\n",
    "        'Value': [10, 20, 30, 40, 50, 60, 70],\n",
    "        'Type': ['X', 'Y', 'X', 'Y', 'X', 'Y', 'X']}"
   ]
  },
  {
   "cell_type": "code",
   "execution_count": null,
   "id": "cd6c3c5f",
   "metadata": {},
   "outputs": [],
   "source": [
    "df = pd.DataFrame(data)"
   ]
  },
  {
   "cell_type": "code",
   "execution_count": null,
   "id": "36751f60",
   "metadata": {},
   "outputs": [],
   "source": [
    "# Display the original DataFrame\n",
    "print(\"Original DataFrame:\")\n",
    "print(df)"
   ]
  },
  {
   "cell_type": "code",
   "execution_count": null,
   "id": "1c9b4cec",
   "metadata": {},
   "outputs": [],
   "source": [
    "# Sorting the DataFrame by the 'Category' column\n",
    "df_sorted = df.sort_values(by='Category')"
   ]
  },
  {
   "cell_type": "code",
   "execution_count": null,
   "id": "a0e32107",
   "metadata": {},
   "outputs": [],
   "source": [
    "print(df_sorted)"
   ]
  },
  {
   "cell_type": "code",
   "execution_count": null,
   "id": "0a654fc2",
   "metadata": {},
   "outputs": [],
   "source": [
    "# Sorting the DataFrame by the 'Value' column\n",
    "df_sorted2 = df.sort_values(by='Value')"
   ]
  },
  {
   "cell_type": "code",
   "execution_count": null,
   "id": "f789a935",
   "metadata": {},
   "outputs": [],
   "source": [
    "print(df_sorted2)"
   ]
  }
 ],
 "metadata": {
  "jupytext": {
   "cell_metadata_filter": "-all",
   "main_language": "python",
   "notebook_metadata_filter": "-all"
  }
 },
 "nbformat": 4,
 "nbformat_minor": 5
}
