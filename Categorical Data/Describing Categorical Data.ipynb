{
 "cells": [
  {
   "cell_type": "code",
   "execution_count": null,
   "id": "3db4cac5",
   "metadata": {},
   "outputs": [],
   "source": [
    "import pandas as pd"
   ]
  },
  {
   "cell_type": "code",
   "execution_count": null,
   "id": "a0ebca71",
   "metadata": {},
   "outputs": [],
   "source": [
    "# Creating a sample DataFrame\n",
    "data = {'Category': ['A', 'B', 'A', 'C', 'B', 'C', 'A'],\n",
    "        'Value': [10, 20, 30, 40, 50, 60, 70],\n",
    "        'Type': ['X', 'Y', 'X', 'Y', 'X', 'Y', 'X']}"
   ]
  },
  {
   "cell_type": "code",
   "execution_count": null,
   "id": "e3ff84e7",
   "metadata": {},
   "outputs": [],
   "source": [
    "df = pd.DataFrame(data)"
   ]
  },
  {
   "cell_type": "code",
   "execution_count": null,
   "id": "4c802b25",
   "metadata": {},
   "outputs": [],
   "source": [
    "# Display the original DataFrame\n",
    "print(\"Original DataFrame:\")\n",
    "print(df)"
   ]
  },
  {
   "cell_type": "code",
   "execution_count": null,
   "id": "503a867c",
   "metadata": {},
   "outputs": [],
   "source": [
    "df['Category'] = df['Category'].astype('category')\n",
    "df['Type'] = df['Type'].astype('category')"
   ]
  },
  {
   "cell_type": "code",
   "execution_count": null,
   "id": "0d6788d0",
   "metadata": {},
   "outputs": [],
   "source": [
    "# Display the data types of the DataFrame\n",
    "print(\"\\nData Types after Conversion:\")\n",
    "print(df.dtypes)"
   ]
  },
  {
   "cell_type": "code",
   "execution_count": null,
   "id": "360bccd1",
   "metadata": {},
   "outputs": [],
   "source": [
    "# Describing the categorical data\n",
    "print(\"\\nDescribing Categorical Data:\")\n",
    "print(df.describe(include='category'))"
   ]
  }
 ],
 "metadata": {
  "jupytext": {
   "cell_metadata_filter": "-all",
   "main_language": "python",
   "notebook_metadata_filter": "-all"
  }
 },
 "nbformat": 4,
 "nbformat_minor": 5
}
