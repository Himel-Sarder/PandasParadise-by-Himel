{
 "cells": [
  {
   "cell_type": "code",
   "execution_count": null,
   "id": "09cb50e2",
   "metadata": {},
   "outputs": [],
   "source": [
    "import pandas as pd"
   ]
  },
  {
   "cell_type": "code",
   "execution_count": null,
   "id": "1f31859f",
   "metadata": {},
   "outputs": [],
   "source": [
    "# Creating a sample DataFrame\n",
    "data = {'A': [1, 2, 3],\n",
    "        'B': [4, 5, 6],\n",
    "        'C': [7, 8, 9]}"
   ]
  },
  {
   "cell_type": "code",
   "execution_count": null,
   "id": "de4a7ddf",
   "metadata": {},
   "outputs": [],
   "source": [
    "df = pd.DataFrame(data)"
   ]
  },
  {
   "cell_type": "code",
   "execution_count": null,
   "id": "b258f7c8",
   "metadata": {
    "lines_to_next_cell": 1
   },
   "outputs": [],
   "source": [
    "def add_one(df):\n",
    "    return df + 1"
   ]
  },
  {
   "cell_type": "code",
   "execution_count": null,
   "id": "d5e83cc9",
   "metadata": {
    "lines_to_next_cell": 1
   },
   "outputs": [],
   "source": [
    "def multiply_by_two(df):\n",
    "    return df * 2"
   ]
  },
  {
   "cell_type": "code",
   "execution_count": null,
   "id": "048aa009",
   "metadata": {},
   "outputs": [],
   "source": [
    "# Chain the custom functions using pipe()\n",
    "result = df.pipe(add_one).pipe(multiply_by_two)"
   ]
  },
  {
   "cell_type": "code",
   "execution_count": null,
   "id": "0ca96ebd",
   "metadata": {},
   "outputs": [],
   "source": [
    "print(\"Result after chaining custom functions:\")\n",
    "print(result)"
   ]
  }
 ],
 "metadata": {
  "jupytext": {
   "cell_metadata_filter": "-all",
   "main_language": "python",
   "notebook_metadata_filter": "-all"
  }
 },
 "nbformat": 4,
 "nbformat_minor": 5
}
