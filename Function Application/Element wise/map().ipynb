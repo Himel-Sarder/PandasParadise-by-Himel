{
 "cells": [
  {
   "cell_type": "code",
   "execution_count": null,
   "id": "e8981ab1",
   "metadata": {},
   "outputs": [],
   "source": [
    "'''import pandas as pd\n",
    "\n",
    "# Creating a sample Series\n",
    "s = pd.Series(['apple', 'banana', 'cherry'])\n",
    "\n",
    "# Define a mapping dictionary\n",
    "mapping = {'apple': 'fruit', 'banana': 'fruit', 'cherry': 'fruit'}\n",
    "\n",
    "# Using map with a dictionary\n",
    "result_dict = s.map(mapping)\n",
    "print(\"Using map with a dictionary:\")\n",
    "print(result_dict)\n",
    "'''"
   ]
  },
  {
   "cell_type": "code",
   "execution_count": null,
   "id": "1f786763",
   "metadata": {
    "lines_to_next_cell": 1
   },
   "outputs": [],
   "source": [
    "import pandas as pd\n",
    "# Define a function\n",
    "s = pd.Series(['apple', 'banana', 'cherry'])"
   ]
  },
  {
   "cell_type": "code",
   "execution_count": null,
   "id": "4bc8a480",
   "metadata": {
    "lines_to_next_cell": 1
   },
   "outputs": [],
   "source": [
    "def classify(fruit):\n",
    "    if fruit in ['apple', 'banana', 'mango']:\n",
    "        return 'fruit'\n",
    "    else:\n",
    "        return 'Unknown'"
   ]
  },
  {
   "cell_type": "code",
   "execution_count": null,
   "id": "e20e11e2",
   "metadata": {},
   "outputs": [],
   "source": [
    "result = s.map(classify)\n",
    "print(result)"
   ]
  }
 ],
 "metadata": {
  "jupytext": {
   "cell_metadata_filter": "-all",
   "main_language": "python",
   "notebook_metadata_filter": "-all"
  }
 },
 "nbformat": 4,
 "nbformat_minor": 5
}
