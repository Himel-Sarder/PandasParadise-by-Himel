{
 "cells": [
  {
   "cell_type": "code",
   "execution_count": null,
   "id": "0ab265a0",
   "metadata": {},
   "outputs": [],
   "source": [
    "import pandas as pd"
   ]
  },
  {
   "cell_type": "code",
   "execution_count": null,
   "id": "db4c41b9",
   "metadata": {},
   "outputs": [],
   "source": [
    "# Creating a sample DataFrame\n",
    "data = {'A': [1, 2, 3],\n",
    "        'B': [4, 5, 6],\n",
    "        'C': [7, 8, 9]}"
   ]
  },
  {
   "cell_type": "code",
   "execution_count": null,
   "id": "f5e97187",
   "metadata": {
    "lines_to_next_cell": 1
   },
   "outputs": [],
   "source": [
    "df = pd.DataFrame(data)"
   ]
  },
  {
   "cell_type": "code",
   "execution_count": null,
   "id": "181a13e0",
   "metadata": {
    "lines_to_next_cell": 1
   },
   "outputs": [],
   "source": [
    "# Define a function to calculate the sum of each row\n",
    "def sum_row(row):\n",
    "    return row.sum()"
   ]
  },
  {
   "cell_type": "code",
   "execution_count": null,
   "id": "3efff147",
   "metadata": {},
   "outputs": [],
   "source": [
    "# Apply the function row-wise (along axis=1)\n",
    "row_sum = df.apply(sum_row, axis=1)"
   ]
  },
  {
   "cell_type": "code",
   "execution_count": null,
   "id": "9a9f8e9f",
   "metadata": {
    "lines_to_next_cell": 1
   },
   "outputs": [],
   "source": [
    "print(\"Sum of each row:\")\n",
    "print(row_sum)"
   ]
  },
  {
   "cell_type": "code",
   "execution_count": null,
   "id": "ecdcd83a",
   "metadata": {
    "lines_to_next_cell": 1
   },
   "outputs": [],
   "source": [
    "# Define a function to calculate the sum of each column\n",
    "def sum_column(column):\n",
    "    return column.sum()"
   ]
  },
  {
   "cell_type": "code",
   "execution_count": null,
   "id": "5046e554",
   "metadata": {},
   "outputs": [],
   "source": [
    "# Apply the function column-wise (along axis=0)\n",
    "column_sum = df.apply(sum_column, axis=0)"
   ]
  },
  {
   "cell_type": "code",
   "execution_count": null,
   "id": "5b6fa894",
   "metadata": {},
   "outputs": [],
   "source": [
    "print(\"\\nSum of each column:\")\n",
    "print(column_sum)"
   ]
  }
 ],
 "metadata": {
  "jupytext": {
   "cell_metadata_filter": "-all",
   "main_language": "python",
   "notebook_metadata_filter": "-all"
  }
 },
 "nbformat": 4,
 "nbformat_minor": 5
}
