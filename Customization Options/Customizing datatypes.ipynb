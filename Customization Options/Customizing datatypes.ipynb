{
 "cells": [
  {
   "cell_type": "code",
   "execution_count": null,
   "id": "66dc2807",
   "metadata": {},
   "outputs": [],
   "source": [
    "import pandas as pd"
   ]
  },
  {
   "cell_type": "code",
   "execution_count": null,
   "id": "65a5b77b",
   "metadata": {},
   "outputs": [],
   "source": [
    "# Creating a sample DataFrame\n",
    "data = {'A': ['1', '2', '3'],\n",
    "        'B': [4.5, 5.6, 6.7]}"
   ]
  },
  {
   "cell_type": "code",
   "execution_count": null,
   "id": "0ff4a0fd",
   "metadata": {},
   "outputs": [],
   "source": [
    "df = pd.DataFrame(data)"
   ]
  },
  {
   "cell_type": "code",
   "execution_count": null,
   "id": "6426f4a9",
   "metadata": {},
   "outputs": [],
   "source": [
    "# Converting column 'A' to integers\n",
    "df['A'] = df['A'].astype(int)"
   ]
  },
  {
   "cell_type": "code",
   "execution_count": null,
   "id": "6046f4f0",
   "metadata": {},
   "outputs": [],
   "source": [
    "# Converting column 'B' to integers\n",
    "df['B'] = df['B'].astype(int)"
   ]
  },
  {
   "cell_type": "code",
   "execution_count": null,
   "id": "cb2f1e0a",
   "metadata": {},
   "outputs": [],
   "source": [
    "print(df.dtypes)"
   ]
  },
  {
   "cell_type": "code",
   "execution_count": null,
   "id": "a9f0aeb9",
   "metadata": {},
   "outputs": [],
   "source": []
  },
  {
   "cell_type": "code",
   "execution_count": null,
   "id": "6e041333",
   "metadata": {
    "lines_to_next_cell": 2
   },
   "outputs": [],
   "source": []
  },
  {
   "cell_type": "code",
   "execution_count": null,
   "id": "6163718e",
   "metadata": {},
   "outputs": [],
   "source": [
    "# Converting column 'A' to integers using pd.to_numeric()\n",
    "df['A'] = pd.to_numeric(df['A'])"
   ]
  },
  {
   "cell_type": "code",
   "execution_count": null,
   "id": "4e6cea60",
   "metadata": {},
   "outputs": [],
   "source": [
    "print(df.dtypes)"
   ]
  },
  {
   "cell_type": "code",
   "execution_count": null,
   "id": "4dc506f6",
   "metadata": {},
   "outputs": [],
   "source": []
  },
  {
   "cell_type": "code",
   "execution_count": null,
   "id": "56cd724e",
   "metadata": {
    "lines_to_next_cell": 2
   },
   "outputs": [],
   "source": []
  },
  {
   "cell_type": "code",
   "execution_count": null,
   "id": "2985528d",
   "metadata": {},
   "outputs": [],
   "source": [
    "# Creating a sample Series with dates as strings\n",
    "dates = pd.Series(['2022-01-01', '2022-02-01', '2022-03-01'])"
   ]
  },
  {
   "cell_type": "code",
   "execution_count": null,
   "id": "f005fb3a",
   "metadata": {},
   "outputs": [],
   "source": [
    "# Converting strings to datetime objects\n",
    "dates = pd.to_datetime(dates)"
   ]
  },
  {
   "cell_type": "code",
   "execution_count": null,
   "id": "292c1a14",
   "metadata": {},
   "outputs": [],
   "source": [
    "print(dates)"
   ]
  }
 ],
 "metadata": {
  "jupytext": {
   "cell_metadata_filter": "-all",
   "main_language": "python",
   "notebook_metadata_filter": "-all"
  }
 },
 "nbformat": 4,
 "nbformat_minor": 5
}
