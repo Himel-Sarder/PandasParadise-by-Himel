{
 "cells": [
  {
   "cell_type": "code",
   "execution_count": null,
   "id": "1bac9ea9",
   "metadata": {},
   "outputs": [],
   "source": [
    "import pandas as pd"
   ]
  },
  {
   "cell_type": "code",
   "execution_count": null,
   "id": "7f43d6ed",
   "metadata": {},
   "outputs": [],
   "source": [
    "# Creating a sample DataFrame\n",
    "data = {'A': [1.123456789, 2.987654321, 3.555555555, 4.7777777],\n",
    "        'B': [4.123456789, 5.987654321, 6.555555555, 8.4444444],\n",
    "        'C': [7.123456789, 8.987654321, 9.555555555, 3.2222222]}"
   ]
  },
  {
   "cell_type": "code",
   "execution_count": null,
   "id": "cec6c314",
   "metadata": {},
   "outputs": [],
   "source": [
    "df = pd.DataFrame(data)"
   ]
  },
  {
   "cell_type": "code",
   "execution_count": null,
   "id": "bfee9a82",
   "metadata": {},
   "outputs": [],
   "source": [
    "# Setting display options\n",
    "pd.set_option('display.max_rows', 3)  # Maximum number of rows to display\n",
    "pd.set_option('display.max_columns', 2)  # Maximum number of columns to display\n",
    "pd.set_option('display.width', 80)  # Maximum width of the display\n",
    "pd.set_option('display.precision', 2)  # Number of digits of precision for floating-point numbers"
   ]
  },
  {
   "cell_type": "code",
   "execution_count": null,
   "id": "7eedb0f3",
   "metadata": {},
   "outputs": [],
   "source": [
    "# Displaying the DataFrame\n",
    "print(\"DataFrame with customized display options:\")\n",
    "print(df)"
   ]
  },
  {
   "cell_type": "code",
   "execution_count": null,
   "id": "6395a381",
   "metadata": {},
   "outputs": [],
   "source": [
    "# Resetting display options to default\n",
    "pd.reset_option('display.max_rows')\n",
    "pd.reset_option('display.max_columns')\n",
    "pd.reset_option('display.width')\n",
    "pd.reset_option('display.precision')"
   ]
  },
  {
   "cell_type": "code",
   "execution_count": null,
   "id": "f32f0a42",
   "metadata": {},
   "outputs": [],
   "source": [
    "print(df)"
   ]
  }
 ],
 "metadata": {
  "jupytext": {
   "cell_metadata_filter": "-all",
   "main_language": "python",
   "notebook_metadata_filter": "-all"
  }
 },
 "nbformat": 4,
 "nbformat_minor": 5
}
