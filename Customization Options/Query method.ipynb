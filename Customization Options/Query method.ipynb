{
 "cells": [
  {
   "cell_type": "markdown",
   "id": "fe5dede3",
   "metadata": {},
   "source": [
    "In pandas, the query() method is used to filter rows from a DataFrame based on a specified condition expressed as a string.\n",
    "This method provides a convenient way to select rows that meet certain criteria without needing to use traditional boolean indexing. Here's how you can use the query() method:"
   ]
  },
  {
   "cell_type": "code",
   "execution_count": null,
   "id": "924619d2",
   "metadata": {},
   "outputs": [],
   "source": [
    "import pandas as pd"
   ]
  },
  {
   "cell_type": "code",
   "execution_count": null,
   "id": "a2cda0dd",
   "metadata": {},
   "outputs": [],
   "source": [
    "# Creating a sample DataFrame\n",
    "data = {'A': [1, 2, 3, 4, 5],\n",
    "        'B': [10, 20, 30, 40, 50],\n",
    "        'C': ['a', 'b', 'c', 'd', 'e']}"
   ]
  },
  {
   "cell_type": "code",
   "execution_count": null,
   "id": "d61409c3",
   "metadata": {},
   "outputs": [],
   "source": [
    "df = pd.DataFrame(data)"
   ]
  },
  {
   "cell_type": "code",
   "execution_count": null,
   "id": "e310a610",
   "metadata": {},
   "outputs": [],
   "source": [
    "# Using query method to filter rows\n",
    "result = df.query('A > 2')  # Select rows where column 'A' is greater than 2\n",
    "print(\"Rows where A > 2:\")\n",
    "print(result)"
   ]
  },
  {
   "cell_type": "code",
   "execution_count": null,
   "id": "6827ca24",
   "metadata": {},
   "outputs": [],
   "source": [
    "'''\n",
    "Output:\n",
    "\n",
    "Rows where A > 2:\n",
    "   A   B  C\n",
    "2  3  30  c\n",
    "3  4  40  d\n",
    "4  5  50  e\n",
    "\n",
    "# In this example, the query() method is used to filter rows where the values in column 'A' are greater than 2. \n",
    "The query expression 'A > 2' is provided as a string, and the method returns a DataFrame containing only the rows that satisfy the condition.\n",
    "\n",
    "# You can use various operators and logical expressions in the query string, such as >, <, >=, <=, ==, !=, and, or, not, in, not in, etc., to express \n",
    "different filtering conditions. The query() method is particularly useful when dealing with large datasets or complex filtering conditions.\n",
    "'''"
   ]
  },
  {
   "cell_type": "markdown",
   "id": "15020985",
   "metadata": {},
   "source": [
    "import pandas as pd"
   ]
  },
  {
   "cell_type": "code",
   "execution_count": null,
   "id": "01dfb774",
   "metadata": {},
   "outputs": [],
   "source": [
    "# Creating a sample DataFrame\n",
    "data = {'Product': ['A', 'B', 'C', 'D', 'E'],\n",
    "        'Price': [100, 150, 200, 250, 300],\n",
    "        'Quantity': [50, 60, 70, 80, 90]}"
   ]
  },
  {
   "cell_type": "code",
   "execution_count": null,
   "id": "515c0be8",
   "metadata": {},
   "outputs": [],
   "source": [
    "df = pd.DataFrame(data)"
   ]
  },
  {
   "cell_type": "code",
   "execution_count": null,
   "id": "00fe610d",
   "metadata": {},
   "outputs": [],
   "source": [
    "# Using query method to filter rows\n",
    "result = df.query('Price > 150 and Quantity < 80')  # Select rows where Price > 150 and Quantity < 80\n",
    "print(\"Rows where Price > 150 and Quantity < 80:\")\n",
    "print(result)"
   ]
  },
  {
   "cell_type": "code",
   "execution_count": null,
   "id": "d71f5b4c",
   "metadata": {},
   "outputs": [],
   "source": [
    "'''\n",
    "Output:\n",
    "\n",
    "Rows where Price > 150 and Quantity < 80:\n",
    "  Product  Price  Quantity\n",
    "3       D    250        80\n",
    "\n",
    "In this example, we're filtering rows where the price is greater than 150 and the quantity is less than 80. \n",
    "The query string 'Price > 150 and Quantity < 80' expresses this condition, and the query() method returns a DataFrame containing only the rows that satisfy both conditions.\n",
    "'''"
   ]
  }
 ],
 "metadata": {
  "jupytext": {
   "cell_metadata_filter": "-all",
   "main_language": "python",
   "notebook_metadata_filter": "-all"
  }
 },
 "nbformat": 4,
 "nbformat_minor": 5
}
