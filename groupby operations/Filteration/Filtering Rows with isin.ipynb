{
 "cells": [
  {
   "cell_type": "code",
   "execution_count": null,
   "id": "7fbbb206",
   "metadata": {},
   "outputs": [],
   "source": [
    "import pandas as pd"
   ]
  },
  {
   "cell_type": "code",
   "execution_count": null,
   "id": "fdd292ea",
   "metadata": {},
   "outputs": [],
   "source": [
    "# Creating a sample DataFrame\n",
    "data = {'Category': ['A', 'B', 'A', 'B', 'A', 'B'],\n",
    "        'Value': [10, 20, 30, 40, 50, 60],\n",
    "        'Count': [1, 2, 3, 4, 5, 6]}"
   ]
  },
  {
   "cell_type": "code",
   "execution_count": null,
   "id": "8edde862",
   "metadata": {},
   "outputs": [],
   "source": [
    "df = pd.DataFrame(data)"
   ]
  },
  {
   "cell_type": "code",
   "execution_count": null,
   "id": "ca7594f6",
   "metadata": {},
   "outputs": [],
   "source": [
    "# Display the original DataFrame\n",
    "print(\"Original DataFrame:\")\n",
    "print(df)"
   ]
  },
  {
   "cell_type": "code",
   "execution_count": null,
   "id": "5008cb6f",
   "metadata": {},
   "outputs": [],
   "source": [
    "# Filter rows where the Category is\n",
    "# either 'A' or 'C'.\n",
    "filtered_df = df[df['Category'].isin(['A','C'])]"
   ]
  },
  {
   "cell_type": "code",
   "execution_count": null,
   "id": "f7279ab0",
   "metadata": {},
   "outputs": [],
   "source": [
    "print(filtered_df)"
   ]
  }
 ],
 "metadata": {
  "jupytext": {
   "cell_metadata_filter": "-all",
   "main_language": "python",
   "notebook_metadata_filter": "-all"
  }
 },
 "nbformat": 4,
 "nbformat_minor": 5
}
