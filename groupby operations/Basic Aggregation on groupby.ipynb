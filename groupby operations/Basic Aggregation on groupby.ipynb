{
 "cells": [
  {
   "cell_type": "code",
   "execution_count": null,
   "id": "76ffb45e",
   "metadata": {},
   "outputs": [],
   "source": [
    "import pandas as pd"
   ]
  },
  {
   "cell_type": "code",
   "execution_count": null,
   "id": "b63476d3",
   "metadata": {},
   "outputs": [],
   "source": [
    "# Creating a sample DataFrame\n",
    "data = {'Category': ['A', 'B', 'A', 'B', 'A'],\n",
    "        'Value': [10, 20, 30, 40, 50],\n",
    "        'Count': [1, 2, 3, 4, 5]}"
   ]
  },
  {
   "cell_type": "code",
   "execution_count": null,
   "id": "a473c593",
   "metadata": {},
   "outputs": [],
   "source": [
    "df = pd.DataFrame(data)"
   ]
  },
  {
   "cell_type": "code",
   "execution_count": null,
   "id": "0c78118d",
   "metadata": {},
   "outputs": [],
   "source": [
    "# Grouping by 'Category' and calculating\n",
    "# the sum of 'Value' and 'Count'\n",
    "result1 = df.groupby('Category').sum()\n",
    "print(result1)"
   ]
  },
  {
   "cell_type": "code",
   "execution_count": null,
   "id": "b73784d1",
   "metadata": {},
   "outputs": [],
   "source": [
    "# Grouping by 'Category' and calculating\n",
    "# the mean of 'Value' and 'Count'\n",
    "result2 = df.groupby('Category').mean()\n",
    "print(result2)"
   ]
  },
  {
   "cell_type": "code",
   "execution_count": null,
   "id": "cce4192b",
   "metadata": {},
   "outputs": [],
   "source": [
    "# Grouping by 'Category' and calculating\n",
    "# the count of 'Value' and 'Count'\n",
    "result3 = df.groupby('Category').count()\n",
    "print(result3)"
   ]
  }
 ],
 "metadata": {
  "jupytext": {
   "cell_metadata_filter": "-all",
   "main_language": "python",
   "notebook_metadata_filter": "-all"
  }
 },
 "nbformat": 4,
 "nbformat_minor": 5
}
