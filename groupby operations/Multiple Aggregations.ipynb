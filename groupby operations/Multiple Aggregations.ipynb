{
 "cells": [
  {
   "cell_type": "code",
   "execution_count": null,
   "id": "0711b2b0",
   "metadata": {},
   "outputs": [],
   "source": [
    "import pandas as pd"
   ]
  },
  {
   "cell_type": "code",
   "execution_count": null,
   "id": "ef02f069",
   "metadata": {},
   "outputs": [],
   "source": [
    "# Creating a sample DataFrame\n",
    "data = {'Category': ['A', 'B', 'A', 'B', 'A'],\n",
    "        'Value': [10, 20, 30, 40, 50],\n",
    "        'Count': [1, 2, 3, 4, 5]}"
   ]
  },
  {
   "cell_type": "code",
   "execution_count": null,
   "id": "c77d117e",
   "metadata": {},
   "outputs": [],
   "source": [
    "df = pd.DataFrame(data)"
   ]
  },
  {
   "cell_type": "code",
   "execution_count": null,
   "id": "b5fd143d",
   "metadata": {},
   "outputs": [],
   "source": [
    "# Grouping by 'Category' and applying multiple\n",
    "# aggregations to 'Value' and 'Count'\n",
    "result = df.groupby('Category').agg({\n",
    "    'Value': ['sum', 'mean', 'max'],\n",
    "    'Count': ['count', 'min']\n",
    "})\n",
    "print(\"Multiple Aggregation: \")\n",
    "print(result)"
   ]
  }
 ],
 "metadata": {
  "jupytext": {
   "cell_metadata_filter": "-all",
   "main_language": "python",
   "notebook_metadata_filter": "-all"
  }
 },
 "nbformat": 4,
 "nbformat_minor": 5
}
