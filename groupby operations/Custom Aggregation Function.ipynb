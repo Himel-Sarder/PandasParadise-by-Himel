{
 "cells": [
  {
   "cell_type": "code",
   "execution_count": null,
   "id": "be136406",
   "metadata": {},
   "outputs": [],
   "source": [
    "import pandas as pd"
   ]
  },
  {
   "cell_type": "code",
   "execution_count": null,
   "id": "8413b98a",
   "metadata": {},
   "outputs": [],
   "source": [
    "# Creating a sample DataFrame\n",
    "data = {'Category': ['A', 'B', 'A', 'B', 'A'],\n",
    "        'Value': [10, 20, 30, 40, 50],\n",
    "        'Count': [1, 2, 3, 4, 5]}"
   ]
  },
  {
   "cell_type": "code",
   "execution_count": null,
   "id": "b5187076",
   "metadata": {
    "lines_to_next_cell": 1
   },
   "outputs": [],
   "source": [
    "df = pd.DataFrame(data)\n",
    "# Custom aggregation function to\n",
    "# calculate the range (max - min)\n",
    "def value_range(x):\n",
    "    return x.max() -x.min()"
   ]
  },
  {
   "cell_type": "code",
   "execution_count": null,
   "id": "934494bf",
   "metadata": {},
   "outputs": [],
   "source": [
    "result = df.groupby('Category').agg({\n",
    "    'Value': value_range,\n",
    "    'Count': 'sum'\n",
    "})\n",
    "print(result)"
   ]
  }
 ],
 "metadata": {
  "jupytext": {
   "cell_metadata_filter": "-all",
   "main_language": "python",
   "notebook_metadata_filter": "-all"
  }
 },
 "nbformat": 4,
 "nbformat_minor": 5
}
