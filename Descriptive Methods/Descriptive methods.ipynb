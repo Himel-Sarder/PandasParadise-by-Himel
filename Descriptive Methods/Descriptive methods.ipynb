{
 "cells": [
  {
   "cell_type": "code",
   "execution_count": null,
   "id": "f43d355b",
   "metadata": {},
   "outputs": [],
   "source": [
    "import pandas as pd\n",
    "import numpy as np"
   ]
  },
  {
   "cell_type": "code",
   "execution_count": null,
   "id": "55a71dd4",
   "metadata": {},
   "outputs": [],
   "source": [
    "# Sample DataFrame\n",
    "data = {\n",
    "    'Name': ['Alice', 'Bob', 'Charlie', 'David', 'Eva'],\n",
    "    'Age': [25, 30, 35, 40, 45],\n",
    "    'Salary': [50000, 60000, 70000, 80000, 90000],\n",
    "    'Score': [85, 90, 78, 88, 95]\n",
    "}"
   ]
  },
  {
   "cell_type": "code",
   "execution_count": null,
   "id": "aaebb1e4",
   "metadata": {},
   "outputs": [],
   "source": [
    "df = pd.DataFrame(data)"
   ]
  },
  {
   "cell_type": "markdown",
   "id": "948ab1a9",
   "metadata": {},
   "source": [
    "describe(): Generates descriptive statistics of the DataFrame."
   ]
  },
  {
   "cell_type": "code",
   "execution_count": null,
   "id": "79dcf313",
   "metadata": {},
   "outputs": [],
   "source": [
    "print(df.describe())"
   ]
  },
  {
   "cell_type": "markdown",
   "id": "104e036c",
   "metadata": {},
   "source": [
    "mean(): Calculates the mean of each numerical column."
   ]
  },
  {
   "cell_type": "code",
   "execution_count": null,
   "id": "31359771",
   "metadata": {},
   "outputs": [],
   "source": [
    "print(df.mean())"
   ]
  },
  {
   "cell_type": "markdown",
   "id": "66db0e93",
   "metadata": {},
   "source": [
    "median(): Calculates the median of each numerical column."
   ]
  },
  {
   "cell_type": "code",
   "execution_count": null,
   "id": "49f8ffb3",
   "metadata": {},
   "outputs": [],
   "source": [
    "print(df.median())"
   ]
  },
  {
   "cell_type": "markdown",
   "id": "002359fe",
   "metadata": {},
   "source": [
    "mode(): Finds the mode of each column."
   ]
  },
  {
   "cell_type": "code",
   "execution_count": null,
   "id": "a161d5ba",
   "metadata": {},
   "outputs": [],
   "source": [
    "print(df.mode())"
   ]
  },
  {
   "cell_type": "markdown",
   "id": "00c3f521",
   "metadata": {},
   "source": [
    "std(): Calculates the standard deviation of each numerical column."
   ]
  },
  {
   "cell_type": "code",
   "execution_count": null,
   "id": "ea893782",
   "metadata": {},
   "outputs": [],
   "source": [
    "print(df.std())"
   ]
  },
  {
   "cell_type": "markdown",
   "id": "6c330d5e",
   "metadata": {},
   "source": [
    "var(): Calculates the variance of each numerical column."
   ]
  },
  {
   "cell_type": "code",
   "execution_count": null,
   "id": "17c9eef3",
   "metadata": {},
   "outputs": [],
   "source": [
    "print(df.var())"
   ]
  },
  {
   "cell_type": "markdown",
   "id": "71dcbec0",
   "metadata": {},
   "source": [
    "min(): Finds the minimum value for each numerical column."
   ]
  },
  {
   "cell_type": "code",
   "execution_count": null,
   "id": "c41c36a2",
   "metadata": {},
   "outputs": [],
   "source": [
    "print(df.min())"
   ]
  },
  {
   "cell_type": "markdown",
   "id": "c8c43f04",
   "metadata": {},
   "source": [
    "max(): Finds the maximum value for each numerical column."
   ]
  },
  {
   "cell_type": "code",
   "execution_count": null,
   "id": "791c5d9e",
   "metadata": {},
   "outputs": [],
   "source": [
    "print(df.max())"
   ]
  },
  {
   "cell_type": "markdown",
   "id": "9ffa722a",
   "metadata": {},
   "source": [
    "sum(): Calculates the sum of each numerical column."
   ]
  },
  {
   "cell_type": "code",
   "execution_count": null,
   "id": "2c3b751c",
   "metadata": {},
   "outputs": [],
   "source": [
    "print(df.sum())"
   ]
  },
  {
   "cell_type": "markdown",
   "id": "65ac13c7",
   "metadata": {},
   "source": [
    "count(): Counts the number of non-null entries in each column."
   ]
  },
  {
   "cell_type": "code",
   "execution_count": null,
   "id": "ec92e2e9",
   "metadata": {},
   "outputs": [],
   "source": [
    "print(df.count())"
   ]
  },
  {
   "cell_type": "markdown",
   "id": "ed168b5c",
   "metadata": {},
   "source": [
    "quantile(): Calculates the quantiles of each numerical column."
   ]
  },
  {
   "cell_type": "code",
   "execution_count": null,
   "id": "9df3e9f0",
   "metadata": {},
   "outputs": [],
   "source": [
    "print(df.quantile([0.25, 0.5, 0.75]))"
   ]
  },
  {
   "cell_type": "markdown",
   "id": "a119eef4",
   "metadata": {},
   "source": [
    "cumsum(): Calculates the cumulative sum of each numerical column."
   ]
  },
  {
   "cell_type": "code",
   "execution_count": null,
   "id": "a7f89f66",
   "metadata": {},
   "outputs": [],
   "source": [
    "print(df.cumsum())"
   ]
  },
  {
   "cell_type": "markdown",
   "id": "5494793e",
   "metadata": {},
   "source": [
    "cumprod(): Calculates the cumulative product of each numerical column."
   ]
  },
  {
   "cell_type": "code",
   "execution_count": null,
   "id": "fda57541",
   "metadata": {},
   "outputs": [],
   "source": [
    "print(df.cumprod())"
   ]
  },
  {
   "cell_type": "markdown",
   "id": "7a1a635a",
   "metadata": {},
   "source": [
    "skew(): Calculates the skewness of each numerical column."
   ]
  },
  {
   "cell_type": "code",
   "execution_count": null,
   "id": "24663cc7",
   "metadata": {},
   "outputs": [],
   "source": [
    "print(df.skew())"
   ]
  },
  {
   "cell_type": "markdown",
   "id": "60fd7df2",
   "metadata": {},
   "source": [
    "kurt(): Calculates the kurtosis of each numerical column."
   ]
  },
  {
   "cell_type": "code",
   "execution_count": null,
   "id": "7270634d",
   "metadata": {},
   "outputs": [],
   "source": [
    "print(df.kurt())"
   ]
  },
  {
   "cell_type": "markdown",
   "id": "116b454e",
   "metadata": {},
   "source": [
    "mad(): Calculates the mean absolute deviation of each numerical column."
   ]
  },
  {
   "cell_type": "code",
   "execution_count": null,
   "id": "fd8198a5",
   "metadata": {},
   "outputs": [],
   "source": [
    "print(df.mad())"
   ]
  },
  {
   "cell_type": "markdown",
   "id": "21673ebc",
   "metadata": {},
   "source": [
    "prod(): Calculates the product of each numerical column."
   ]
  },
  {
   "cell_type": "code",
   "execution_count": null,
   "id": "8643b91d",
   "metadata": {},
   "outputs": [],
   "source": [
    "print(df.prod())"
   ]
  },
  {
   "cell_type": "markdown",
   "id": "642fe431",
   "metadata": {},
   "source": [
    "sem(): Calculates the standard error of the mean of each numerical column."
   ]
  },
  {
   "cell_type": "code",
   "execution_count": null,
   "id": "96dbd7ce",
   "metadata": {},
   "outputs": [],
   "source": [
    "print(df.sem())"
   ]
  },
  {
   "cell_type": "markdown",
   "id": "2fdda95c",
   "metadata": {},
   "source": [
    "nunique(): Counts the number of unique values in each column."
   ]
  },
  {
   "cell_type": "code",
   "execution_count": null,
   "id": "8b661f00",
   "metadata": {},
   "outputs": [],
   "source": [
    "print(df.nunique())"
   ]
  },
  {
   "cell_type": "markdown",
   "id": "df87aef2",
   "metadata": {},
   "source": [
    "idxmin(): Finds the index of the first occurrence of the minimum value in each column."
   ]
  },
  {
   "cell_type": "code",
   "execution_count": null,
   "id": "d60ce87d",
   "metadata": {},
   "outputs": [],
   "source": [
    "print(df.idxmin())"
   ]
  },
  {
   "cell_type": "markdown",
   "id": "22c56d19",
   "metadata": {},
   "source": [
    "idxmax(): Finds the index of the first occurrence of the maximum value in each column."
   ]
  },
  {
   "cell_type": "code",
   "execution_count": null,
   "id": "4ae3d616",
   "metadata": {},
   "outputs": [],
   "source": [
    "print(df.idxmax())"
   ]
  },
  {
   "cell_type": "markdown",
   "id": "870d2328",
   "metadata": {},
   "source": [
    "diff(): Calculates the difference between each element and its predecessor."
   ]
  },
  {
   "cell_type": "code",
   "execution_count": null,
   "id": "0e2f6eeb",
   "metadata": {},
   "outputs": [],
   "source": [
    "print(df.diff())"
   ]
  },
  {
   "cell_type": "markdown",
   "id": "63a59f62",
   "metadata": {},
   "source": [
    "pct_change(): Calculates the percentage change between each element and its predecessor."
   ]
  },
  {
   "cell_type": "code",
   "execution_count": null,
   "id": "d3112fc6",
   "metadata": {},
   "outputs": [],
   "source": [
    "print(df.pct_change())"
   ]
  },
  {
   "cell_type": "markdown",
   "id": "1c33fb6f",
   "metadata": {},
   "source": [
    "corr(): Calculates the correlation matrix of the DataFrame's numerical columns."
   ]
  },
  {
   "cell_type": "code",
   "execution_count": null,
   "id": "73aba515",
   "metadata": {},
   "outputs": [],
   "source": [
    "print(df.corr())"
   ]
  },
  {
   "cell_type": "markdown",
   "id": "6f1bd7cf",
   "metadata": {},
   "source": [
    "cov(): Calculates the covariance matrix of the DataFrame's numerical columns."
   ]
  },
  {
   "cell_type": "code",
   "execution_count": null,
   "id": "47dba3b8",
   "metadata": {},
   "outputs": [],
   "source": [
    "print(df.cov())"
   ]
  }
 ],
 "metadata": {
  "jupytext": {
   "cell_metadata_filter": "-all",
   "main_language": "python",
   "notebook_metadata_filter": "-all"
  }
 },
 "nbformat": 4,
 "nbformat_minor": 5
}
