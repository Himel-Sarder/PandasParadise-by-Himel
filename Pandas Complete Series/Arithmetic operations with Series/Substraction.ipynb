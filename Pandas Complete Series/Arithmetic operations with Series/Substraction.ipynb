{
 "cells": [
  {
   "cell_type": "code",
   "execution_count": null,
   "id": "b8ccd05e",
   "metadata": {},
   "outputs": [],
   "source": [
    "import pandas as pd"
   ]
  },
  {
   "cell_type": "code",
   "execution_count": null,
   "id": "d116e350",
   "metadata": {},
   "outputs": [],
   "source": [
    "A1 = [10, 11, 12, 13, 14]\n",
    "A2 = [1, 2, 3, 4, 5]"
   ]
  },
  {
   "cell_type": "code",
   "execution_count": null,
   "id": "f4a733fe",
   "metadata": {},
   "outputs": [],
   "source": [
    "S1 = pd.Series(A1)\n",
    "S2 = pd.Series(A2)\n",
    "SUB = S1.sub(S2)"
   ]
  },
  {
   "cell_type": "code",
   "execution_count": null,
   "id": "c00c8d04",
   "metadata": {},
   "outputs": [],
   "source": [
    "print(SUB)"
   ]
  }
 ],
 "metadata": {
  "jupytext": {
   "cell_metadata_filter": "-all",
   "main_language": "python",
   "notebook_metadata_filter": "-all"
  }
 },
 "nbformat": 4,
 "nbformat_minor": 5
}
