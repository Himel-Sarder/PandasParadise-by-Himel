{
 "cells": [
  {
   "cell_type": "code",
   "execution_count": null,
   "id": "1d8e62ed",
   "metadata": {},
   "outputs": [],
   "source": [
    "import pandas as pd"
   ]
  },
  {
   "cell_type": "code",
   "execution_count": null,
   "id": "fea8a70f",
   "metadata": {},
   "outputs": [],
   "source": [
    "A1 = [10, 11, 12, 13, 14]\n",
    "A2 = [1, 2, 3, 4, 5]"
   ]
  },
  {
   "cell_type": "code",
   "execution_count": null,
   "id": "0c285ff9",
   "metadata": {},
   "outputs": [],
   "source": [
    "S1 = pd.Series(A1)\n",
    "S2 = pd.Series(A2)\n",
    "POW = S1.pow(S2)"
   ]
  },
  {
   "cell_type": "code",
   "execution_count": null,
   "id": "4b858295",
   "metadata": {},
   "outputs": [],
   "source": [
    "print(POW)"
   ]
  }
 ],
 "metadata": {
  "jupytext": {
   "cell_metadata_filter": "-all",
   "main_language": "python",
   "notebook_metadata_filter": "-all"
  }
 },
 "nbformat": 4,
 "nbformat_minor": 5
}
