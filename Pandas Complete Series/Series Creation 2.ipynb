{
 "cells": [
  {
   "cell_type": "code",
   "execution_count": null,
   "id": "ab28a842",
   "metadata": {},
   "outputs": [],
   "source": [
    "import pandas as pd\n",
    "\n",
    "Dic = {\"Name\": \"Himel\", \"Age\": 22, \"Profession\": \"Student\", \"Subject\": \"CSE\"}\n",
    "DicT = pd.Series(Dic)\n",
    "\n",
    "print(DicT)\n",
    "\n",
    "'''\n",
    "Name            Himel\n",
    "Age                22\n",
    "Profession    Student\n",
    "Subject           CSE\n",
    "dtype: object\n",
    "'''"
   ]
  }
 ],
 "metadata": {},
 "nbformat": 4,
 "nbformat_minor": 5
}
