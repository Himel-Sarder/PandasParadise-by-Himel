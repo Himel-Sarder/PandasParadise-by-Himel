{
 "cells": [
  {
   "cell_type": "code",
   "execution_count": null,
   "id": "b23ab153",
   "metadata": {},
   "outputs": [],
   "source": [
    "import pandas as pd  # Import pandas library and alias it as pd\n",
    "\n",
    "# Create a list of strings\n",
    "my_list = [\"Himel\", \"Abonti\", \"Kabita\", \"Bibhuti\"]\n",
    "\n",
    "# Print the list\n",
    "print(pd.Series(my_list))\n",
    "\n",
    "'''\n",
    "0      Himel\n",
    "1     Abonti\n",
    "2     Kabita\n",
    "3    Bibhuti\n",
    "dtype: object\n",
    "'''"
   ]
  }
 ],
 "metadata": {},
 "nbformat": 4,
 "nbformat_minor": 5
}
