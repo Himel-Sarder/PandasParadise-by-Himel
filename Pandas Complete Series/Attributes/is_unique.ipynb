{
 "cells": [
  {
   "cell_type": "code",
   "execution_count": null,
   "id": "4c7fc10e",
   "metadata": {},
   "outputs": [],
   "source": [
    "import pandas as pd"
   ]
  },
  {
   "cell_type": "code",
   "execution_count": null,
   "id": "5da2fa28",
   "metadata": {},
   "outputs": [],
   "source": [
    "# Create a Pandas Series\n",
    "series_unique1 = pd.Series([1, 2, 3, 4, 5])\n",
    "series_unique2 = pd.Series([1, 2, 3, 3, 5])"
   ]
  },
  {
   "cell_type": "code",
   "execution_count": null,
   "id": "acc65c83",
   "metadata": {},
   "outputs": [],
   "source": [
    "# Check if all elements are unique\n",
    "is_unique1 = series_unique1.is_unique\n",
    "is_unique2 = series_unique2.is_unique"
   ]
  },
  {
   "cell_type": "code",
   "execution_count": null,
   "id": "6b13e1c5",
   "metadata": {},
   "outputs": [],
   "source": [
    "print(is_unique1)\n",
    "print(is_unique2)"
   ]
  }
 ],
 "metadata": {
  "jupytext": {
   "cell_metadata_filter": "-all",
   "main_language": "python",
   "notebook_metadata_filter": "-all"
  }
 },
 "nbformat": 4,
 "nbformat_minor": 5
}
