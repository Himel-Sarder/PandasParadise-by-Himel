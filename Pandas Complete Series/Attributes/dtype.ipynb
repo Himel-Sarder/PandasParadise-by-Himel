{
 "cells": [
  {
   "cell_type": "code",
   "execution_count": null,
   "id": "1a5907cd",
   "metadata": {},
   "outputs": [],
   "source": [
    "import pandas as pd"
   ]
  },
  {
   "cell_type": "code",
   "execution_count": null,
   "id": "59a5c90d",
   "metadata": {},
   "outputs": [],
   "source": [
    "# Create a Pandas Series with integer data type\n",
    "series_int = pd.Series([1, 2, 3, 4, 5])"
   ]
  },
  {
   "cell_type": "code",
   "execution_count": null,
   "id": "48b9d1db",
   "metadata": {},
   "outputs": [],
   "source": [
    "# Get the data type of the Series\n",
    "dtype_int = series_int.dtype"
   ]
  },
  {
   "cell_type": "code",
   "execution_count": null,
   "id": "7a2359ab",
   "metadata": {},
   "outputs": [],
   "source": [
    "print(dtype_int)"
   ]
  },
  {
   "cell_type": "code",
   "execution_count": null,
   "id": "386d54d7",
   "metadata": {},
   "outputs": [],
   "source": [
    "# Create a Pandas Series with float data type\n",
    "series_float = pd.Series([1.0, 2.5, 3.7])"
   ]
  },
  {
   "cell_type": "code",
   "execution_count": null,
   "id": "2d3d3899",
   "metadata": {},
   "outputs": [],
   "source": [
    "# Get the data type of the Series\n",
    "dtype_float = series_float.dtype"
   ]
  },
  {
   "cell_type": "code",
   "execution_count": null,
   "id": "8d329524",
   "metadata": {},
   "outputs": [],
   "source": [
    "print(dtype_float)"
   ]
  }
 ],
 "metadata": {
  "jupytext": {
   "cell_metadata_filter": "-all",
   "main_language": "python",
   "notebook_metadata_filter": "-all"
  }
 },
 "nbformat": 4,
 "nbformat_minor": 5
}
