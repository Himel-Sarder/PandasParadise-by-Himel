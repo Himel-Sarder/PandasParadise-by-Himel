{
 "cells": [
  {
   "cell_type": "code",
   "execution_count": null,
   "id": "e299ab03",
   "metadata": {},
   "outputs": [],
   "source": [
    "import pandas as pd"
   ]
  },
  {
   "cell_type": "code",
   "execution_count": null,
   "id": "6e464050",
   "metadata": {},
   "outputs": [],
   "source": [
    "# Create a Pandas Series\n",
    "series = pd.Series([1, 2, 3, 4, 5])"
   ]
  },
  {
   "cell_type": "code",
   "execution_count": null,
   "id": "a2be8df8",
   "metadata": {},
   "outputs": [],
   "source": [
    "# Get the number of elements in the Series\n",
    "size = series.size"
   ]
  },
  {
   "cell_type": "code",
   "execution_count": null,
   "id": "d982dc58",
   "metadata": {},
   "outputs": [],
   "source": [
    "print(size)"
   ]
  }
 ],
 "metadata": {
  "jupytext": {
   "cell_metadata_filter": "-all",
   "main_language": "python",
   "notebook_metadata_filter": "-all"
  }
 },
 "nbformat": 4,
 "nbformat_minor": 5
}
