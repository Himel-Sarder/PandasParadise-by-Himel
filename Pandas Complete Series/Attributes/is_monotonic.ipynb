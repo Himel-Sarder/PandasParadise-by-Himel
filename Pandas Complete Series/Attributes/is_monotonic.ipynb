{
 "cells": [
  {
   "cell_type": "code",
   "execution_count": null,
   "id": "c9cdddc3",
   "metadata": {},
   "outputs": [],
   "source": [
    "import pandas as pd"
   ]
  },
  {
   "cell_type": "code",
   "execution_count": null,
   "id": "3424144b",
   "metadata": {},
   "outputs": [],
   "source": [
    "# Create a Pandas Series with monotonically increasing values\n",
    "series_inc = pd.Series([1, 2, 3, 4, 5])"
   ]
  },
  {
   "cell_type": "code",
   "execution_count": null,
   "id": "33daa66e",
   "metadata": {},
   "outputs": [],
   "source": [
    "# Check if the values are monotonically increasing\n",
    "is_monotonic_inc = series_inc.is_monotonic"
   ]
  },
  {
   "cell_type": "code",
   "execution_count": null,
   "id": "6b22ae71",
   "metadata": {},
   "outputs": [],
   "source": [
    "print(is_monotonic_inc)"
   ]
  },
  {
   "cell_type": "code",
   "execution_count": null,
   "id": "9aa795c9",
   "metadata": {},
   "outputs": [],
   "source": [
    "# Create a Pandas Series with monotonically decreasing values\n",
    "series_dec = pd.Series([5, 4, 3, 2, 1])"
   ]
  },
  {
   "cell_type": "code",
   "execution_count": null,
   "id": "dca2d7c7",
   "metadata": {},
   "outputs": [],
   "source": [
    "# Check if the values are monotonically decreasing\n",
    "is_monotonic_dec = series_dec.is_monotonic"
   ]
  },
  {
   "cell_type": "code",
   "execution_count": null,
   "id": "3162ef9c",
   "metadata": {},
   "outputs": [],
   "source": [
    "print(is_monotonic_dec)"
   ]
  }
 ],
 "metadata": {
  "jupytext": {
   "cell_metadata_filter": "-all",
   "main_language": "python",
   "notebook_metadata_filter": "-all"
  }
 },
 "nbformat": 4,
 "nbformat_minor": 5
}
