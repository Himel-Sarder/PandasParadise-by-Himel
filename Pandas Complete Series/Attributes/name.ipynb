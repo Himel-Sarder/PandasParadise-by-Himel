{
 "cells": [
  {
   "cell_type": "code",
   "execution_count": null,
   "id": "3cf64991",
   "metadata": {},
   "outputs": [],
   "source": [
    "import pandas as pd"
   ]
  },
  {
   "cell_type": "code",
   "execution_count": null,
   "id": "13f69794",
   "metadata": {},
   "outputs": [],
   "source": [
    "# Create a Pandas Series\n",
    "series = pd.Series([1, 2, 3, 4, 5])"
   ]
  },
  {
   "cell_type": "code",
   "execution_count": null,
   "id": "3f9bacda",
   "metadata": {},
   "outputs": [],
   "source": [
    "# Assign a name to the Series\n",
    "series.name = 'Himel Sarder'"
   ]
  },
  {
   "cell_type": "code",
   "execution_count": null,
   "id": "addff3cc",
   "metadata": {},
   "outputs": [],
   "source": [
    "# Get the name of the Series\n",
    "name = series.name"
   ]
  },
  {
   "cell_type": "code",
   "execution_count": null,
   "id": "1d813e86",
   "metadata": {},
   "outputs": [],
   "source": [
    "print(name)"
   ]
  }
 ],
 "metadata": {
  "jupytext": {
   "cell_metadata_filter": "-all",
   "main_language": "python",
   "notebook_metadata_filter": "-all"
  }
 },
 "nbformat": 4,
 "nbformat_minor": 5
}
