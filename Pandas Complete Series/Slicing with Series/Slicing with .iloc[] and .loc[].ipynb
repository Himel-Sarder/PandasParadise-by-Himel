{
 "cells": [
  {
   "cell_type": "code",
   "execution_count": null,
   "id": "b2d8d94e",
   "metadata": {},
   "outputs": [],
   "source": [
    "import pandas as pd"
   ]
  },
  {
   "cell_type": "code",
   "execution_count": null,
   "id": "9f2eba10",
   "metadata": {},
   "outputs": [],
   "source": [
    "# Create a Pandas Series with custom index labels\n",
    "series = pd.Series([10, 20, 30, 40, 50], index=['a', 'b', 'c', 'd', 'e'])"
   ]
  },
  {
   "cell_type": "code",
   "execution_count": null,
   "id": "1b07a055",
   "metadata": {},
   "outputs": [],
   "source": [
    "# Positional slicing using .iloc[]\n",
    "print(series.iloc[1:3])  # Select elements from index 1 to index 2 (exclusive)"
   ]
  },
  {
   "cell_type": "code",
   "execution_count": null,
   "id": "17f4bf08",
   "metadata": {},
   "outputs": [],
   "source": [
    "# Label-based slicing using .loc[]\n",
    "print(series.loc['b':'d'])  # Select elements from index label 'b' to 'd' (inclusive)"
   ]
  }
 ],
 "metadata": {
  "jupytext": {
   "cell_metadata_filter": "-all",
   "main_language": "python",
   "notebook_metadata_filter": "-all"
  }
 },
 "nbformat": 4,
 "nbformat_minor": 5
}
