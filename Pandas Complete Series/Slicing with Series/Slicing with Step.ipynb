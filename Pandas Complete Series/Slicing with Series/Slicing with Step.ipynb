{
 "cells": [
  {
   "cell_type": "code",
   "execution_count": null,
   "id": "5c01a829",
   "metadata": {},
   "outputs": [],
   "source": [
    "import pandas as pd"
   ]
  },
  {
   "cell_type": "code",
   "execution_count": null,
   "id": "9e4e33c1",
   "metadata": {},
   "outputs": [],
   "source": [
    "# Create a Pandas Series\n",
    "series = pd.Series([10, 20, 30, 40, 50])"
   ]
  },
  {
   "cell_type": "code",
   "execution_count": null,
   "id": "667af2c0",
   "metadata": {},
   "outputs": [],
   "source": [
    "# Slicing with step\n",
    "print(series[::2])  # Select every second element"
   ]
  }
 ],
 "metadata": {
  "jupytext": {
   "cell_metadata_filter": "-all",
   "main_language": "python",
   "notebook_metadata_filter": "-all"
  }
 },
 "nbformat": 4,
 "nbformat_minor": 5
}
