{
 "cells": [
  {
   "cell_type": "code",
   "execution_count": null,
   "id": "b40e37aa",
   "metadata": {},
   "outputs": [],
   "source": [
    "import pandas as pd"
   ]
  },
  {
   "cell_type": "code",
   "execution_count": null,
   "id": "2cbd56ba",
   "metadata": {},
   "outputs": [],
   "source": [
    "# Create a Pandas Series with custom index labels\n",
    "series = pd.Series([10, 20, 30, 40, 50], index=['a', 'b', 'c', 'd', 'e'])"
   ]
  },
  {
   "cell_type": "code",
   "execution_count": null,
   "id": "7c2f556c",
   "metadata": {},
   "outputs": [],
   "source": [
    "# Slicing using index labels\n",
    "print(series['b':'d'])  # Select elements from index label 'b' to 'd' (inclusive)"
   ]
  }
 ],
 "metadata": {
  "jupytext": {
   "cell_metadata_filter": "-all",
   "main_language": "python",
   "notebook_metadata_filter": "-all"
  }
 },
 "nbformat": 4,
 "nbformat_minor": 5
}
