{
 "cells": [
  {
   "cell_type": "code",
   "execution_count": null,
   "id": "789e4f85",
   "metadata": {},
   "outputs": [],
   "source": [
    "import pandas as pd"
   ]
  },
  {
   "cell_type": "code",
   "execution_count": null,
   "id": "c7c391a8",
   "metadata": {},
   "outputs": [],
   "source": [
    "# Create a Pandas Series\n",
    "series = pd.Series([10, 20, 30, 40, 50])"
   ]
  },
  {
   "cell_type": "code",
   "execution_count": null,
   "id": "f7c5f63b",
   "metadata": {},
   "outputs": [],
   "source": [
    "# Slicing using positional indices\n",
    "print(series[1:3])  # Select elements from index 1 to index 2 (exclusive)"
   ]
  }
 ],
 "metadata": {
  "jupytext": {
   "cell_metadata_filter": "-all",
   "main_language": "python",
   "notebook_metadata_filter": "-all"
  }
 },
 "nbformat": 4,
 "nbformat_minor": 5
}
