{
 "cells": [
  {
   "cell_type": "code",
   "execution_count": null,
   "id": "d43a4f0a",
   "metadata": {},
   "outputs": [],
   "source": [
    "import pandas as pd\n",
    "\n",
    "# Create a Pandas Series\n",
    "series = pd.Series([1, 2, 3, 4, 5])\n",
    "\n",
    "# Compute the variance\n",
    "var_value = series.var()\n",
    "\n",
    "print(var_value)"
   ]
  }
 ],
 "metadata": {},
 "nbformat": 4,
 "nbformat_minor": 5
}
