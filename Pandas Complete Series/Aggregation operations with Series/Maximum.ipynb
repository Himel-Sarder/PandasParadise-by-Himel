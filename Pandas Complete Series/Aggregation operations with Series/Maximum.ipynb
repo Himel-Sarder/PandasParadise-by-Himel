{
 "cells": [
  {
   "cell_type": "code",
   "execution_count": null,
   "id": "6ca6384b",
   "metadata": {},
   "outputs": [],
   "source": [
    "import pandas as pd\n",
    "\n",
    "# Create a Pandas Series\n",
    "series = pd.Series([21, 52, 13, 34, 25])\n",
    "\n",
    "# Find the maximum value\n",
    "max_value = series.max()\n",
    "\n",
    "print(max_value)"
   ]
  }
 ],
 "metadata": {},
 "nbformat": 4,
 "nbformat_minor": 5
}
