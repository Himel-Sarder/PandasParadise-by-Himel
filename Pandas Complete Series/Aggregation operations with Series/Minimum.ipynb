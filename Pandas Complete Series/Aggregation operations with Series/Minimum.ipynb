{
 "cells": [
  {
   "cell_type": "code",
   "execution_count": null,
   "id": "d377ccd5",
   "metadata": {},
   "outputs": [],
   "source": [
    "import pandas as pd\n",
    "\n",
    "# Create a Pandas Series\n",
    "series = pd.Series([11, 12, 23, 4, 25])\n",
    "\n",
    "# Find the minimum value\n",
    "min_value = series.min()\n",
    "\n",
    "print(min_value)"
   ]
  }
 ],
 "metadata": {},
 "nbformat": 4,
 "nbformat_minor": 5
}
