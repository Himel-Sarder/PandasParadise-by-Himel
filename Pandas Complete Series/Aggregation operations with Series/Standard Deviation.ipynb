{
 "cells": [
  {
   "cell_type": "code",
   "execution_count": null,
   "id": "e7800e76",
   "metadata": {},
   "outputs": [],
   "source": [
    "import pandas as pd\n",
    "\n",
    "# Create a Pandas Series\n",
    "series = pd.Series([1, 2, 3, 4, 5])\n",
    "\n",
    "# Compute the standard deviation\n",
    "std_value = series.std()\n",
    "\n",
    "print(std_value)"
   ]
  }
 ],
 "metadata": {},
 "nbformat": 4,
 "nbformat_minor": 5
}
