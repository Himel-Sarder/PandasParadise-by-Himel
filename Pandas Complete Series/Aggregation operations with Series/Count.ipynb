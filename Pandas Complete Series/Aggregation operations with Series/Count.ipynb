{
 "cells": [
  {
   "cell_type": "code",
   "execution_count": null,
   "id": "3f49efd9",
   "metadata": {},
   "outputs": [],
   "source": [
    "import pandas as pd\n",
    "\n",
    "# Create a Pandas Series\n",
    "series = pd.Series([1, 2, None, 4, 5])\n",
    "\n",
    "# Count the non-null elements\n",
    "count_value = series.count()\n",
    "\n",
    "print(count_value)"
   ]
  }
 ],
 "metadata": {},
 "nbformat": 4,
 "nbformat_minor": 5
}
