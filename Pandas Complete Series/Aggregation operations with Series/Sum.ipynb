{
 "cells": [
  {
   "cell_type": "code",
   "execution_count": null,
   "id": "85ce54e2",
   "metadata": {},
   "outputs": [],
   "source": [
    "import pandas as pd\n",
    "\n",
    "# Create a Pandas Series\n",
    "series = pd.Series([1, 2, 3, 4, 5])\n",
    "\n",
    "# Compute the sum\n",
    "sum_value = series.sum()\n",
    "\n",
    "print(sum_value)"
   ]
  }
 ],
 "metadata": {},
 "nbformat": 4,
 "nbformat_minor": 5
}
