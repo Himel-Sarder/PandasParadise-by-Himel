{
 "cells": [
  {
   "cell_type": "code",
   "execution_count": null,
   "id": "7069ed2f",
   "metadata": {},
   "outputs": [],
   "source": [
    "import pandas as p"
   ]
  },
  {
   "cell_type": "code",
   "execution_count": null,
   "id": "ec715dd9",
   "metadata": {},
   "outputs": [],
   "source": [
    "list = [12, 13, 14, 15, 16, 17]"
   ]
  },
  {
   "cell_type": "code",
   "execution_count": null,
   "id": "4695cda2",
   "metadata": {},
   "outputs": [],
   "source": [
    "D = p.Series(list)"
   ]
  },
  {
   "cell_type": "code",
   "execution_count": null,
   "id": "27ab1476",
   "metadata": {},
   "outputs": [],
   "source": [
    "print(D.describe())"
   ]
  }
 ],
 "metadata": {
  "jupytext": {
   "cell_metadata_filter": "-all",
   "main_language": "python",
   "notebook_metadata_filter": "-all"
  }
 },
 "nbformat": 4,
 "nbformat_minor": 5
}
