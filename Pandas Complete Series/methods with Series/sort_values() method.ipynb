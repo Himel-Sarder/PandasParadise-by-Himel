{
 "cells": [
  {
   "cell_type": "code",
   "execution_count": null,
   "id": "d0d97f86",
   "metadata": {},
   "outputs": [],
   "source": [
    "import pandas as p"
   ]
  },
  {
   "cell_type": "code",
   "execution_count": null,
   "id": "32dc7d6f",
   "metadata": {},
   "outputs": [],
   "source": [
    "list = [16, 11, 14, 12, 15, 13]"
   ]
  },
  {
   "cell_type": "code",
   "execution_count": null,
   "id": "4374753d",
   "metadata": {},
   "outputs": [],
   "source": [
    "Sortvalue = p.Series(list)"
   ]
  },
  {
   "cell_type": "code",
   "execution_count": null,
   "id": "8845bad7",
   "metadata": {},
   "outputs": [],
   "source": [
    "print(Sortvalue.sort_values())"
   ]
  },
  {
   "cell_type": "code",
   "execution_count": null,
   "id": "6d050cc8",
   "metadata": {},
   "outputs": [],
   "source": []
  },
  {
   "cell_type": "code",
   "execution_count": null,
   "id": "e90b4224",
   "metadata": {},
   "outputs": [],
   "source": [
    "list = [16, 11, 14, 12, 15, 13]"
   ]
  },
  {
   "cell_type": "code",
   "execution_count": null,
   "id": "4644be97",
   "metadata": {},
   "outputs": [],
   "source": [
    "Sortvalue2 = p.Series(list)"
   ]
  },
  {
   "cell_type": "code",
   "execution_count": null,
   "id": "eb2146f7",
   "metadata": {},
   "outputs": [],
   "source": [
    "print(Sortvalue2.sort_values(ascending=False))"
   ]
  }
 ],
 "metadata": {
  "jupytext": {
   "cell_metadata_filter": "-all",
   "main_language": "python",
   "notebook_metadata_filter": "-all"
  }
 },
 "nbformat": 4,
 "nbformat_minor": 5
}
