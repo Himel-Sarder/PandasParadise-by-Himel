{
 "cells": [
  {
   "cell_type": "code",
   "execution_count": null,
   "id": "5b296ef4",
   "metadata": {},
   "outputs": [],
   "source": [
    "import pandas as p"
   ]
  },
  {
   "cell_type": "code",
   "execution_count": null,
   "id": "6b8f9e67",
   "metadata": {},
   "outputs": [],
   "source": [
    "List = [12, None, None, 15, 16, None]"
   ]
  },
  {
   "cell_type": "code",
   "execution_count": null,
   "id": "de89d6f0",
   "metadata": {},
   "outputs": [],
   "source": [
    "value = p.Series(List)"
   ]
  },
  {
   "cell_type": "code",
   "execution_count": null,
   "id": "530c14d4",
   "metadata": {},
   "outputs": [],
   "source": [
    "print(value.fillna(\"Himel\"))"
   ]
  }
 ],
 "metadata": {
  "jupytext": {
   "cell_metadata_filter": "-all",
   "main_language": "python",
   "notebook_metadata_filter": "-all"
  }
 },
 "nbformat": 4,
 "nbformat_minor": 5
}
