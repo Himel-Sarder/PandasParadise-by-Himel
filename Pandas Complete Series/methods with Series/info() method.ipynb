{
 "cells": [
  {
   "cell_type": "code",
   "execution_count": null,
   "id": "6bb76dd4",
   "metadata": {},
   "outputs": [],
   "source": [
    "import pandas as p"
   ]
  },
  {
   "cell_type": "code",
   "execution_count": null,
   "id": "8cae1113",
   "metadata": {},
   "outputs": [],
   "source": [
    "list1 = [12, 13, 14, 15, 16, 17]"
   ]
  },
  {
   "cell_type": "code",
   "execution_count": null,
   "id": "57fac26b",
   "metadata": {},
   "outputs": [],
   "source": [
    "i = p.Series(list1)"
   ]
  },
  {
   "cell_type": "code",
   "execution_count": null,
   "id": "9a3311ff",
   "metadata": {},
   "outputs": [],
   "source": [
    "print(i.info())"
   ]
  }
 ],
 "metadata": {
  "jupytext": {
   "cell_metadata_filter": "-all",
   "main_language": "python",
   "notebook_metadata_filter": "-all"
  }
 },
 "nbformat": 4,
 "nbformat_minor": 5
}
