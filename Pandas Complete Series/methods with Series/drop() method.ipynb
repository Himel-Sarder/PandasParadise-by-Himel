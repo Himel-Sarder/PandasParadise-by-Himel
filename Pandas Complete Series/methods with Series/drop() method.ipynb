{
 "cells": [
  {
   "cell_type": "code",
   "execution_count": null,
   "id": "1c0c9cb5",
   "metadata": {},
   "outputs": [],
   "source": [
    "import pandas as p"
   ]
  },
  {
   "cell_type": "code",
   "execution_count": null,
   "id": "0acc27a2",
   "metadata": {},
   "outputs": [],
   "source": [
    "list = [12, 13, 14, 15, 16, 17]"
   ]
  },
  {
   "cell_type": "code",
   "execution_count": null,
   "id": "1943eb90",
   "metadata": {},
   "outputs": [],
   "source": [
    "value = p.Series(list)"
   ]
  },
  {
   "cell_type": "code",
   "execution_count": null,
   "id": "38b868ec",
   "metadata": {},
   "outputs": [],
   "source": [
    "print(value.drop([1,3,5]))"
   ]
  }
 ],
 "metadata": {
  "jupytext": {
   "cell_metadata_filter": "-all",
   "main_language": "python",
   "notebook_metadata_filter": "-all"
  }
 },
 "nbformat": 4,
 "nbformat_minor": 5
}
