{
 "cells": [
  {
   "cell_type": "code",
   "execution_count": null,
   "id": "33f93626",
   "metadata": {},
   "outputs": [],
   "source": [
    "import pandas as p\n",
    "list1 = [16, 11, 14, 12, 15, 13]\n",
    "list2 = [12, 11, 14, 11, 10, 16]"
   ]
  },
  {
   "cell_type": "code",
   "execution_count": null,
   "id": "518a6a35",
   "metadata": {},
   "outputs": [],
   "source": [
    "value1 = p.Series(list1)\n",
    "value2 = p.Series(list2)"
   ]
  },
  {
   "cell_type": "code",
   "execution_count": null,
   "id": "69179131",
   "metadata": {},
   "outputs": [],
   "source": [
    "new = p.concat([value1, value2], ignore_index=True)\n",
    "print(new)"
   ]
  }
 ],
 "metadata": {
  "jupytext": {
   "cell_metadata_filter": "-all",
   "main_language": "python",
   "notebook_metadata_filter": "-all"
  }
 },
 "nbformat": 4,
 "nbformat_minor": 5
}
