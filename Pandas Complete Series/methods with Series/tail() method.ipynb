{
 "cells": [
  {
   "cell_type": "code",
   "execution_count": null,
   "id": "3207a34e",
   "metadata": {},
   "outputs": [],
   "source": [
    "import pandas as p"
   ]
  },
  {
   "cell_type": "code",
   "execution_count": null,
   "id": "74fbbbb8",
   "metadata": {},
   "outputs": [],
   "source": [
    "list = [12, 13, 14, 15, 16, 17]"
   ]
  },
  {
   "cell_type": "code",
   "execution_count": null,
   "id": "d9179f00",
   "metadata": {},
   "outputs": [],
   "source": [
    "T = p.Series(list)"
   ]
  },
  {
   "cell_type": "code",
   "execution_count": null,
   "id": "935919eb",
   "metadata": {},
   "outputs": [],
   "source": [
    "print(T.tail(3))"
   ]
  }
 ],
 "metadata": {
  "jupytext": {
   "cell_metadata_filter": "-all",
   "main_language": "python",
   "notebook_metadata_filter": "-all"
  }
 },
 "nbformat": 4,
 "nbformat_minor": 5
}
