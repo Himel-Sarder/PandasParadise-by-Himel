{
 "cells": [
  {
   "cell_type": "code",
   "execution_count": null,
   "id": "2edb0567",
   "metadata": {},
   "outputs": [],
   "source": [
    "import pandas as pd"
   ]
  },
  {
   "cell_type": "code",
   "execution_count": null,
   "id": "13506634",
   "metadata": {},
   "outputs": [],
   "source": [
    "# Create a Pandas Series with custom index labels\n",
    "series = pd.Series([10, 20, 30, 40], index=['a', 'b', 'c', 'd'])"
   ]
  },
  {
   "cell_type": "code",
   "execution_count": null,
   "id": "ab55962f",
   "metadata": {},
   "outputs": [],
   "source": [
    "# Positional indexing using .iloc[]\n",
    "print(series.iloc[0])    # Access the first element\n",
    "print(series.iloc[1:3])  # Access a slice of elements"
   ]
  },
  {
   "cell_type": "code",
   "execution_count": null,
   "id": "be3c75d3",
   "metadata": {},
   "outputs": [],
   "source": [
    "# Label-based indexing using .loc[]\n",
    "print(series.loc['a'])      # Access element with label 'a'\n",
    "print(series.loc[['b', 'c']])  # Access elements with labels 'b' and 'c'"
   ]
  }
 ],
 "metadata": {
  "jupytext": {
   "cell_metadata_filter": "-all",
   "main_language": "python",
   "notebook_metadata_filter": "-all"
  }
 },
 "nbformat": 4,
 "nbformat_minor": 5
}
