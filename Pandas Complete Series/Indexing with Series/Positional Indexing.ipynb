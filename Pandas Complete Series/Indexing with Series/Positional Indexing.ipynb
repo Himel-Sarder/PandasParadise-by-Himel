{
 "cells": [
  {
   "cell_type": "code",
   "execution_count": null,
   "id": "496d0af5",
   "metadata": {},
   "outputs": [],
   "source": [
    "import pandas as pd"
   ]
  },
  {
   "cell_type": "code",
   "execution_count": null,
   "id": "50f4804d",
   "metadata": {},
   "outputs": [],
   "source": [
    "# Create a Pandas Series\n",
    "s = [11, 12, 13, 14, 15]\n",
    "series = pd.Series(s)"
   ]
  },
  {
   "cell_type": "code",
   "execution_count": null,
   "id": "b8bde37c",
   "metadata": {
    "lines_to_next_cell": 2
   },
   "outputs": [],
   "source": [
    "# Accessing elements by position\n",
    "print(series[0])    # Access the first element\n",
    "print(series[1:4])  # Access a slice of elements"
   ]
  },
  {
   "cell_type": "code",
   "execution_count": null,
   "id": "9b839a7b",
   "metadata": {},
   "outputs": [],
   "source": [
    "'''\n",
    "11\n",
    "1    12\n",
    "2    13\n",
    "3    14\n",
    "dtype: int64\n",
    "'''"
   ]
  }
 ],
 "metadata": {
  "jupytext": {
   "cell_metadata_filter": "-all",
   "main_language": "python",
   "notebook_metadata_filter": "-all"
  }
 },
 "nbformat": 4,
 "nbformat_minor": 5
}
