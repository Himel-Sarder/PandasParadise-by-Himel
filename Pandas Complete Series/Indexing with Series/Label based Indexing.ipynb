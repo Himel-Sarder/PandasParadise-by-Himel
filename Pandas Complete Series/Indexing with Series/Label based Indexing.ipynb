{
 "cells": [
  {
   "cell_type": "code",
   "execution_count": null,
   "id": "9f93680e",
   "metadata": {},
   "outputs": [],
   "source": [
    "import pandas as pd"
   ]
  },
  {
   "cell_type": "code",
   "execution_count": null,
   "id": "78a73a00",
   "metadata": {},
   "outputs": [],
   "source": [
    "# Create a Pandas Series with custom index labels\n",
    "series = pd.Series([10, 20, 30, 40], index=['A', 'B', 'C', 'D'])"
   ]
  },
  {
   "cell_type": "code",
   "execution_count": null,
   "id": "3566bdef",
   "metadata": {
    "lines_to_next_cell": 2
   },
   "outputs": [],
   "source": [
    "print(series)\n",
    "# Accessing elements by label\n",
    "print(series['A'])      # Access element with label 'A'\n",
    "print(series[['B', 'C']])  # Access elements with labels 'B' and 'C'"
   ]
  },
  {
   "cell_type": "code",
   "execution_count": null,
   "id": "acda0749",
   "metadata": {},
   "outputs": [],
   "source": [
    "'''\n",
    "A    10\n",
    "B    20\n",
    "C    30\n",
    "D    40\n",
    "dtype: int64\n",
    "10\n",
    "B    20\n",
    "C    30\n",
    "dtype: int64\n",
    "'''"
   ]
  }
 ],
 "metadata": {
  "jupytext": {
   "cell_metadata_filter": "-all",
   "main_language": "python",
   "notebook_metadata_filter": "-all"
  }
 },
 "nbformat": 4,
 "nbformat_minor": 5
}
