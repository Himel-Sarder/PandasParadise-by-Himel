{
 "cells": [
  {
   "cell_type": "code",
   "execution_count": null,
   "id": "2c41461e",
   "metadata": {},
   "outputs": [],
   "source": [
    "import pandas as pd"
   ]
  },
  {
   "cell_type": "code",
   "execution_count": null,
   "id": "5ce1e080",
   "metadata": {},
   "outputs": [],
   "source": [
    "# Create a Pandas Series\n",
    "series = pd.Series([10, 20, 30, 40])"
   ]
  },
  {
   "cell_type": "code",
   "execution_count": null,
   "id": "f24536a9",
   "metadata": {},
   "outputs": [],
   "source": [
    "# Fancy indexing with numeric indices\n",
    "print(series[[0, 2]])     # Select elements at positions 0 and 2"
   ]
  },
  {
   "cell_type": "code",
   "execution_count": null,
   "id": "62dff3af",
   "metadata": {
    "lines_to_next_cell": 2
   },
   "outputs": [],
   "source": [
    "# Fancy indexing with correct labels\n",
    "# Assuming labels 'A' and 'C' are present in the Series\n",
    "series.index = ['A', 'B', 'C', 'D']\n",
    "print(series[['A', 'C']])  # Select elements with labels 'A' and 'C'"
   ]
  },
  {
   "cell_type": "code",
   "execution_count": null,
   "id": "834db57b",
   "metadata": {},
   "outputs": [],
   "source": [
    "'''\n",
    "0    10\n",
    "2    30\n",
    "dtype: int64\n",
    "A    10\n",
    "C    30\n",
    "dtype: int64\n",
    "'''"
   ]
  }
 ],
 "metadata": {
  "jupytext": {
   "cell_metadata_filter": "-all",
   "main_language": "python",
   "notebook_metadata_filter": "-all"
  }
 },
 "nbformat": 4,
 "nbformat_minor": 5
}
