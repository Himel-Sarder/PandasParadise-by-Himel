{
 "cells": [
  {
   "cell_type": "code",
   "execution_count": null,
   "id": "136d27d7",
   "metadata": {},
   "outputs": [],
   "source": [
    "import pandas as pd"
   ]
  },
  {
   "cell_type": "code",
   "execution_count": null,
   "id": "ef653882",
   "metadata": {},
   "outputs": [],
   "source": [
    "# Create a Pandas Series\n",
    "series = pd.Series([10, 20, 30, 40, 5, 50])"
   ]
  },
  {
   "cell_type": "code",
   "execution_count": null,
   "id": "f0d9c76a",
   "metadata": {
    "lines_to_next_cell": 2
   },
   "outputs": [],
   "source": [
    "# Boolean indexing\n",
    "print(series[series > 20])  # Select elements greater than 20"
   ]
  },
  {
   "cell_type": "code",
   "execution_count": null,
   "id": "835f334a",
   "metadata": {},
   "outputs": [],
   "source": [
    "'''\n",
    "2    30\n",
    "3    40\n",
    "5    50\n",
    "dtype: int64\n",
    "'''"
   ]
  }
 ],
 "metadata": {
  "jupytext": {
   "cell_metadata_filter": "-all",
   "main_language": "python",
   "notebook_metadata_filter": "-all"
  }
 },
 "nbformat": 4,
 "nbformat_minor": 5
}
