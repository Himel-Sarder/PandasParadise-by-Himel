{
 "cells": [
  {
   "cell_type": "code",
   "execution_count": null,
   "id": "efaa2093",
   "metadata": {},
   "outputs": [],
   "source": [
    "import pandas as pd"
   ]
  },
  {
   "cell_type": "code",
   "execution_count": null,
   "id": "d093d510",
   "metadata": {},
   "outputs": [],
   "source": [
    "# Create Pandas Series\n",
    "series1 = pd.Series([1, 2, 3])\n",
    "series2 = pd.Series([1, 4, 3])"
   ]
  },
  {
   "cell_type": "code",
   "execution_count": null,
   "id": "118b7f0f",
   "metadata": {},
   "outputs": [],
   "source": [
    "# Check for inequality\n",
    "result = series1 != series2"
   ]
  },
  {
   "cell_type": "code",
   "execution_count": null,
   "id": "d681691e",
   "metadata": {},
   "outputs": [],
   "source": [
    "print(result)"
   ]
  }
 ],
 "metadata": {
  "jupytext": {
   "cell_metadata_filter": "-all",
   "main_language": "python",
   "notebook_metadata_filter": "-all"
  }
 },
 "nbformat": 4,
 "nbformat_minor": 5
}
