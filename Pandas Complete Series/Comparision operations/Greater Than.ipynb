{
 "cells": [
  {
   "cell_type": "code",
   "execution_count": null,
   "id": "c2bce70a",
   "metadata": {},
   "outputs": [],
   "source": [
    "import pandas as pd"
   ]
  },
  {
   "cell_type": "code",
   "execution_count": null,
   "id": "28b83f11",
   "metadata": {},
   "outputs": [],
   "source": [
    "# Create Pandas Series\n",
    "series1 = pd.Series([1, 2, 3])\n",
    "series2 = pd.Series([2, 2, 2])"
   ]
  },
  {
   "cell_type": "code",
   "execution_count": null,
   "id": "60b705f9",
   "metadata": {},
   "outputs": [],
   "source": [
    "# Check if series1 elements are greater than series2 elements\n",
    "result = series1 > series2"
   ]
  },
  {
   "cell_type": "code",
   "execution_count": null,
   "id": "e3cf629c",
   "metadata": {},
   "outputs": [],
   "source": [
    "print(result)"
   ]
  }
 ],
 "metadata": {
  "jupytext": {
   "cell_metadata_filter": "-all",
   "main_language": "python",
   "notebook_metadata_filter": "-all"
  }
 },
 "nbformat": 4,
 "nbformat_minor": 5
}
