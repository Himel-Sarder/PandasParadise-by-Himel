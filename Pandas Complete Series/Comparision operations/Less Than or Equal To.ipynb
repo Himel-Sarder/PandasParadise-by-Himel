{
 "cells": [
  {
   "cell_type": "code",
   "execution_count": null,
   "id": "57bf6725",
   "metadata": {},
   "outputs": [],
   "source": [
    "import pandas as pd"
   ]
  },
  {
   "cell_type": "code",
   "execution_count": null,
   "id": "402125a9",
   "metadata": {},
   "outputs": [],
   "source": [
    "# Create Pandas Series\n",
    "series1 = pd.Series([1, 2, 3])\n",
    "series2 = pd.Series([2, 2, 2])"
   ]
  },
  {
   "cell_type": "code",
   "execution_count": null,
   "id": "f548c0c1",
   "metadata": {},
   "outputs": [],
   "source": [
    "# Check if series1 elements are less than or equal to series2 elements\n",
    "result = series1 <= series2"
   ]
  },
  {
   "cell_type": "code",
   "execution_count": null,
   "id": "a7dc8a3c",
   "metadata": {},
   "outputs": [],
   "source": [
    "print(result)"
   ]
  }
 ],
 "metadata": {
  "jupytext": {
   "cell_metadata_filter": "-all",
   "main_language": "python",
   "notebook_metadata_filter": "-all"
  }
 },
 "nbformat": 4,
 "nbformat_minor": 5
}
