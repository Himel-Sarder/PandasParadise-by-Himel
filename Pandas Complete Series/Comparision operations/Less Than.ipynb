{
 "cells": [
  {
   "cell_type": "code",
   "execution_count": null,
   "id": "d7affd2d",
   "metadata": {},
   "outputs": [],
   "source": [
    "import pandas as pd"
   ]
  },
  {
   "cell_type": "code",
   "execution_count": null,
   "id": "859aa235",
   "metadata": {},
   "outputs": [],
   "source": [
    "# Create Pandas Series\n",
    "series1 = pd.Series([1, 2, 3])\n",
    "series2 = pd.Series([2, 2, 2])"
   ]
  },
  {
   "cell_type": "code",
   "execution_count": null,
   "id": "33fdb8f8",
   "metadata": {},
   "outputs": [],
   "source": [
    "# Check if series1 elements are less than series2 elements\n",
    "result = series1 < series2"
   ]
  },
  {
   "cell_type": "code",
   "execution_count": null,
   "id": "bf542f62",
   "metadata": {},
   "outputs": [],
   "source": [
    "print(result)"
   ]
  }
 ],
 "metadata": {
  "jupytext": {
   "cell_metadata_filter": "-all",
   "main_language": "python",
   "notebook_metadata_filter": "-all"
  }
 },
 "nbformat": 4,
 "nbformat_minor": 5
}
