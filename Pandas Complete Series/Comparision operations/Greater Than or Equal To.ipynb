{
 "cells": [
  {
   "cell_type": "code",
   "execution_count": null,
   "id": "2531f577",
   "metadata": {},
   "outputs": [],
   "source": [
    "import pandas as pd"
   ]
  },
  {
   "cell_type": "code",
   "execution_count": null,
   "id": "2b11d2fa",
   "metadata": {},
   "outputs": [],
   "source": [
    "# Create Pandas Series\n",
    "series1 = pd.Series([1, 2, 3])\n",
    "series2 = pd.Series([2, 2, 2])"
   ]
  },
  {
   "cell_type": "code",
   "execution_count": null,
   "id": "8b2e99d2",
   "metadata": {},
   "outputs": [],
   "source": [
    "# Check if series1 elements are greater than or equal to series2 elements\n",
    "result = series1 >= series2"
   ]
  },
  {
   "cell_type": "code",
   "execution_count": null,
   "id": "ce2d5d82",
   "metadata": {},
   "outputs": [],
   "source": [
    "print(result)"
   ]
  }
 ],
 "metadata": {
  "jupytext": {
   "cell_metadata_filter": "-all",
   "main_language": "python",
   "notebook_metadata_filter": "-all"
  }
 },
 "nbformat": 4,
 "nbformat_minor": 5
}
