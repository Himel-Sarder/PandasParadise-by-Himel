{
 "cells": [
  {
   "cell_type": "code",
   "execution_count": null,
   "id": "89a1245a",
   "metadata": {},
   "outputs": [],
   "source": [
    "import pandas as pd"
   ]
  },
  {
   "cell_type": "code",
   "execution_count": null,
   "id": "021d128f",
   "metadata": {},
   "outputs": [],
   "source": [
    "# Create Pandas Series\n",
    "series1 = pd.Series([1, 2, 3])\n",
    "series2 = pd.Series([1, 4, 3])"
   ]
  },
  {
   "cell_type": "code",
   "execution_count": null,
   "id": "0302832b",
   "metadata": {},
   "outputs": [],
   "source": [
    "# Check for equality\n",
    "result = series1 == series2"
   ]
  },
  {
   "cell_type": "code",
   "execution_count": null,
   "id": "c1957e64",
   "metadata": {},
   "outputs": [],
   "source": [
    "print(result)"
   ]
  }
 ],
 "metadata": {
  "jupytext": {
   "cell_metadata_filter": "-all",
   "main_language": "python",
   "notebook_metadata_filter": "-all"
  }
 },
 "nbformat": 4,
 "nbformat_minor": 5
}
