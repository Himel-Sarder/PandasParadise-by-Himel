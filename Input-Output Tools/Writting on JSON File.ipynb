{
 "cells": [
  {
   "cell_type": "code",
   "execution_count": null,
   "id": "aed05d5d",
   "metadata": {},
   "outputs": [],
   "source": [
    "import pandas as pd\n",
    "import json"
   ]
  },
  {
   "cell_type": "code",
   "execution_count": null,
   "id": "8b409efa",
   "metadata": {},
   "outputs": [],
   "source": [
    "# Create a sample DataFrame\n",
    "data = {\n",
    "    'Name': ['John', 'Alice', 'Bob'],\n",
    "    'Age': [30, 25, 28],\n",
    "    'City': ['New York', 'Los Angeles', 'Chicago']\n",
    "}\n",
    "df = pd.DataFrame(data)"
   ]
  },
  {
   "cell_type": "code",
   "execution_count": null,
   "id": "c7d8cd2e",
   "metadata": {},
   "outputs": [],
   "source": [
    "# Convert DataFrame to JSON string\n",
    "json_str = df.to_json(orient='records', indent=4)"
   ]
  },
  {
   "cell_type": "code",
   "execution_count": null,
   "id": "1130947a",
   "metadata": {},
   "outputs": [],
   "source": [
    "# Path to the JSON file where you want to write the data\n",
    "output_path = \"Output/output3.json\""
   ]
  },
  {
   "cell_type": "code",
   "execution_count": null,
   "id": "fdce3862",
   "metadata": {},
   "outputs": [],
   "source": [
    "# Write JSON string to file\n",
    "with open(output_path, 'w') as file:\n",
    "    file.write(json_str)"
   ]
  },
  {
   "cell_type": "code",
   "execution_count": null,
   "id": "ece49d26",
   "metadata": {},
   "outputs": [],
   "source": [
    "print(f\"DataFrame written to {output_path}\")"
   ]
  }
 ],
 "metadata": {
  "jupytext": {
   "cell_metadata_filter": "-all",
   "main_language": "python",
   "notebook_metadata_filter": "-all"
  }
 },
 "nbformat": 4,
 "nbformat_minor": 5
}
