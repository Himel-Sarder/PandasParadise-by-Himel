{
 "cells": [
  {
   "cell_type": "code",
   "execution_count": null,
   "id": "5f6188f0",
   "metadata": {},
   "outputs": [],
   "source": [
    "import pandas as pd"
   ]
  },
  {
   "cell_type": "code",
   "execution_count": null,
   "id": "378129b7",
   "metadata": {},
   "outputs": [],
   "source": [
    "path = \"Samples/Test3.xlsx\""
   ]
  },
  {
   "cell_type": "code",
   "execution_count": null,
   "id": "6369c2ce",
   "metadata": {},
   "outputs": [],
   "source": [
    "df = pd.read_excel(path,\n",
    "                   sheet_name=\"Employee Sample Data\")"
   ]
  },
  {
   "cell_type": "code",
   "execution_count": null,
   "id": "36dbdfde",
   "metadata": {},
   "outputs": [],
   "source": [
    "print(df.head())"
   ]
  }
 ],
 "metadata": {
  "jupytext": {
   "cell_metadata_filter": "-all",
   "main_language": "python",
   "notebook_metadata_filter": "-all"
  }
 },
 "nbformat": 4,
 "nbformat_minor": 5
}
