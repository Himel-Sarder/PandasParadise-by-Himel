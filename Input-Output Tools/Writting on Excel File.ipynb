{
 "cells": [
  {
   "cell_type": "code",
   "execution_count": null,
   "id": "beefcbe7",
   "metadata": {},
   "outputs": [],
   "source": [
    "import pandas as pd"
   ]
  },
  {
   "cell_type": "code",
   "execution_count": null,
   "id": "1a1f6a37",
   "metadata": {},
   "outputs": [],
   "source": [
    "# Sample data\n",
    "data = {\n",
    "    'Name': ['John', 'Alice', 'Bob', 'Emma'],\n",
    "    'Age': [23, 30, 25, 22],\n",
    "    'City': ['New York', 'Los Angeles', 'Chicago', 'Houston']\n",
    "}"
   ]
  },
  {
   "cell_type": "code",
   "execution_count": null,
   "id": "cd0bef2a",
   "metadata": {},
   "outputs": [],
   "source": [
    "# Create a DataFrame\n",
    "df = pd.DataFrame(data)"
   ]
  },
  {
   "cell_type": "code",
   "execution_count": null,
   "id": "de1e013b",
   "metadata": {},
   "outputs": [],
   "source": [
    "path = \"Output/output2.xlsx\""
   ]
  },
  {
   "cell_type": "code",
   "execution_count": null,
   "id": "4ff78217",
   "metadata": {},
   "outputs": [],
   "source": [
    "df.to_excel(path, sheet_name=\"Sheet2\", index=False)"
   ]
  },
  {
   "cell_type": "code",
   "execution_count": null,
   "id": "2f44f4ef",
   "metadata": {},
   "outputs": [],
   "source": [
    "print(\"Completed....\")"
   ]
  }
 ],
 "metadata": {
  "jupytext": {
   "cell_metadata_filter": "-all",
   "main_language": "python",
   "notebook_metadata_filter": "-all"
  }
 },
 "nbformat": 4,
 "nbformat_minor": 5
}
