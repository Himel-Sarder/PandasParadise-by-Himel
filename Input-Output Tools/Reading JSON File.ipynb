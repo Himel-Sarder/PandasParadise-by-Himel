{
 "cells": [
  {
   "cell_type": "code",
   "execution_count": null,
   "id": "2011cc93",
   "metadata": {},
   "outputs": [],
   "source": [
    "import pandas as pd"
   ]
  },
  {
   "cell_type": "code",
   "execution_count": null,
   "id": "8274844d",
   "metadata": {},
   "outputs": [],
   "source": [
    "# Read JSON file\n",
    "with open(\"Samples/Test4.json\", 'r') as file:\n",
    "    data = file.read()\n",
    "    df = pd.read_json(data)"
   ]
  },
  {
   "cell_type": "code",
   "execution_count": null,
   "id": "1751cb54",
   "metadata": {},
   "outputs": [],
   "source": [
    "# Display the DataFrame\n",
    "print(df.head())"
   ]
  }
 ],
 "metadata": {
  "jupytext": {
   "cell_metadata_filter": "-all",
   "main_language": "python",
   "notebook_metadata_filter": "-all"
  }
 },
 "nbformat": 4,
 "nbformat_minor": 5
}
