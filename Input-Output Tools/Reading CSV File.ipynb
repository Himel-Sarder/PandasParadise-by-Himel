{
 "cells": [
  {
   "cell_type": "code",
   "execution_count": null,
   "id": "d56f7e96",
   "metadata": {},
   "outputs": [],
   "source": [
    "import pandas as pd"
   ]
  },
  {
   "cell_type": "code",
   "execution_count": null,
   "id": "0d2e8d1d",
   "metadata": {},
   "outputs": [],
   "source": [
    "df = pd.read_csv('Samples/Test.csv')"
   ]
  },
  {
   "cell_type": "code",
   "execution_count": null,
   "id": "93e793fc",
   "metadata": {},
   "outputs": [],
   "source": [
    "print(df.head(3))\n",
    "print(df.tail())\n",
    "print(df.describe())\n",
    "print(df['Grade'])"
   ]
  }
 ],
 "metadata": {
  "jupytext": {
   "cell_metadata_filter": "-all",
   "main_language": "python",
   "notebook_metadata_filter": "-all"
  }
 },
 "nbformat": 4,
 "nbformat_minor": 5
}
