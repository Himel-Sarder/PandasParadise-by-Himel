{
 "cells": [
  {
   "cell_type": "code",
   "execution_count": null,
   "id": "cc76268f",
   "metadata": {},
   "outputs": [],
   "source": [
    "import pandas as pd"
   ]
  },
  {
   "cell_type": "code",
   "execution_count": null,
   "id": "9ad23044",
   "metadata": {},
   "outputs": [],
   "source": [
    "# Path to the HTML file\n",
    "input_path = \"Samples/Test5.html\""
   ]
  },
  {
   "cell_type": "code",
   "execution_count": null,
   "id": "456caa28",
   "metadata": {},
   "outputs": [],
   "source": [
    "# Read HTML file into a list of DataFrames\n",
    "dataframes = pd.read_html(input_path)"
   ]
  },
  {
   "cell_type": "code",
   "execution_count": null,
   "id": "1450f055",
   "metadata": {},
   "outputs": [],
   "source": [
    "# Display the first DataFrame (assuming the HTML file contains tables)\n",
    "df = dataframes[0]\n",
    "print(df)"
   ]
  }
 ],
 "metadata": {
  "jupytext": {
   "cell_metadata_filter": "-all",
   "main_language": "python",
   "notebook_metadata_filter": "-all"
  }
 },
 "nbformat": 4,
 "nbformat_minor": 5
}
