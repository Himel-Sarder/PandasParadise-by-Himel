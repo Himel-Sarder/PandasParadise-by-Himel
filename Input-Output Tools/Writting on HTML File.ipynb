{
 "cells": [
  {
   "cell_type": "code",
   "execution_count": null,
   "id": "ba6b02e3",
   "metadata": {},
   "outputs": [],
   "source": [
    "import pandas as pd\n",
    "import os"
   ]
  },
  {
   "cell_type": "code",
   "execution_count": null,
   "id": "78f91ad5",
   "metadata": {},
   "outputs": [],
   "source": [
    "# Sample data\n",
    "data = {\n",
    "    'Name': ['John', 'Alice', 'Bob', 'Eve'],\n",
    "    'Age': [30, 25, 35, 28],\n",
    "    'City': ['New York', 'Los Angeles', 'Chicago', 'San Francisco']\n",
    "}"
   ]
  },
  {
   "cell_type": "code",
   "execution_count": null,
   "id": "2c25e204",
   "metadata": {},
   "outputs": [],
   "source": [
    "# Create a DataFrame\n",
    "df = pd.DataFrame(data)"
   ]
  },
  {
   "cell_type": "code",
   "execution_count": null,
   "id": "a0c4b3f8",
   "metadata": {},
   "outputs": [],
   "source": [
    "# Convert DataFrame to HTML\n",
    "html_table = df.to_html(index=False)"
   ]
  },
  {
   "cell_type": "code",
   "execution_count": null,
   "id": "0a9df48f",
   "metadata": {},
   "outputs": [],
   "source": [
    "# Specify the directory where you want to save the file\n",
    "directory = r'E:\\Python\\Python Practice\\Complete Pandas\\Input-Output Tools\\Output'\n",
    "if not os.path.exists(directory):\n",
    "    os.makedirs(directory)"
   ]
  },
  {
   "cell_type": "code",
   "execution_count": null,
   "id": "f7a85344",
   "metadata": {},
   "outputs": [],
   "source": [
    "# Specify the file path\n",
    "file_path = os.path.join(directory, 'output4.html')"
   ]
  },
  {
   "cell_type": "code",
   "execution_count": null,
   "id": "c37818fa",
   "metadata": {},
   "outputs": [],
   "source": [
    "# Write HTML to the file\n",
    "with open(file_path, 'w') as f:\n",
    "    f.write(f'''\n",
    "    <!DOCTYPE html>\n",
    "    <html lang=\"en\">\n",
    "    <head>\n",
    "        <meta charset=\"UTF-8\">\n",
    "        <meta name=\"viewport\" content=\"width=device-width, initial-scale=1.0\">\n",
    "        <title>Sample HTML Page with Pandas</title>\n",
    "        <style>\n",
    "            body {{\n",
    "                font-family: Arial, sans-serif;\n",
    "                margin: 0;\n",
    "                padding: 0;\n",
    "                background-color: #f0f0f0;\n",
    "            }}\n",
    "            table {{\n",
    "                width: 100%;\n",
    "                border-collapse: collapse;\n",
    "                margin-top: 20px;\n",
    "            }}\n",
    "            th, td {{\n",
    "                border: 1px solid #ddd;\n",
    "                padding: 8px;\n",
    "                text-align: left;\n",
    "            }}\n",
    "            th {{\n",
    "                background-color: #f2f2f2;\n",
    "            }}\n",
    "        </style>\n",
    "    </head>\n",
    "    <body>\n",
    "        <h1>Sample HTML Page with Pandas</h1>\n",
    "        {html_table}\n",
    "    </body>\n",
    "    </html>\n",
    "    ''')"
   ]
  },
  {
   "cell_type": "code",
   "execution_count": null,
   "id": "9aec95d0",
   "metadata": {},
   "outputs": [],
   "source": [
    "print(f\"HTML file generated successfully and saved to {file_path}\")"
   ]
  }
 ],
 "metadata": {
  "jupytext": {
   "cell_metadata_filter": "-all",
   "main_language": "python",
   "notebook_metadata_filter": "-all"
  }
 },
 "nbformat": 4,
 "nbformat_minor": 5
}
