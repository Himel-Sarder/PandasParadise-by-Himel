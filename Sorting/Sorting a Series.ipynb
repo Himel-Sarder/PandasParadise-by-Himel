{
 "cells": [
  {
   "cell_type": "code",
   "execution_count": null,
   "id": "84faef00",
   "metadata": {},
   "outputs": [],
   "source": [
    "import pandas as pd"
   ]
  },
  {
   "cell_type": "code",
   "execution_count": null,
   "id": "8abe51ba",
   "metadata": {},
   "outputs": [],
   "source": [
    "# Creating a sample Series\n",
    "data = {'Name': ['Alice', 'Bob', 'Charlie'],\n",
    "        'Age': [25, 30, 35]}"
   ]
  },
  {
   "cell_type": "code",
   "execution_count": null,
   "id": "e8225464",
   "metadata": {},
   "outputs": [],
   "source": [
    "s = pd.Series(data['Age'], index=data['Name'])"
   ]
  },
  {
   "cell_type": "code",
   "execution_count": null,
   "id": "e5f86895",
   "metadata": {},
   "outputs": [],
   "source": [
    "# Sort Series by values\n",
    "sorted_values = s.sort_values()\n",
    "print(\"Sorted Series by values:\")\n",
    "print(sorted_values)"
   ]
  },
  {
   "cell_type": "code",
   "execution_count": null,
   "id": "1a584bf3",
   "metadata": {},
   "outputs": [],
   "source": [
    "# Sort Series by index\n",
    "sorted_index = s.sort_index()\n",
    "print(\"\\nSorted Series by index:\")\n",
    "print(sorted_index)"
   ]
  }
 ],
 "metadata": {
  "jupytext": {
   "cell_metadata_filter": "-all",
   "main_language": "python",
   "notebook_metadata_filter": "-all"
  }
 },
 "nbformat": 4,
 "nbformat_minor": 5
}
