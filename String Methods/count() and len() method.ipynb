{
 "cells": [
  {
   "cell_type": "code",
   "execution_count": null,
   "id": "75df2916",
   "metadata": {},
   "outputs": [],
   "source": [
    "import pandas as pd"
   ]
  },
  {
   "cell_type": "code",
   "execution_count": null,
   "id": "04e2f5cd",
   "metadata": {},
   "outputs": [],
   "source": [
    "# Creating a sample Series\n",
    "s = pd.Series(['apple', 'banana', 'cherry'])"
   ]
  },
  {
   "cell_type": "code",
   "execution_count": null,
   "id": "96542965",
   "metadata": {},
   "outputs": [],
   "source": [
    "# Count the occurrences of 'a' in each string\n",
    "print(s.str.count('a'))"
   ]
  },
  {
   "cell_type": "code",
   "execution_count": null,
   "id": "362dc8f8",
   "metadata": {},
   "outputs": [],
   "source": [
    "# Calculate the length of each string\n",
    "print(s.str.len())"
   ]
  }
 ],
 "metadata": {
  "jupytext": {
   "cell_metadata_filter": "-all",
   "main_language": "python",
   "notebook_metadata_filter": "-all"
  }
 },
 "nbformat": 4,
 "nbformat_minor": 5
}
