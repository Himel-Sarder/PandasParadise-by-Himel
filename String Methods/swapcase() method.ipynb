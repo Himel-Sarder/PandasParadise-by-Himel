{
 "cells": [
  {
   "cell_type": "code",
   "execution_count": null,
   "id": "6b345eb2",
   "metadata": {},
   "outputs": [],
   "source": [
    "import pandas as pd"
   ]
  },
  {
   "cell_type": "code",
   "execution_count": null,
   "id": "02ab84ea",
   "metadata": {},
   "outputs": [],
   "source": [
    "# Creating a sample Series\n",
    "s = pd.Series(['Hello World',\n",
    "               'Python Programming',\n",
    "               'PYTHon PanDAS'])"
   ]
  },
  {
   "cell_type": "markdown",
   "id": "62f0160b",
   "metadata": {},
   "source": [
    "Swap the case of each character in the strings"
   ]
  },
  {
   "cell_type": "code",
   "execution_count": null,
   "id": "742f0c02",
   "metadata": {},
   "outputs": [],
   "source": [
    "print(s.str.swapcase())"
   ]
  }
 ],
 "metadata": {
  "jupytext": {
   "cell_metadata_filter": "-all",
   "main_language": "python",
   "notebook_metadata_filter": "-all"
  }
 },
 "nbformat": 4,
 "nbformat_minor": 5
}
