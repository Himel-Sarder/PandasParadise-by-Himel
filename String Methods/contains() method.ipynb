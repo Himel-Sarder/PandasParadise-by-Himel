{
 "cells": [
  {
   "cell_type": "code",
   "execution_count": null,
   "id": "c5a1ed59",
   "metadata": {},
   "outputs": [],
   "source": [
    "import pandas as pd"
   ]
  },
  {
   "cell_type": "code",
   "execution_count": null,
   "id": "af3c7ac7",
   "metadata": {},
   "outputs": [],
   "source": [
    "# Creating a sample Series\n",
    "s = pd.Series(['apple', 'banana', 'chbrry'])"
   ]
  },
  {
   "cell_type": "code",
   "execution_count": null,
   "id": "ded78492",
   "metadata": {},
   "outputs": [],
   "source": [
    "# Check if each string contains 'an'\n",
    "result = s.str.contains('an')\n",
    "print(result)"
   ]
  },
  {
   "cell_type": "code",
   "execution_count": null,
   "id": "eec2e55a",
   "metadata": {},
   "outputs": [],
   "source": [
    "# Check if each string contains a vowel\n",
    "result2 = s.str.contains('[aeiou]')\n",
    "print(result2)"
   ]
  }
 ],
 "metadata": {
  "jupytext": {
   "cell_metadata_filter": "-all",
   "main_language": "python",
   "notebook_metadata_filter": "-all"
  }
 },
 "nbformat": 4,
 "nbformat_minor": 5
}
