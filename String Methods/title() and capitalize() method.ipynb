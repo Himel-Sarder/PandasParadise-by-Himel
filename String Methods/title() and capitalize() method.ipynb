{
 "cells": [
  {
   "cell_type": "code",
   "execution_count": null,
   "id": "b512434a",
   "metadata": {},
   "outputs": [],
   "source": [
    "import pandas as pd"
   ]
  },
  {
   "cell_type": "code",
   "execution_count": null,
   "id": "5c620efb",
   "metadata": {},
   "outputs": [],
   "source": [
    "# Creating a sample Series\n",
    "s = pd.Series(['personal land',\n",
    "               'himel the coderr',\n",
    "               'dark chocolate'])"
   ]
  },
  {
   "cell_type": "code",
   "execution_count": null,
   "id": "4df2c39b",
   "metadata": {
    "lines_to_next_cell": 2
   },
   "outputs": [],
   "source": [
    "# Convert the first character of\n",
    "# each word to uppercase\n",
    "print(s.str.title())"
   ]
  },
  {
   "cell_type": "code",
   "execution_count": null,
   "id": "ba7ad1d9",
   "metadata": {},
   "outputs": [],
   "source": [
    "# Capitalize the first character of each string\n",
    "print(s.str.capitalize())"
   ]
  }
 ],
 "metadata": {
  "jupytext": {
   "cell_metadata_filter": "-all",
   "main_language": "python",
   "notebook_metadata_filter": "-all"
  }
 },
 "nbformat": 4,
 "nbformat_minor": 5
}
