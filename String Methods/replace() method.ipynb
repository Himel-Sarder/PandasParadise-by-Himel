{
 "cells": [
  {
   "cell_type": "code",
   "execution_count": null,
   "id": "04e33e18",
   "metadata": {},
   "outputs": [],
   "source": [
    "import pandas as pd"
   ]
  },
  {
   "cell_type": "code",
   "execution_count": null,
   "id": "3ca708c0",
   "metadata": {},
   "outputs": [],
   "source": [
    "# Creating a sample Series\n",
    "s = pd.Series(['apple', 'banana', 'pherry'])"
   ]
  },
  {
   "cell_type": "code",
   "execution_count": null,
   "id": "9dced957",
   "metadata": {},
   "outputs": [],
   "source": [
    "# Replace 'a' with 'X' in each string of the Series\n",
    "result = s.str.replace('a', 'X')\n",
    "print(result)"
   ]
  },
  {
   "cell_type": "code",
   "execution_count": null,
   "id": "0470c075",
   "metadata": {},
   "outputs": [],
   "source": [
    "# Replace 'p' with '_' in each string of the Series\n",
    "result2 = s.str.replace('p', '_')\n",
    "print(result2)"
   ]
  }
 ],
 "metadata": {
  "jupytext": {
   "cell_metadata_filter": "-all",
   "main_language": "python",
   "notebook_metadata_filter": "-all"
  }
 },
 "nbformat": 4,
 "nbformat_minor": 5
}
