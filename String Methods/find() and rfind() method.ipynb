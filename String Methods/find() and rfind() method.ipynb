{
 "cells": [
  {
   "cell_type": "code",
   "execution_count": null,
   "id": "b5528a37",
   "metadata": {},
   "outputs": [],
   "source": [
    "import pandas as pd"
   ]
  },
  {
   "cell_type": "code",
   "execution_count": null,
   "id": "60a09f7c",
   "metadata": {},
   "outputs": [],
   "source": [
    "# Creating a sample Series\n",
    "s = pd.Series(['apple', 'banana', 'cherry'])"
   ]
  },
  {
   "cell_type": "code",
   "execution_count": null,
   "id": "d96d5f5f",
   "metadata": {},
   "outputs": [],
   "source": [
    "# Find the index of the first\n",
    "# occurrence of 'an' in each string\n",
    "print(s.str.find('an'))"
   ]
  },
  {
   "cell_type": "code",
   "execution_count": null,
   "id": "20b4bfc8",
   "metadata": {
    "lines_to_next_cell": 2
   },
   "outputs": [],
   "source": [
    "# Find the index of the last\n",
    "# occurrence of 'e' in each string\n",
    "print(s.str.rfind('e'))"
   ]
  }
 ],
 "metadata": {
  "jupytext": {
   "cell_metadata_filter": "-all",
   "main_language": "python",
   "notebook_metadata_filter": "-all"
  }
 },
 "nbformat": 4,
 "nbformat_minor": 5
}
