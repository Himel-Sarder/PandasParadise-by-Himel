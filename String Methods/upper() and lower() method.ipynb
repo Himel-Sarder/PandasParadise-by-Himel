{
 "cells": [
  {
   "cell_type": "code",
   "execution_count": null,
   "id": "e3f27ecc",
   "metadata": {},
   "outputs": [],
   "source": [
    "import pandas as pd"
   ]
  },
  {
   "cell_type": "code",
   "execution_count": null,
   "id": "aaa4e3ce",
   "metadata": {},
   "outputs": [],
   "source": [
    "# Creating a sample Series\n",
    "s = pd.Series(['java', 'Python', 'PANDAS'])"
   ]
  },
  {
   "cell_type": "code",
   "execution_count": null,
   "id": "af5936a3",
   "metadata": {},
   "outputs": [],
   "source": [
    "# Convert all strings to uppercase\n",
    "print(s.str.upper())"
   ]
  },
  {
   "cell_type": "code",
   "execution_count": null,
   "id": "8e0e6c58",
   "metadata": {},
   "outputs": [],
   "source": [
    "# Convert all strings to lowercase\n",
    "print(s.str.lower())"
   ]
  }
 ],
 "metadata": {
  "jupytext": {
   "cell_metadata_filter": "-all",
   "main_language": "python",
   "notebook_metadata_filter": "-all"
  }
 },
 "nbformat": 4,
 "nbformat_minor": 5
}
