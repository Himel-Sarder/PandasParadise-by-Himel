{
 "cells": [
  {
   "cell_type": "code",
   "execution_count": null,
   "id": "1a33f858",
   "metadata": {},
   "outputs": [],
   "source": [
    "import pandas as pd"
   ]
  },
  {
   "cell_type": "code",
   "execution_count": null,
   "id": "06e84505",
   "metadata": {},
   "outputs": [],
   "source": [
    "# Creating a sample Series\n",
    "s = pd.Series(['  hello ', '  world', 'python  '])"
   ]
  },
  {
   "cell_type": "code",
   "execution_count": null,
   "id": "b26bf3f9",
   "metadata": {
    "lines_to_next_cell": 2
   },
   "outputs": [],
   "source": [
    "# Remove leading and trailing whitespace\n",
    "print(s.str.strip())"
   ]
  },
  {
   "cell_type": "code",
   "execution_count": null,
   "id": "d4bb4c7c",
   "metadata": {
    "lines_to_next_cell": 2
   },
   "outputs": [],
   "source": [
    "# Remove leading whitespace\n",
    "print(s.str.lstrip())"
   ]
  },
  {
   "cell_type": "code",
   "execution_count": null,
   "id": "eb64a6cb",
   "metadata": {},
   "outputs": [],
   "source": [
    "# Remove trailing whitespace\n",
    "print(s.str.rstrip())"
   ]
  }
 ],
 "metadata": {
  "jupytext": {
   "cell_metadata_filter": "-all",
   "main_language": "python",
   "notebook_metadata_filter": "-all"
  }
 },
 "nbformat": 4,
 "nbformat_minor": 5
}
