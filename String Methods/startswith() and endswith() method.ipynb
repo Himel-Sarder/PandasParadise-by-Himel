{
 "cells": [
  {
   "cell_type": "code",
   "execution_count": null,
   "id": "40e80e2a",
   "metadata": {},
   "outputs": [],
   "source": [
    "import pandas as pd"
   ]
  },
  {
   "cell_type": "code",
   "execution_count": null,
   "id": "7a5cfde8",
   "metadata": {},
   "outputs": [],
   "source": [
    "# Creating a sample Series\n",
    "s = pd.Series(['apple', 'banana', 'cherry'])"
   ]
  },
  {
   "cell_type": "code",
   "execution_count": null,
   "id": "e023ae64",
   "metadata": {},
   "outputs": [],
   "source": [
    "# Check if each string starts with 'a'\n",
    "result = s.str.startswith('a')\n",
    "print(result)"
   ]
  },
  {
   "cell_type": "code",
   "execution_count": null,
   "id": "855730dc",
   "metadata": {},
   "outputs": [],
   "source": [
    "# Check if each string starts with 'b'\n",
    "print(s.str.startswith('b'))"
   ]
  },
  {
   "cell_type": "code",
   "execution_count": null,
   "id": "b5a169bc",
   "metadata": {},
   "outputs": [],
   "source": [
    "# Check if each string ends with 'e'\n",
    "print(s.str.endswith('e'))"
   ]
  },
  {
   "cell_type": "code",
   "execution_count": null,
   "id": "c810323d",
   "metadata": {},
   "outputs": [],
   "source": [
    "# Check if each string ends with 'y'\n",
    "print(s.str.endswith('y'))"
   ]
  }
 ],
 "metadata": {
  "jupytext": {
   "cell_metadata_filter": "-all",
   "main_language": "python",
   "notebook_metadata_filter": "-all"
  }
 },
 "nbformat": 4,
 "nbformat_minor": 5
}
