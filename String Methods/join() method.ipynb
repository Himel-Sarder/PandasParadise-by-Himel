{
 "cells": [
  {
   "cell_type": "code",
   "execution_count": null,
   "id": "bbfb0a58",
   "metadata": {},
   "outputs": [],
   "source": [
    "import pandas as pd"
   ]
  },
  {
   "cell_type": "code",
   "execution_count": null,
   "id": "7159c8c0",
   "metadata": {},
   "outputs": [],
   "source": [
    "# Creating a sample Series\n",
    "s = pd.Series(['Web Development ',\n",
    "               'Python Developer ',\n",
    "               'Competitive programmer'])"
   ]
  },
  {
   "cell_type": "code",
   "execution_count": null,
   "id": "4073dd5f",
   "metadata": {},
   "outputs": [],
   "source": [
    "# Joining elements of the\n",
    "# Series with a separator\n",
    "result = '|'.join(s)\n",
    "result2 = '*'.join(s)\n",
    "result3 = '#'.join(s)\n",
    "print(result)\n",
    "print(result2)\n",
    "print(result3)"
   ]
  }
 ],
 "metadata": {
  "jupytext": {
   "cell_metadata_filter": "-all",
   "main_language": "python",
   "notebook_metadata_filter": "-all"
  }
 },
 "nbformat": 4,
 "nbformat_minor": 5
}
