{
 "cells": [
  {
   "cell_type": "code",
   "execution_count": null,
   "id": "219b5637",
   "metadata": {},
   "outputs": [],
   "source": [
    "import pandas as pd"
   ]
  },
  {
   "cell_type": "code",
   "execution_count": null,
   "id": "4fa84a4a",
   "metadata": {},
   "outputs": [],
   "source": [
    "# Creating a sample DataFrame with time-series data\n",
    "data = {'date': pd.date_range(start='2022-01-01', periods=10),\n",
    "        'value': [10, 20, 30, 40, 50, 60, 70, 80, 90, 100]}"
   ]
  },
  {
   "cell_type": "code",
   "execution_count": null,
   "id": "f56e013b",
   "metadata": {},
   "outputs": [],
   "source": [
    "df = pd.DataFrame(data)"
   ]
  },
  {
   "cell_type": "code",
   "execution_count": null,
   "id": "6a83a0b9",
   "metadata": {
    "lines_to_next_cell": 2
   },
   "outputs": [],
   "source": []
  },
  {
   "cell_type": "code",
   "execution_count": null,
   "id": "e09a60e1",
   "metadata": {},
   "outputs": [],
   "source": [
    "# 1. Rolling Sum\n",
    "rolling_sum = df['value'].rolling(window=3).sum()\n",
    "print(\"Rolling Sum:\")\n",
    "print(rolling_sum)"
   ]
  },
  {
   "cell_type": "code",
   "execution_count": null,
   "id": "5380539b",
   "metadata": {
    "lines_to_next_cell": 2
   },
   "outputs": [],
   "source": []
  },
  {
   "cell_type": "code",
   "execution_count": null,
   "id": "567476c1",
   "metadata": {},
   "outputs": [],
   "source": [
    "# 2. Rolling Mean\n",
    "rolling_mean = df['value'].rolling(window=3).mean()\n",
    "print(\"\\nRolling Mean:\")\n",
    "print(rolling_mean)"
   ]
  },
  {
   "cell_type": "code",
   "execution_count": null,
   "id": "23907d1d",
   "metadata": {
    "lines_to_next_cell": 2
   },
   "outputs": [],
   "source": []
  },
  {
   "cell_type": "code",
   "execution_count": null,
   "id": "e79dc14d",
   "metadata": {},
   "outputs": [],
   "source": [
    "# 3. Rolling Median\n",
    "rolling_median = df['value'].rolling(window=3).median()\n",
    "print(\"\\nRolling Median:\")\n",
    "print(rolling_median)"
   ]
  },
  {
   "cell_type": "code",
   "execution_count": null,
   "id": "98fc1809",
   "metadata": {
    "lines_to_next_cell": 2
   },
   "outputs": [],
   "source": []
  },
  {
   "cell_type": "code",
   "execution_count": null,
   "id": "12e2dde3",
   "metadata": {},
   "outputs": [],
   "source": [
    "# 4. Rolling Minimum\n",
    "rolling_min = df['value'].rolling(window=3).min()\n",
    "print(\"\\nRolling Minimum:\")\n",
    "print(rolling_min)"
   ]
  },
  {
   "cell_type": "code",
   "execution_count": null,
   "id": "60d4aa22",
   "metadata": {
    "lines_to_next_cell": 2
   },
   "outputs": [],
   "source": []
  },
  {
   "cell_type": "code",
   "execution_count": null,
   "id": "da1c3c91",
   "metadata": {},
   "outputs": [],
   "source": [
    "# 5. Rolling Maximum\n",
    "rolling_max = df['value'].rolling(window=3).max()\n",
    "print(\"\\nRolling Maximum:\")\n",
    "print(rolling_max)"
   ]
  },
  {
   "cell_type": "code",
   "execution_count": null,
   "id": "8fa107d0",
   "metadata": {
    "lines_to_next_cell": 2
   },
   "outputs": [],
   "source": []
  },
  {
   "cell_type": "code",
   "execution_count": null,
   "id": "caa1adf7",
   "metadata": {},
   "outputs": [],
   "source": [
    "# 6. Rolling Variance\n",
    "rolling_variance = df['value'].rolling(window=3).var()\n",
    "print(\"\\nRolling Variance:\")\n",
    "print(rolling_variance)"
   ]
  },
  {
   "cell_type": "code",
   "execution_count": null,
   "id": "cb73af40",
   "metadata": {
    "lines_to_next_cell": 2
   },
   "outputs": [],
   "source": []
  },
  {
   "cell_type": "code",
   "execution_count": null,
   "id": "e937a815",
   "metadata": {},
   "outputs": [],
   "source": [
    "# 7. Rolling Standard Deviation\n",
    "rolling_std = df['value'].rolling(window=3).std()\n",
    "print(\"\\nRolling Standard Deviation:\")\n",
    "print(rolling_std)"
   ]
  },
  {
   "cell_type": "code",
   "execution_count": null,
   "id": "592e52ab",
   "metadata": {
    "lines_to_next_cell": 2
   },
   "outputs": [],
   "source": []
  },
  {
   "cell_type": "code",
   "execution_count": null,
   "id": "bdcf6d03",
   "metadata": {
    "lines_to_next_cell": 1
   },
   "outputs": [],
   "source": [
    "# 8. Apply Custom Function\n",
    "def custom_function(x):\n",
    "    return x.max() - x.min()"
   ]
  },
  {
   "cell_type": "code",
   "execution_count": null,
   "id": "2ff7e6cc",
   "metadata": {},
   "outputs": [],
   "source": [
    "rolling_custom = df['value'].rolling(window=3).apply(custom_function)\n",
    "print(\"\\nRolling Custom Function (Max - Min):\")\n",
    "print(rolling_custom)"
   ]
  },
  {
   "cell_type": "code",
   "execution_count": null,
   "id": "9e45c0ce",
   "metadata": {
    "lines_to_next_cell": 2
   },
   "outputs": [],
   "source": []
  },
  {
   "cell_type": "code",
   "execution_count": null,
   "id": "e6e482cd",
   "metadata": {},
   "outputs": [],
   "source": [
    "# 9. Exponential Moving Average (EMA)\n",
    "ema = df['value'].ewm(span=3, adjust=False).mean()\n",
    "print(\"\\nExponential Moving Average (EMA):\")\n",
    "print(ema)"
   ]
  },
  {
   "cell_type": "code",
   "execution_count": null,
   "id": "54c4c506",
   "metadata": {
    "lines_to_next_cell": 2
   },
   "outputs": [],
   "source": []
  },
  {
   "cell_type": "code",
   "execution_count": null,
   "id": "b71aa3cd",
   "metadata": {},
   "outputs": [],
   "source": [
    "# 10. Rolling Count\n",
    "rolling_count = df['value'].rolling(window=3).count()\n",
    "print(\"Rolling Count:\")\n",
    "print(rolling_count)"
   ]
  },
  {
   "cell_type": "code",
   "execution_count": null,
   "id": "02caa7c4",
   "metadata": {
    "lines_to_next_cell": 2
   },
   "outputs": [],
   "source": []
  },
  {
   "cell_type": "code",
   "execution_count": null,
   "id": "86b5240d",
   "metadata": {},
   "outputs": [],
   "source": [
    "# 11. Rolling Skewness\n",
    "rolling_skew = df['value'].rolling(window=3).skew()\n",
    "print(\"\\nRolling Skewness:\")\n",
    "print(rolling_skew)"
   ]
  },
  {
   "cell_type": "code",
   "execution_count": null,
   "id": "c4efabb0",
   "metadata": {
    "lines_to_next_cell": 2
   },
   "outputs": [],
   "source": []
  },
  {
   "cell_type": "code",
   "execution_count": null,
   "id": "36379ec7",
   "metadata": {},
   "outputs": [],
   "source": [
    "# 12. Rolling Kurtosis\n",
    "rolling_kurtosis = df['value'].rolling(window=3).kurt()\n",
    "print(\"\\nRolling Kurtosis:\")\n",
    "print(rolling_kurtosis)"
   ]
  },
  {
   "cell_type": "code",
   "execution_count": null,
   "id": "843a3211",
   "metadata": {
    "lines_to_next_cell": 2
   },
   "outputs": [],
   "source": []
  },
  {
   "cell_type": "code",
   "execution_count": null,
   "id": "d906c71d",
   "metadata": {},
   "outputs": [],
   "source": [
    "# 13. Rolling Covariance\n",
    "rolling_covariance = df['value'].rolling(window=3).cov(df['value'].shift(-1))\n",
    "print(\"\\nRolling Covariance:\")\n",
    "print(rolling_covariance)"
   ]
  },
  {
   "cell_type": "code",
   "execution_count": null,
   "id": "7e5be7a2",
   "metadata": {
    "lines_to_next_cell": 2
   },
   "outputs": [],
   "source": []
  },
  {
   "cell_type": "code",
   "execution_count": null,
   "id": "09c3b799",
   "metadata": {},
   "outputs": [],
   "source": [
    "# 14. Rolling Correlation\n",
    "rolling_correlation = df['value'].rolling(window=3).corr(df['value'].shift(-1))\n",
    "print(\"\\nRolling Correlation:\")\n",
    "print(rolling_correlation)"
   ]
  },
  {
   "cell_type": "code",
   "execution_count": null,
   "id": "cdc57c49",
   "metadata": {
    "lines_to_next_cell": 2
   },
   "outputs": [],
   "source": []
  },
  {
   "cell_type": "code",
   "execution_count": null,
   "id": "af362ab3",
   "metadata": {},
   "outputs": [],
   "source": [
    "# 15. Rolling Apply with a Custom Function (e.g., Moving Average)\n",
    "rolling_ma = df['value'].rolling(window=3).apply(lambda x: x.mean())\n",
    "print(\"\\nRolling Moving Average:\")\n",
    "print(rolling_ma)"
   ]
  },
  {
   "cell_type": "code",
   "execution_count": null,
   "id": "c36b5d77",
   "metadata": {
    "lines_to_next_cell": 2
   },
   "outputs": [],
   "source": []
  },
  {
   "cell_type": "code",
   "execution_count": null,
   "id": "0b4ec3ab",
   "metadata": {},
   "outputs": [],
   "source": [
    "# 16. Rolling Quantile\n",
    "rolling_quantile = df['value'].rolling(window=3).quantile(0.5)  # 50th percentile\n",
    "print(\"\\nRolling Quantile (50th Percentile):\")\n",
    "print(rolling_quantile)"
   ]
  },
  {
   "cell_type": "code",
   "execution_count": null,
   "id": "24bd836e",
   "metadata": {
    "lines_to_next_cell": 2
   },
   "outputs": [],
   "source": []
  },
  {
   "cell_type": "code",
   "execution_count": null,
   "id": "3684c8ca",
   "metadata": {},
   "outputs": [],
   "source": [
    "# 17. Rolling Exponential Weighted Mean (EWMA)\n",
    "ewma = df['value'].ewm(span=3).mean()\n",
    "print(\"\\nExponential Weighted Moving Average (EWMA):\")\n",
    "print(ewma)"
   ]
  },
  {
   "cell_type": "code",
   "execution_count": null,
   "id": "47217279",
   "metadata": {
    "lines_to_next_cell": 2
   },
   "outputs": [],
   "source": []
  },
  {
   "cell_type": "code",
   "execution_count": null,
   "id": "94a98c44",
   "metadata": {},
   "outputs": [],
   "source": [
    "# 18. Rolling Sum of Squares\n",
    "rolling_sum_sq = df['value'].rolling(window=3).apply(lambda x: (x**2).sum())\n",
    "print(\"Rolling Sum of Squares:\")\n",
    "print(rolling_sum_sq)"
   ]
  },
  {
   "cell_type": "code",
   "execution_count": null,
   "id": "9027d937",
   "metadata": {
    "lines_to_next_cell": 2
   },
   "outputs": [],
   "source": []
  },
  {
   "cell_type": "code",
   "execution_count": null,
   "id": "e3291ecb",
   "metadata": {},
   "outputs": [],
   "source": [
    "# 19. Rolling Exponential Weighted Covariance\n",
    "rolling_ewm_cov = df['value'].ewm(span=3).cov(df['value'].shift(-1))\n",
    "print(\"\\nRolling Exponential Weighted Covariance:\")\n",
    "print(rolling_ewm_cov)"
   ]
  },
  {
   "cell_type": "code",
   "execution_count": null,
   "id": "da27d624",
   "metadata": {
    "lines_to_next_cell": 2
   },
   "outputs": [],
   "source": []
  },
  {
   "cell_type": "code",
   "execution_count": null,
   "id": "3acf0874",
   "metadata": {},
   "outputs": [],
   "source": [
    "# 20. Rolling Exponential Weighted Correlation\n",
    "rolling_ewm_corr = df['value'].ewm(span=3).corr(df['value'].shift(-1))\n",
    "print(\"\\nRolling Exponential Weighted Correlation:\")\n",
    "print(rolling_ewm_corr)"
   ]
  },
  {
   "cell_type": "code",
   "execution_count": null,
   "id": "ed62ee99",
   "metadata": {
    "lines_to_next_cell": 2
   },
   "outputs": [],
   "source": []
  },
  {
   "cell_type": "code",
   "execution_count": null,
   "id": "418d2a1b",
   "metadata": {},
   "outputs": [],
   "source": [
    "# 21. Rolling Quantile with Custom Quantile Values\n",
    "rolling_custom_quantile = df['value'].rolling(window=3).quantile([0.25, 0.75])  # 25th and 75th percentiles\n",
    "print(\"\\nRolling Custom Quantiles (25th and 75th Percentiles):\")\n",
    "print(rolling_custom_quantile)"
   ]
  },
  {
   "cell_type": "code",
   "execution_count": null,
   "id": "885f93be",
   "metadata": {
    "lines_to_next_cell": 2
   },
   "outputs": [],
   "source": []
  },
  {
   "cell_type": "code",
   "execution_count": null,
   "id": "bba85585",
   "metadata": {},
   "outputs": [],
   "source": [
    "# 22. Rolling Exponential Weighted Standard Deviation\n",
    "rolling_ewm_std = df['value'].ewm(span=3).std()\n",
    "print(\"\\nRolling Exponential Weighted Standard Deviation:\")\n",
    "print(rolling_ewm_std)"
   ]
  },
  {
   "cell_type": "code",
   "execution_count": null,
   "id": "36d08ce5",
   "metadata": {
    "lines_to_next_cell": 2
   },
   "outputs": [],
   "source": []
  },
  {
   "cell_type": "code",
   "execution_count": null,
   "id": "c4637cb8",
   "metadata": {},
   "outputs": [],
   "source": [
    "# 23. Rolling Exponential Weighted Variance\n",
    "rolling_ewm_var = df['value'].ewm(span=3).var()\n",
    "print(\"\\nRolling Exponential Weighted Variance:\")\n",
    "print(rolling_ewm_var)"
   ]
  },
  {
   "cell_type": "code",
   "execution_count": null,
   "id": "60669b48",
   "metadata": {
    "lines_to_next_cell": 2
   },
   "outputs": [],
   "source": []
  },
  {
   "cell_type": "code",
   "execution_count": null,
   "id": "6a5479f7",
   "metadata": {
    "lines_to_next_cell": 1
   },
   "outputs": [],
   "source": [
    "# 24. Rolling Quantile with Custom Quantile Function\n",
    "def custom_quantile(x):\n",
    "    return x.quantile(0.25)"
   ]
  },
  {
   "cell_type": "code",
   "execution_count": null,
   "id": "5d29d78d",
   "metadata": {},
   "outputs": [],
   "source": [
    "rolling_custom_quantile_func = df['value'].rolling(window=3).apply(custom_quantile)\n",
    "print(\"\\nRolling Quantile with Custom Quantile Function (25th Percentile):\")\n",
    "print(rolling_custom_quantile_func)"
   ]
  }
 ],
 "metadata": {
  "jupytext": {
   "cell_metadata_filter": "-all",
   "main_language": "python",
   "notebook_metadata_filter": "-all"
  }
 },
 "nbformat": 4,
 "nbformat_minor": 5
}
