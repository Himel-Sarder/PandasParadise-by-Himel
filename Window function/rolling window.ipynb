{
 "cells": [
  {
   "cell_type": "code",
   "execution_count": null,
   "id": "ce92982e",
   "metadata": {},
   "outputs": [],
   "source": [
    "import pandas as pd"
   ]
  },
  {
   "cell_type": "code",
   "execution_count": null,
   "id": "fa90bd26",
   "metadata": {},
   "outputs": [],
   "source": [
    "# Creating a sample DataFrame with time-series data\n",
    "data = {'date': pd.date_range(start='2022-01-01', periods=10),\n",
    "        'value': [10, 20, 30, 40, 50, 60, 70, 80, 90, 100]}"
   ]
  },
  {
   "cell_type": "code",
   "execution_count": null,
   "id": "49fd9604",
   "metadata": {},
   "outputs": [],
   "source": [
    "df = pd.DataFrame(data)"
   ]
  },
  {
   "cell_type": "code",
   "execution_count": null,
   "id": "26b19809",
   "metadata": {},
   "outputs": [],
   "source": [
    "# Applying a rolling window operation to calculate the rolling mean\n",
    "window_size = 3\n",
    "rolling_mean = df['value'].rolling(window=window_size).mean()"
   ]
  },
  {
   "cell_type": "code",
   "execution_count": null,
   "id": "131e57bc",
   "metadata": {},
   "outputs": [],
   "source": [
    "# Adding the rolling mean as a new column in the DataFrame\n",
    "df['rolling_mean'] = rolling_mean"
   ]
  },
  {
   "cell_type": "code",
   "execution_count": null,
   "id": "7e87e0a3",
   "metadata": {},
   "outputs": [],
   "source": [
    "print(df)"
   ]
  }
 ],
 "metadata": {
  "jupytext": {
   "cell_metadata_filter": "-all",
   "main_language": "python",
   "notebook_metadata_filter": "-all"
  }
 },
 "nbformat": 4,
 "nbformat_minor": 5
}
