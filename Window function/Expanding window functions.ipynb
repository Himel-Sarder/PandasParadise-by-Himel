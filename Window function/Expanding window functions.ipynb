{
 "cells": [
  {
   "cell_type": "code",
   "execution_count": null,
   "id": "2327bf1d",
   "metadata": {},
   "outputs": [],
   "source": [
    "import pandas as pd"
   ]
  },
  {
   "cell_type": "code",
   "execution_count": null,
   "id": "e6f5b577",
   "metadata": {},
   "outputs": [],
   "source": [
    "# Creating a sample DataFrame with time-series data\n",
    "data = {'date': pd.date_range(start='2022-01-01', periods=10),\n",
    "        'value': [10, 20, 30, 40, 50, 60, 70, 80, 90, 100]}"
   ]
  },
  {
   "cell_type": "code",
   "execution_count": null,
   "id": "a858b49e",
   "metadata": {},
   "outputs": [],
   "source": [
    "df = pd.DataFrame(data)"
   ]
  },
  {
   "cell_type": "code",
   "execution_count": null,
   "id": "811ceb67",
   "metadata": {
    "lines_to_next_cell": 2
   },
   "outputs": [],
   "source": []
  },
  {
   "cell_type": "code",
   "execution_count": null,
   "id": "6121926f",
   "metadata": {},
   "outputs": [],
   "source": [
    "# 1. Expanding sum\n",
    "expanding_sum = df['value'].expanding().sum()\n",
    "print(\"Expanding Sum:\")\n",
    "print(expanding_sum)"
   ]
  },
  {
   "cell_type": "code",
   "execution_count": null,
   "id": "381cc531",
   "metadata": {
    "lines_to_next_cell": 2
   },
   "outputs": [],
   "source": []
  },
  {
   "cell_type": "code",
   "execution_count": null,
   "id": "19445327",
   "metadata": {},
   "outputs": [],
   "source": [
    "# 2. Expanding mean\n",
    "expanding_mean = df['value'].expanding().mean()\n",
    "print(\"\\nExpanding Mean:\")\n",
    "print(expanding_mean)"
   ]
  },
  {
   "cell_type": "code",
   "execution_count": null,
   "id": "97406404",
   "metadata": {
    "lines_to_next_cell": 2
   },
   "outputs": [],
   "source": []
  },
  {
   "cell_type": "code",
   "execution_count": null,
   "id": "dbdf673a",
   "metadata": {},
   "outputs": [],
   "source": [
    "# 3. Expanding maximum\n",
    "expanding_max = df['value'].expanding().max()\n",
    "print(\"\\nExpanding Maximum:\")\n",
    "print(expanding_max)"
   ]
  },
  {
   "cell_type": "code",
   "execution_count": null,
   "id": "521fc2c0",
   "metadata": {
    "lines_to_next_cell": 2
   },
   "outputs": [],
   "source": []
  },
  {
   "cell_type": "code",
   "execution_count": null,
   "id": "8f40b0e1",
   "metadata": {},
   "outputs": [],
   "source": [
    "# 4. Expanding minimum\n",
    "expanding_min = df['value'].expanding().min()\n",
    "print(\"\\nExpanding Minimum:\")\n",
    "print(expanding_min)"
   ]
  },
  {
   "cell_type": "code",
   "execution_count": null,
   "id": "8083b5d7",
   "metadata": {},
   "outputs": [],
   "source": []
  },
  {
   "cell_type": "code",
   "execution_count": null,
   "id": "4d591cb0",
   "metadata": {},
   "outputs": [],
   "source": [
    "# 5. Expanding Standard Deviation\n",
    "expanding_std = df['value'].expanding().std()\n",
    "print(\"\\nExpanding Standard Deviation:\")\n",
    "print(expanding_std)"
   ]
  },
  {
   "cell_type": "code",
   "execution_count": null,
   "id": "78f41035",
   "metadata": {
    "lines_to_next_cell": 2
   },
   "outputs": [],
   "source": []
  },
  {
   "cell_type": "code",
   "execution_count": null,
   "id": "10bf2823",
   "metadata": {},
   "outputs": [],
   "source": [
    "# 6. Expanding Variance\n",
    "expanding_var = df['value'].expanding().var()\n",
    "print(\"\\nExpanding Variance:\")\n",
    "print(expanding_var)"
   ]
  },
  {
   "cell_type": "code",
   "execution_count": null,
   "id": "0d239c05",
   "metadata": {
    "lines_to_next_cell": 2
   },
   "outputs": [],
   "source": []
  },
  {
   "cell_type": "code",
   "execution_count": null,
   "id": "ce5f9fea",
   "metadata": {},
   "outputs": [],
   "source": [
    "# 7. Expanding Count\n",
    "expanding_count = df['value'].expanding().count()\n",
    "print(\"\\nExpanding Count:\")\n",
    "print(expanding_count)"
   ]
  },
  {
   "cell_type": "code",
   "execution_count": null,
   "id": "d8c46446",
   "metadata": {
    "lines_to_next_cell": 2
   },
   "outputs": [],
   "source": []
  },
  {
   "cell_type": "code",
   "execution_count": null,
   "id": "40d49b7c",
   "metadata": {},
   "outputs": [],
   "source": [
    "# 8. Expanding Skewness\n",
    "expanding_skew = df['value'].expanding().skew()\n",
    "print(\"\\nExpanding Skewness:\")\n",
    "print(expanding_skew)"
   ]
  },
  {
   "cell_type": "code",
   "execution_count": null,
   "id": "0bb2547e",
   "metadata": {
    "lines_to_next_cell": 2
   },
   "outputs": [],
   "source": []
  },
  {
   "cell_type": "code",
   "execution_count": null,
   "id": "0890ed50",
   "metadata": {},
   "outputs": [],
   "source": [
    "# 9. Expanding Kurtosis\n",
    "expanding_kurt = df['value'].expanding().kurt()\n",
    "print(\"\\nExpanding Kurtosis:\")\n",
    "print(expanding_kurt)"
   ]
  },
  {
   "cell_type": "code",
   "execution_count": null,
   "id": "eb47809e",
   "metadata": {
    "lines_to_next_cell": 2
   },
   "outputs": [],
   "source": []
  },
  {
   "cell_type": "code",
   "execution_count": null,
   "id": "a0e1c47e",
   "metadata": {
    "lines_to_next_cell": 1
   },
   "outputs": [],
   "source": [
    "# 10. Custom Expanding Function\n",
    "def custom_expanding_function(x):\n",
    "    return x.max() - x.min()"
   ]
  },
  {
   "cell_type": "code",
   "execution_count": null,
   "id": "f050729e",
   "metadata": {},
   "outputs": [],
   "source": [
    "expanding_custom = df['value'].expanding().apply(custom_expanding_function)\n",
    "print(\"\\nCustom Expanding Function (Max - Min):\")\n",
    "print(expanding_custom)"
   ]
  }
 ],
 "metadata": {
  "jupytext": {
   "cell_metadata_filter": "-all",
   "main_language": "python",
   "notebook_metadata_filter": "-all"
  }
 },
 "nbformat": 4,
 "nbformat_minor": 5
}
