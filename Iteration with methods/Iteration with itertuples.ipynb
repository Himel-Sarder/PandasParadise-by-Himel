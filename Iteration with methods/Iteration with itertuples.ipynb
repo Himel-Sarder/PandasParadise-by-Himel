{
 "cells": [
  {
   "cell_type": "code",
   "execution_count": null,
   "id": "380d9105",
   "metadata": {},
   "outputs": [],
   "source": [
    "import pandas as pd"
   ]
  },
  {
   "cell_type": "code",
   "execution_count": null,
   "id": "b7786171",
   "metadata": {},
   "outputs": [],
   "source": [
    "# Creating a sample DataFrame\n",
    "data = {'Name': ['Alice', 'Bob', 'Charlie'],\n",
    "        'Age': [25, 30, 35],\n",
    "        'Score': [85, 90, 88]}"
   ]
  },
  {
   "cell_type": "code",
   "execution_count": null,
   "id": "0cfb5680",
   "metadata": {},
   "outputs": [],
   "source": [
    "df = pd.DataFrame(data)"
   ]
  },
  {
   "cell_type": "markdown",
   "id": "410d6a49",
   "metadata": {},
   "source": [
    "Iterate over the rows of the DataFrame using\n",
    "itertuples()"
   ]
  },
  {
   "cell_type": "code",
   "execution_count": null,
   "id": "89fa3fd2",
   "metadata": {},
   "outputs": [],
   "source": [
    "for row in df.itertuples():\n",
    "    print(\"Index: \", row.Index)\n",
    "    print(\"Name : \", row.Name)\n",
    "    print(\"Age :\", row.Age)\n",
    "    print(\"Score : \", row.Score)\n",
    "    print()"
   ]
  }
 ],
 "metadata": {
  "jupytext": {
   "cell_metadata_filter": "-all",
   "main_language": "python",
   "notebook_metadata_filter": "-all"
  }
 },
 "nbformat": 4,
 "nbformat_minor": 5
}
