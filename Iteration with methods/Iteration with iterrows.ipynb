{
 "cells": [
  {
   "cell_type": "code",
   "execution_count": null,
   "id": "f5bd6bae",
   "metadata": {},
   "outputs": [],
   "source": [
    "import pandas as pd"
   ]
  },
  {
   "cell_type": "code",
   "execution_count": null,
   "id": "e47506b7",
   "metadata": {},
   "outputs": [],
   "source": [
    "# Creating a sample DataFrame\n",
    "data = {'Name': ['Alice', 'Bob', 'Charlie'],\n",
    "        'Age': [25, 30, 35],\n",
    "        'Score': [85, 90, 88]}"
   ]
  },
  {
   "cell_type": "code",
   "execution_count": null,
   "id": "78fa3778",
   "metadata": {},
   "outputs": [],
   "source": [
    "df = pd.DataFrame(data)"
   ]
  },
  {
   "cell_type": "code",
   "execution_count": null,
   "id": "30368218",
   "metadata": {},
   "outputs": [],
   "source": [
    "# Iterate over the rows of the DataFrame\n",
    "for index, row in df.iterrows():\n",
    "    print(\"Index:\", index)\n",
    "    print(\"Row data:\")\n",
    "    print(row)\n",
    "    print()"
   ]
  }
 ],
 "metadata": {
  "jupytext": {
   "cell_metadata_filter": "-all",
   "main_language": "python",
   "notebook_metadata_filter": "-all"
  }
 },
 "nbformat": 4,
 "nbformat_minor": 5
}
