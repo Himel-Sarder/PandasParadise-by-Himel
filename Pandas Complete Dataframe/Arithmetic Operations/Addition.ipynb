{
 "cells": [
  {
   "cell_type": "code",
   "execution_count": null,
   "id": "8d417473",
   "metadata": {},
   "outputs": [],
   "source": [
    "import pandas as pd"
   ]
  },
  {
   "cell_type": "code",
   "execution_count": null,
   "id": "703cbd82",
   "metadata": {},
   "outputs": [],
   "source": [
    "# Create a DataFrame\n",
    "data = {\n",
    "    'Name': ['Himel', 'Abonti', 'Kabita'],\n",
    "    'Marks': [100, 200, 300],\n",
    "    'Grade': ['A+', 'A-', 'A'],\n",
    "    'Subject': ['CSE', 'EEE', 'Math']\n",
    "}"
   ]
  },
  {
   "cell_type": "code",
   "execution_count": null,
   "id": "d087f05b",
   "metadata": {},
   "outputs": [],
   "source": [
    "df = pd.DataFrame(data)"
   ]
  },
  {
   "cell_type": "code",
   "execution_count": null,
   "id": "e751d26a",
   "metadata": {},
   "outputs": [],
   "source": [
    "df[\"Marks\"] =df[\"Marks\"] + 100"
   ]
  },
  {
   "cell_type": "code",
   "execution_count": null,
   "id": "d5d4509e",
   "metadata": {},
   "outputs": [],
   "source": [
    "print(df)"
   ]
  },
  {
   "cell_type": "code",
   "execution_count": null,
   "id": "34bc668a",
   "metadata": {},
   "outputs": [],
   "source": []
  },
  {
   "cell_type": "code",
   "execution_count": null,
   "id": "6750b781",
   "metadata": {},
   "outputs": [],
   "source": [
    "import pandas as pd"
   ]
  },
  {
   "cell_type": "code",
   "execution_count": null,
   "id": "efbec62c",
   "metadata": {},
   "outputs": [],
   "source": [
    "# Create two DataFrames\n",
    "df1 = pd.DataFrame({'A': [1, 2, 3], 'B': [4, 5, 6]})\n",
    "df2 = pd.DataFrame({'A': [10, 20, 30], 'B': [40, 50, 60]})"
   ]
  },
  {
   "cell_type": "code",
   "execution_count": null,
   "id": "3936de82",
   "metadata": {},
   "outputs": [],
   "source": [
    "# Perform addition\n",
    "result = df1 + df2"
   ]
  },
  {
   "cell_type": "code",
   "execution_count": null,
   "id": "3cb32ea1",
   "metadata": {},
   "outputs": [],
   "source": [
    "print(result)"
   ]
  }
 ],
 "metadata": {
  "jupytext": {
   "cell_metadata_filter": "-all",
   "main_language": "python",
   "notebook_metadata_filter": "-all"
  }
 },
 "nbformat": 4,
 "nbformat_minor": 5
}
