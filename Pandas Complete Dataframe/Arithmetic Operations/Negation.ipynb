{
 "cells": [
  {
   "cell_type": "code",
   "execution_count": null,
   "id": "fbaa3ba3",
   "metadata": {},
   "outputs": [],
   "source": [
    "import pandas as pd"
   ]
  },
  {
   "cell_type": "code",
   "execution_count": null,
   "id": "99dfe283",
   "metadata": {},
   "outputs": [],
   "source": [
    "# Create a DataFrame\n",
    "data = {\n",
    "    'Name': ['Himel', 'Abonti', 'Kabita'],\n",
    "    'Marks': [100, 200, 300],\n",
    "    'Grade': ['A+', 'A-', 'A'],\n",
    "    'Subject': ['CSE', 'EEE', 'Math']\n",
    "}"
   ]
  },
  {
   "cell_type": "code",
   "execution_count": null,
   "id": "fa3b7f92",
   "metadata": {},
   "outputs": [],
   "source": [
    "df = pd.DataFrame(data)"
   ]
  },
  {
   "cell_type": "code",
   "execution_count": null,
   "id": "c9817b41",
   "metadata": {},
   "outputs": [],
   "source": [
    "df[\"Marks\"] = -df[\"Marks\"]"
   ]
  },
  {
   "cell_type": "code",
   "execution_count": null,
   "id": "9982fe5e",
   "metadata": {
    "lines_to_next_cell": 2
   },
   "outputs": [],
   "source": [
    "print(df)"
   ]
  },
  {
   "cell_type": "code",
   "execution_count": null,
   "id": "d473f95b",
   "metadata": {},
   "outputs": [],
   "source": [
    "import pandas as pd"
   ]
  },
  {
   "cell_type": "code",
   "execution_count": null,
   "id": "25f48d7e",
   "metadata": {},
   "outputs": [],
   "source": [
    "# Create two DataFrames\n",
    "df1 = pd.DataFrame({'A': [1, 2, 3], 'B': [4, 5, 6]})\n",
    "df2 = pd.DataFrame({'A': [10, 20, 30], 'B': [40, 50, 60]})"
   ]
  },
  {
   "cell_type": "code",
   "execution_count": null,
   "id": "a0d02c18",
   "metadata": {},
   "outputs": [],
   "source": [
    "# Perform addition\n",
    "result = -df2"
   ]
  },
  {
   "cell_type": "code",
   "execution_count": null,
   "id": "4bab2a73",
   "metadata": {},
   "outputs": [],
   "source": [
    "print(result)"
   ]
  }
 ],
 "metadata": {
  "jupytext": {
   "cell_metadata_filter": "-all",
   "main_language": "python",
   "notebook_metadata_filter": "-all"
  }
 },
 "nbformat": 4,
 "nbformat_minor": 5
}
