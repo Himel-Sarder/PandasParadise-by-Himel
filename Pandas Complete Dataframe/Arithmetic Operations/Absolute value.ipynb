{
 "cells": [
  {
   "cell_type": "code",
   "execution_count": null,
   "id": "ad169bf5",
   "metadata": {},
   "outputs": [],
   "source": [
    "import pandas as pd"
   ]
  },
  {
   "cell_type": "code",
   "execution_count": null,
   "id": "bcb0b63e",
   "metadata": {},
   "outputs": [],
   "source": [
    "# Create a DataFrame\n",
    "data = {\n",
    "    'Name': ['Himel', 'Abonti', 'Kabita'],\n",
    "    'Marks': [-100, 200, -300],\n",
    "    'Grade': ['A+', 'A-', 'A'],\n",
    "    'Subject': ['CSE', 'EEE', 'Math']\n",
    "}"
   ]
  },
  {
   "cell_type": "code",
   "execution_count": null,
   "id": "3258eb1a",
   "metadata": {},
   "outputs": [],
   "source": [
    "df = pd.DataFrame(data)"
   ]
  },
  {
   "cell_type": "code",
   "execution_count": null,
   "id": "ba2dfa5a",
   "metadata": {},
   "outputs": [],
   "source": [
    "df[\"Marks\"] = abs(df[\"Marks\"])"
   ]
  },
  {
   "cell_type": "code",
   "execution_count": null,
   "id": "48d5d17f",
   "metadata": {},
   "outputs": [],
   "source": [
    "print(df)"
   ]
  },
  {
   "cell_type": "code",
   "execution_count": null,
   "id": "bc80361c",
   "metadata": {},
   "outputs": [],
   "source": []
  },
  {
   "cell_type": "code",
   "execution_count": null,
   "id": "3c8b21cd",
   "metadata": {},
   "outputs": [],
   "source": [
    "import pandas as pd"
   ]
  },
  {
   "cell_type": "code",
   "execution_count": null,
   "id": "37906723",
   "metadata": {},
   "outputs": [],
   "source": [
    "# Create two DataFrames\n",
    "df1 = pd.DataFrame({'A': [1, 2, 3], 'B': [4, 5, 6]})\n",
    "df2 = pd.DataFrame({'A': [-10, 20, -30], 'B': [-40, -50, -60]})"
   ]
  },
  {
   "cell_type": "code",
   "execution_count": null,
   "id": "0d5fcc8c",
   "metadata": {},
   "outputs": [],
   "source": [
    "# Perform addition\n",
    "result = abs(df2)"
   ]
  },
  {
   "cell_type": "code",
   "execution_count": null,
   "id": "6c60372f",
   "metadata": {},
   "outputs": [],
   "source": [
    "print(result)"
   ]
  }
 ],
 "metadata": {
  "jupytext": {
   "cell_metadata_filter": "-all",
   "main_language": "python",
   "notebook_metadata_filter": "-all"
  }
 },
 "nbformat": 4,
 "nbformat_minor": 5
}
