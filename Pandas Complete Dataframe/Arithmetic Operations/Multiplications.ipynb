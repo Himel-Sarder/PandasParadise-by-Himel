{
 "cells": [
  {
   "cell_type": "code",
   "execution_count": null,
   "id": "5367a8a9",
   "metadata": {},
   "outputs": [],
   "source": [
    "import pandas as pd"
   ]
  },
  {
   "cell_type": "code",
   "execution_count": null,
   "id": "e73eaa99",
   "metadata": {},
   "outputs": [],
   "source": [
    "# Create a DataFrame\n",
    "data = {\n",
    "    'Name': ['Himel', 'Abonti', 'Kabita'],\n",
    "    'Marks': [100, 200, 300],\n",
    "    'Grade': ['A+', 'A-', 'A'],\n",
    "    'Subject': ['CSE', 'EEE', 'Math']\n",
    "}"
   ]
  },
  {
   "cell_type": "code",
   "execution_count": null,
   "id": "3f2629b3",
   "metadata": {},
   "outputs": [],
   "source": [
    "df = pd.DataFrame(data)"
   ]
  },
  {
   "cell_type": "code",
   "execution_count": null,
   "id": "4a4a51a8",
   "metadata": {},
   "outputs": [],
   "source": [
    "df[\"Marks\"] =df[\"Marks\"] * 100"
   ]
  },
  {
   "cell_type": "code",
   "execution_count": null,
   "id": "0a37714d",
   "metadata": {},
   "outputs": [],
   "source": [
    "print(df)"
   ]
  },
  {
   "cell_type": "code",
   "execution_count": null,
   "id": "2d44e72c",
   "metadata": {},
   "outputs": [],
   "source": []
  },
  {
   "cell_type": "code",
   "execution_count": null,
   "id": "c0c8f915",
   "metadata": {},
   "outputs": [],
   "source": [
    "# Create two DataFrames\n",
    "df1 = pd.DataFrame({'A': [1, 2, 3], 'B': [4, 5, 6]})\n",
    "df2 = pd.DataFrame({'A': [10, 20, 30], 'B': [40, 50, 60]})"
   ]
  },
  {
   "cell_type": "code",
   "execution_count": null,
   "id": "874ed482",
   "metadata": {},
   "outputs": [],
   "source": [
    "# Perform addition\n",
    "result = df1 * df2"
   ]
  },
  {
   "cell_type": "code",
   "execution_count": null,
   "id": "97557bca",
   "metadata": {},
   "outputs": [],
   "source": [
    "print(result)"
   ]
  }
 ],
 "metadata": {
  "jupytext": {
   "cell_metadata_filter": "-all",
   "main_language": "python",
   "notebook_metadata_filter": "-all"
  }
 },
 "nbformat": 4,
 "nbformat_minor": 5
}
