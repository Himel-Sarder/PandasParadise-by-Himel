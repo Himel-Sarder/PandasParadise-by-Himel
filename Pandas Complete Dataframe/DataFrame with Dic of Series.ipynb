{
 "cells": [
  {
   "cell_type": "code",
   "execution_count": null,
   "id": "aabf469f",
   "metadata": {},
   "outputs": [],
   "source": [
    "import pandas as pd"
   ]
  },
  {
   "cell_type": "code",
   "execution_count": null,
   "id": "12817c59",
   "metadata": {},
   "outputs": [],
   "source": [
    "# Create a dictionary of Series\n",
    "data = {\n",
    "    'Name': pd.Series(['Himel', 'Abonti', 'Kabita']),\n",
    "    'Marks': pd.Series([100, 200, 300])\n",
    "}"
   ]
  },
  {
   "cell_type": "code",
   "execution_count": null,
   "id": "5acb66c7",
   "metadata": {},
   "outputs": [],
   "source": [
    "# Create a DataFrame from the dictionary\n",
    "data_frame = pd.DataFrame(data)"
   ]
  },
  {
   "cell_type": "code",
   "execution_count": null,
   "id": "10593a60",
   "metadata": {},
   "outputs": [],
   "source": [
    "print(data_frame)"
   ]
  }
 ],
 "metadata": {
  "jupytext": {
   "cell_metadata_filter": "-all",
   "main_language": "python",
   "notebook_metadata_filter": "-all"
  }
 },
 "nbformat": 4,
 "nbformat_minor": 5
}
