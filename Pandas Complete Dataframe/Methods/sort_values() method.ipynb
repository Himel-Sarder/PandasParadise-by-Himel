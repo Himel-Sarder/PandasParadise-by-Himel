{
 "cells": [
  {
   "cell_type": "code",
   "execution_count": null,
   "id": "fcc01d27",
   "metadata": {},
   "outputs": [],
   "source": [
    "import pandas as pd"
   ]
  },
  {
   "cell_type": "code",
   "execution_count": null,
   "id": "b7fcc6de",
   "metadata": {},
   "outputs": [],
   "source": [
    "# Creating a sample DataFrame\n",
    "data = {'Name': ['Alice', 'Bob', 'Charlie', 'David'],\n",
    "        'Age': [25, 30, 35, 40],\n",
    "        'Score': [85, 90, 88, 92]}"
   ]
  },
  {
   "cell_type": "code",
   "execution_count": null,
   "id": "84a4f466",
   "metadata": {},
   "outputs": [],
   "source": [
    "df = pd.DataFrame(data)"
   ]
  },
  {
   "cell_type": "code",
   "execution_count": null,
   "id": "b785b29b",
   "metadata": {},
   "outputs": [],
   "source": [
    "# Sorting by a single column\n",
    "df_sorted_by_age = df.sort_values(by='Age')  # Sort by Age column\n",
    "print(\"Sorted by Age:\")\n",
    "print(df_sorted_by_age)"
   ]
  },
  {
   "cell_type": "code",
   "execution_count": null,
   "id": "45334d39",
   "metadata": {},
   "outputs": [],
   "source": [
    "# Sorting by multiple columns\n",
    "df_sorted_by_multiple = df.sort_values(by=['Age', 'Score'], ascending=[True, False])\n",
    "# Sort by Age in ascending order, then by Score in descending order\n",
    "print(\"\\nSorted by Age and Score:\")\n",
    "print(df_sorted_by_multiple)"
   ]
  }
 ],
 "metadata": {
  "jupytext": {
   "cell_metadata_filter": "-all",
   "main_language": "python",
   "notebook_metadata_filter": "-all"
  }
 },
 "nbformat": 4,
 "nbformat_minor": 5
}
