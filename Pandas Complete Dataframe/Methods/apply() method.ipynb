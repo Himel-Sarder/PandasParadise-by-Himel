{
 "cells": [
  {
   "cell_type": "code",
   "execution_count": null,
   "id": "6530568f",
   "metadata": {},
   "outputs": [],
   "source": [
    "import pandas as pd"
   ]
  },
  {
   "cell_type": "code",
   "execution_count": null,
   "id": "5915943c",
   "metadata": {},
   "outputs": [],
   "source": [
    "data = {'Name': ['Himel', 'Antu', 'Kabita'],\n",
    "        'Math': [50, 75, 80],\n",
    "        'English': [90, 58, 78]}"
   ]
  },
  {
   "cell_type": "code",
   "execution_count": null,
   "id": "8c9d636d",
   "metadata": {
    "lines_to_next_cell": 1
   },
   "outputs": [],
   "source": [
    "df = pd.DataFrame(data)"
   ]
  },
  {
   "cell_type": "code",
   "execution_count": null,
   "id": "ef7ca9c1",
   "metadata": {
    "lines_to_next_cell": 1
   },
   "outputs": [],
   "source": [
    "def calculator(row):\n",
    "    return row['Math'] + row['English']"
   ]
  },
  {
   "cell_type": "code",
   "execution_count": null,
   "id": "b06652c2",
   "metadata": {},
   "outputs": [],
   "source": [
    "df['Total'] = df.apply(calculator, axis=1)"
   ]
  },
  {
   "cell_type": "code",
   "execution_count": null,
   "id": "0e1960f2",
   "metadata": {},
   "outputs": [],
   "source": [
    "print(df)"
   ]
  }
 ],
 "metadata": {
  "jupytext": {
   "cell_metadata_filter": "-all",
   "main_language": "python",
   "notebook_metadata_filter": "-all"
  }
 },
 "nbformat": 4,
 "nbformat_minor": 5
}
