{
 "cells": [
  {
   "cell_type": "code",
   "execution_count": null,
   "id": "06b6bce3",
   "metadata": {},
   "outputs": [],
   "source": [
    "# Creating two sample DataFrames\n",
    "import pandas as pd"
   ]
  },
  {
   "cell_type": "code",
   "execution_count": null,
   "id": "5b40d3fc",
   "metadata": {},
   "outputs": [],
   "source": [
    "data1 = {'Name': ['Alice', 'Bob', 'Charlie'],\n",
    "         'Age': [25, 30, 35]}\n",
    "df1 = pd.DataFrame(data1)"
   ]
  },
  {
   "cell_type": "code",
   "execution_count": null,
   "id": "dbfbf345",
   "metadata": {},
   "outputs": [],
   "source": [
    "data2 = {'Name': ['Bob', 'Charlie', 'David'],\n",
    "         'Score': [85, 90, 88]}\n",
    "df2 = pd.DataFrame(data2)"
   ]
  },
  {
   "cell_type": "code",
   "execution_count": null,
   "id": "d2e84e78",
   "metadata": {},
   "outputs": [],
   "source": [
    "# Merging two DataFrames based on 'Name' column\n",
    "merged_df = pd.merge(df1, df2, on='Name', how='inner')\n",
    "print(\"Merged DataFrame:\")\n",
    "print(merged_df)"
   ]
  }
 ],
 "metadata": {
  "jupytext": {
   "cell_metadata_filter": "-all",
   "main_language": "python",
   "notebook_metadata_filter": "-all"
  }
 },
 "nbformat": 4,
 "nbformat_minor": 5
}
