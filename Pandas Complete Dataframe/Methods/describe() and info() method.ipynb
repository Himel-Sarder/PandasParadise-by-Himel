{
 "cells": [
  {
   "cell_type": "code",
   "execution_count": null,
   "id": "1a85e966",
   "metadata": {},
   "outputs": [],
   "source": [
    "import pandas as pd"
   ]
  },
  {
   "cell_type": "code",
   "execution_count": null,
   "id": "36fc3872",
   "metadata": {},
   "outputs": [],
   "source": [
    "# Creating a sample DataFrame\n",
    "data = {'Name': ['Alice', 'Bob', 'Charlie', 'David', 'Emily', 'Frank', 'Grace'],\n",
    "        'Age': [25, 30, 35, 40, 28, 33, 38],\n",
    "        'Score': [85, 90, 88, 92, 87, 85, 89]}"
   ]
  },
  {
   "cell_type": "code",
   "execution_count": null,
   "id": "ac485af0",
   "metadata": {},
   "outputs": [],
   "source": [
    "df = pd.DataFrame(data)"
   ]
  },
  {
   "cell_type": "code",
   "execution_count": null,
   "id": "bd7ead08",
   "metadata": {},
   "outputs": [],
   "source": [
    "# Using info() to get details about the DataFrame\n",
    "print(\"DataFrame Info:\")\n",
    "print(df.info())"
   ]
  },
  {
   "cell_type": "code",
   "execution_count": null,
   "id": "0c4147c2",
   "metadata": {},
   "outputs": [],
   "source": [
    "# Using describe() to get descriptive statistics about the DataFrame's columns\n",
    "print(\"\\nDataFrame Descriptive Statistics:\")\n",
    "print(df.describe())"
   ]
  }
 ],
 "metadata": {
  "jupytext": {
   "cell_metadata_filter": "-all",
   "main_language": "python",
   "notebook_metadata_filter": "-all"
  }
 },
 "nbformat": 4,
 "nbformat_minor": 5
}
