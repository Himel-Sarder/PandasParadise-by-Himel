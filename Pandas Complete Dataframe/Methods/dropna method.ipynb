{
 "cells": [
  {
   "cell_type": "code",
   "execution_count": null,
   "id": "35c596f7",
   "metadata": {},
   "outputs": [],
   "source": [
    "import pandas as pd\n",
    "import numpy as np"
   ]
  },
  {
   "cell_type": "code",
   "execution_count": null,
   "id": "3295e2ef",
   "metadata": {},
   "outputs": [],
   "source": [
    "# Creating a sample DataFrame with missing values\n",
    "data = {'Name': ['Alice', 'Bob', np.nan, 'David'],\n",
    "        'Age': [25, np.nan, 35, 40],\n",
    "        'Score': [85, 90, np.nan, np.nan]}"
   ]
  },
  {
   "cell_type": "code",
   "execution_count": null,
   "id": "82cfab3c",
   "metadata": {},
   "outputs": [],
   "source": [
    "df = pd.DataFrame(data)"
   ]
  },
  {
   "cell_type": "code",
   "execution_count": null,
   "id": "e3377fcf",
   "metadata": {},
   "outputs": [],
   "source": [
    "# Displaying the original DataFrame\n",
    "print(\"Original DataFrame:\")\n",
    "print(df)"
   ]
  },
  {
   "cell_type": "code",
   "execution_count": null,
   "id": "4a370345",
   "metadata": {},
   "outputs": [],
   "source": [
    "# Dropping rows with any NaN values\n",
    "df_without_nan_rows = df.dropna()\n",
    "print(\"\\nDataFrame after dropping rows with NaN values:\")\n",
    "print(df_without_nan_rows)"
   ]
  },
  {
   "cell_type": "code",
   "execution_count": null,
   "id": "df15cdc0",
   "metadata": {},
   "outputs": [],
   "source": [
    "# Dropping columns with any NaN values\n",
    "df_without_nan_cols = df.dropna(axis=1)\n",
    "print(\"\\nDataFrame after dropping columns with NaN values:\")\n",
    "print(df_without_nan_cols)"
   ]
  }
 ],
 "metadata": {
  "jupytext": {
   "cell_metadata_filter": "-all",
   "main_language": "python",
   "notebook_metadata_filter": "-all"
  }
 },
 "nbformat": 4,
 "nbformat_minor": 5
}
