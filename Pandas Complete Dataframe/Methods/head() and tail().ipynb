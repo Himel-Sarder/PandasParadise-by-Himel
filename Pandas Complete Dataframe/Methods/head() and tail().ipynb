{
 "cells": [
  {
   "cell_type": "code",
   "execution_count": null,
   "id": "d1213326",
   "metadata": {},
   "outputs": [],
   "source": [
    "import pandas as pd"
   ]
  },
  {
   "cell_type": "code",
   "execution_count": null,
   "id": "ea43a552",
   "metadata": {},
   "outputs": [],
   "source": [
    "# Creating a sample DataFrame\n",
    "data = {'Name': ['Alice', 'Bob', 'Charlie', 'David', 'Emily', 'Frank', 'Grace'],\n",
    "        'Age': [25, 30, 35, 40, 28, 33, 38],\n",
    "        'Score': [85, 90, 88, 92, 87, 85, 89]}"
   ]
  },
  {
   "cell_type": "code",
   "execution_count": null,
   "id": "bde60afe",
   "metadata": {},
   "outputs": [],
   "source": [
    "df = pd.DataFrame(data)"
   ]
  },
  {
   "cell_type": "code",
   "execution_count": null,
   "id": "1bce6cf9",
   "metadata": {},
   "outputs": [],
   "source": [
    "# Using head() to view the first few rows (default is 5 rows)\n",
    "print(\"First few rows:\")\n",
    "print(df.head())"
   ]
  },
  {
   "cell_type": "code",
   "execution_count": null,
   "id": "8efee297",
   "metadata": {},
   "outputs": [],
   "source": [
    "# Using tail() to view the last few rows (default is 5 rows)\n",
    "print(\"\\nLast few rows:\")\n",
    "print(df.tail())"
   ]
  }
 ],
 "metadata": {
  "jupytext": {
   "cell_metadata_filter": "-all",
   "main_language": "python",
   "notebook_metadata_filter": "-all"
  }
 },
 "nbformat": 4,
 "nbformat_minor": 5
}
