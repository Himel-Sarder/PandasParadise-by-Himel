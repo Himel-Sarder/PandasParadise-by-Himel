{
 "cells": [
  {
   "cell_type": "code",
   "execution_count": null,
   "id": "8ec279c9",
   "metadata": {},
   "outputs": [],
   "source": [
    "import pandas as pd\n",
    "import numpy as np"
   ]
  },
  {
   "cell_type": "code",
   "execution_count": null,
   "id": "e392b651",
   "metadata": {},
   "outputs": [],
   "source": [
    "# Creating a sample DataFrame with missing values\n",
    "data = {'Name': ['Alice', 'Bob', np.nan, 'David'],\n",
    "        'Age': [25, np.nan, 35, 40],\n",
    "        'Score': [85, 90, np.nan, np.nan]}"
   ]
  },
  {
   "cell_type": "code",
   "execution_count": null,
   "id": "3ecd35f3",
   "metadata": {},
   "outputs": [],
   "source": [
    "df = pd.DataFrame(data)"
   ]
  },
  {
   "cell_type": "code",
   "execution_count": null,
   "id": "1b3e9973",
   "metadata": {},
   "outputs": [],
   "source": [
    "# Filling missing values with a specified value\n",
    "df_filled = df.fillna(value=0)  # Fill NaN with 0\n",
    "print(\"DataFrame after filling missing values:\")\n",
    "print(df_filled)"
   ]
  }
 ],
 "metadata": {
  "jupytext": {
   "cell_metadata_filter": "-all",
   "main_language": "python",
   "notebook_metadata_filter": "-all"
  }
 },
 "nbformat": 4,
 "nbformat_minor": 5
}
