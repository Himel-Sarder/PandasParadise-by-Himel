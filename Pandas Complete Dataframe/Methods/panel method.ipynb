{
 "cells": [
  {
   "cell_type": "code",
   "execution_count": null,
   "id": "0b8b333d",
   "metadata": {},
   "outputs": [],
   "source": [
    "import pandas as pd\n",
    "import numpy as np\n",
    "# Using MultiIndex DataFrame instead of Panel\n",
    "index = pd.MultiIndex.from_product([[2019, 2020], ['Q1', 'Q2']],\n",
    "                                   names=['Year', 'Quarter'])\n",
    "columns = ['A', 'B', 'C']\n",
    "data = np.random.randn(4, 3)"
   ]
  },
  {
   "cell_type": "code",
   "execution_count": null,
   "id": "ce751d0e",
   "metadata": {},
   "outputs": [],
   "source": [
    "df = pd.DataFrame(data, index=index, columns=columns)"
   ]
  },
  {
   "cell_type": "code",
   "execution_count": null,
   "id": "e2b16294",
   "metadata": {},
   "outputs": [],
   "source": [
    "print(df)"
   ]
  }
 ],
 "metadata": {
  "jupytext": {
   "cell_metadata_filter": "-all",
   "main_language": "python",
   "notebook_metadata_filter": "-all"
  }
 },
 "nbformat": 4,
 "nbformat_minor": 5
}
