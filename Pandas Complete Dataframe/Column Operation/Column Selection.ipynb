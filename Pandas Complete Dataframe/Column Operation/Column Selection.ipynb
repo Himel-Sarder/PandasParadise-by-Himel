{
 "cells": [
  {
   "cell_type": "code",
   "execution_count": null,
   "id": "f99f4af2",
   "metadata": {},
   "outputs": [],
   "source": [
    "import pandas as pd"
   ]
  },
  {
   "cell_type": "code",
   "execution_count": null,
   "id": "6a9e3cd3",
   "metadata": {},
   "outputs": [],
   "source": [
    "# Create a DataFrame\n",
    "data = {\n",
    "    'Name': ['Himel', 'Abonti', 'Kabita'],\n",
    "    'Marks': [100, 200, 300]\n",
    "}"
   ]
  },
  {
   "cell_type": "code",
   "execution_count": null,
   "id": "b2c34fc9",
   "metadata": {},
   "outputs": [],
   "source": [
    "df = pd.DataFrame(data)"
   ]
  },
  {
   "cell_type": "code",
   "execution_count": null,
   "id": "aa5fa4f8",
   "metadata": {},
   "outputs": [],
   "source": [
    "# Using bracket notation\n",
    "name_column = df['Name']\n",
    "print(name_column)"
   ]
  },
  {
   "cell_type": "code",
   "execution_count": null,
   "id": "9e8d93de",
   "metadata": {},
   "outputs": [],
   "source": [
    "# Using dot notation (only works if column names don't have spaces or special characters)\n",
    "marks_column = df.Marks\n",
    "print(marks_column)"
   ]
  }
 ],
 "metadata": {
  "jupytext": {
   "cell_metadata_filter": "-all",
   "main_language": "python",
   "notebook_metadata_filter": "-all"
  }
 },
 "nbformat": 4,
 "nbformat_minor": 5
}
