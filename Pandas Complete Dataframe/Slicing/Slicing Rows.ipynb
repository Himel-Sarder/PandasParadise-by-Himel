{
 "cells": [
  {
   "cell_type": "code",
   "execution_count": null,
   "id": "88b5a6c1",
   "metadata": {},
   "outputs": [],
   "source": [
    "# Create a DataFrame\n",
    "import pandas as pd\n",
    "data = {\n",
    "    'Name': ['Himel', 'Abonti', 'Kabita'],\n",
    "    'Marks': [100, 200, 300],\n",
    "    'Grade': ['A+', 'A-', 'A'],\n",
    "    'Subject': ['CSE', 'EEE', 'Math']\n",
    "}"
   ]
  },
  {
   "cell_type": "code",
   "execution_count": null,
   "id": "1ca9aee1",
   "metadata": {},
   "outputs": [],
   "source": [
    "df = pd.DataFrame(data)"
   ]
  },
  {
   "cell_type": "code",
   "execution_count": null,
   "id": "55f62f2f",
   "metadata": {},
   "outputs": [],
   "source": [
    "# Slice rows by positional indices\n",
    "subset_rows = df[1:3]"
   ]
  },
  {
   "cell_type": "code",
   "execution_count": null,
   "id": "4da5fac8",
   "metadata": {},
   "outputs": [],
   "source": [
    "print(subset_rows)"
   ]
  }
 ],
 "metadata": {
  "jupytext": {
   "cell_metadata_filter": "-all",
   "main_language": "python",
   "notebook_metadata_filter": "-all"
  }
 },
 "nbformat": 4,
 "nbformat_minor": 5
}
