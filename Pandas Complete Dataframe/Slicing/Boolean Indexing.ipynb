{
 "cells": [
  {
   "cell_type": "code",
   "execution_count": null,
   "id": "c51224ff",
   "metadata": {},
   "outputs": [],
   "source": [
    "import pandas as pd"
   ]
  },
  {
   "cell_type": "code",
   "execution_count": null,
   "id": "74e70ca4",
   "metadata": {},
   "outputs": [],
   "source": [
    "# Create a DataFrame\n",
    "data = {\n",
    "    'Name': ['Himel', 'Abonti', 'Kabita'],\n",
    "    'Marks': [100, 200, 300],\n",
    "    'Grade': ['A+', 'A-', 'A'],\n",
    "    'Subject': ['CSE', 'EEE', 'Math']\n",
    "}"
   ]
  },
  {
   "cell_type": "code",
   "execution_count": null,
   "id": "3eefa339",
   "metadata": {},
   "outputs": [],
   "source": [
    "df = pd.DataFrame(data)"
   ]
  },
  {
   "cell_type": "code",
   "execution_count": null,
   "id": "4ed7f125",
   "metadata": {},
   "outputs": [],
   "source": [
    "# Boolean indexing to filter rows based on a condition\n",
    "filtered_rows = df[df['Marks'] > 200]"
   ]
  },
  {
   "cell_type": "code",
   "execution_count": null,
   "id": "ada2ab4e",
   "metadata": {},
   "outputs": [],
   "source": [
    "print(filtered_rows)"
   ]
  }
 ],
 "metadata": {
  "jupytext": {
   "cell_metadata_filter": "-all",
   "main_language": "python",
   "notebook_metadata_filter": "-all"
  }
 },
 "nbformat": 4,
 "nbformat_minor": 5
}
