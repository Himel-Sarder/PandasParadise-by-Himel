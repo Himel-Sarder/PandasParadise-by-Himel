{
 "cells": [
  {
   "cell_type": "code",
   "execution_count": null,
   "id": "a40a7eab",
   "metadata": {},
   "outputs": [],
   "source": [
    "import pandas as pd"
   ]
  },
  {
   "cell_type": "code",
   "execution_count": null,
   "id": "5de4af01",
   "metadata": {},
   "outputs": [],
   "source": [
    "# Create a DataFrame\n",
    "data = {\n",
    "    'Name': ['Alice', 'Bob', 'Charlie'],\n",
    "    'Age': [25, 30, 35],\n",
    "    'City': ['New York', 'Los Angeles', 'Chicago']\n",
    "}\n",
    "df = pd.DataFrame(data)"
   ]
  },
  {
   "cell_type": "code",
   "execution_count": null,
   "id": "50d6fd45",
   "metadata": {},
   "outputs": [],
   "source": [
    "# Access a single column by label\n",
    "name_column = df['Name']\n",
    "print(name_column\n",
    "      )\n",
    "# Access a single row by label\n",
    "row_bob = df.loc[1]\n",
    "print(row_bob)"
   ]
  },
  {
   "cell_type": "code",
   "execution_count": null,
   "id": "8e125500",
   "metadata": {},
   "outputs": [],
   "source": [
    "# Access a subset of rows by labels\n",
    "rows_bob_charlie = df.loc[1:2]"
   ]
  },
  {
   "cell_type": "code",
   "execution_count": null,
   "id": "7861465f",
   "metadata": {},
   "outputs": [],
   "source": [
    "# Access a subset of rows and specific columns by labels\n",
    "subset = df.loc[1:2, ['Name', 'Age']]"
   ]
  },
  {
   "cell_type": "code",
   "execution_count": null,
   "id": "32e0cde6",
   "metadata": {},
   "outputs": [],
   "source": [
    "print(subset)"
   ]
  }
 ],
 "metadata": {
  "jupytext": {
   "cell_metadata_filter": "-all",
   "main_language": "python",
   "notebook_metadata_filter": "-all"
  }
 },
 "nbformat": 4,
 "nbformat_minor": 5
}
