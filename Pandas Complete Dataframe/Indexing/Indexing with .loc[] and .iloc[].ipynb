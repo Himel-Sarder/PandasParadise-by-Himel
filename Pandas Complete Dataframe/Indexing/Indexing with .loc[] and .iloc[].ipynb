{
 "cells": [
  {
   "cell_type": "code",
   "execution_count": null,
   "id": "28bfd0e1",
   "metadata": {},
   "outputs": [],
   "source": [
    "import pandas as pd"
   ]
  },
  {
   "cell_type": "code",
   "execution_count": null,
   "id": "f92470c8",
   "metadata": {},
   "outputs": [],
   "source": [
    "# Create a DataFrame\n",
    "data = {\n",
    "    'Name': ['Himel', 'Abonti', 'Kabita'],\n",
    "    'Marks': [100, 200, 300],\n",
    "    'Grade': ['A+', 'A-', 'A'],\n",
    "    'Subject': ['CSE', 'EEE', 'Math']\n",
    "}"
   ]
  },
  {
   "cell_type": "code",
   "execution_count": null,
   "id": "548b94c4",
   "metadata": {},
   "outputs": [],
   "source": [
    "df = pd.DataFrame(data)"
   ]
  },
  {
   "cell_type": "code",
   "execution_count": null,
   "id": "b5b65eda",
   "metadata": {},
   "outputs": [],
   "source": [
    "# Using .loc[] for label-based indexing\n",
    "abontiRow = df.loc[1]\n",
    "subset = df.loc[1:2, ['Name', 'Marks']]"
   ]
  },
  {
   "cell_type": "code",
   "execution_count": null,
   "id": "06291adc",
   "metadata": {},
   "outputs": [],
   "source": [
    "print(abontiRow)\n",
    "print(subset)"
   ]
  },
  {
   "cell_type": "code",
   "execution_count": null,
   "id": "c417e49d",
   "metadata": {},
   "outputs": [],
   "source": [
    "# Using .iloc[] for integer-based indexing\n",
    "kabitaRow = df.iloc[1]\n",
    "subset = df.iloc[1:3, 0:2]  # Rows 1 and 2, columns 0 and 1"
   ]
  },
  {
   "cell_type": "code",
   "execution_count": null,
   "id": "99fd271c",
   "metadata": {},
   "outputs": [],
   "source": [
    "print(kabitaRow)\n",
    "print(subset)"
   ]
  }
 ],
 "metadata": {
  "jupytext": {
   "cell_metadata_filter": "-all",
   "main_language": "python",
   "notebook_metadata_filter": "-all"
  }
 },
 "nbformat": 4,
 "nbformat_minor": 5
}
