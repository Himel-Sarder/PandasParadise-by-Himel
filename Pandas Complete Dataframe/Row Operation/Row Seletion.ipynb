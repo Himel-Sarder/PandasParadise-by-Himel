{
 "cells": [
  {
   "cell_type": "code",
   "execution_count": null,
   "id": "601c56d5",
   "metadata": {},
   "outputs": [],
   "source": [
    "import pandas as pd"
   ]
  },
  {
   "cell_type": "code",
   "execution_count": null,
   "id": "c7ad32aa",
   "metadata": {},
   "outputs": [],
   "source": [
    "# Create a DataFrame\n",
    "data = {\n",
    "    'Name': ['Himel', 'Abonti', 'Kabita'],\n",
    "    'Marks': [100, 200, 300],\n",
    "    'Grade': ['A+', 'A-', 'A']\n",
    "}"
   ]
  },
  {
   "cell_type": "code",
   "execution_count": null,
   "id": "d0b364b5",
   "metadata": {},
   "outputs": [],
   "source": [
    "df = pd.DataFrame(data)"
   ]
  },
  {
   "cell_type": "code",
   "execution_count": null,
   "id": "ee31ce67",
   "metadata": {},
   "outputs": [],
   "source": [
    "dfHimel = df.loc[0]\n",
    "dfAbonti = df.loc[1]\n",
    "dfKabita = df.loc[2]"
   ]
  },
  {
   "cell_type": "code",
   "execution_count": null,
   "id": "d9be02c7",
   "metadata": {},
   "outputs": [],
   "source": [
    "print(dfHimel)\n",
    "print(dfAbonti)\n",
    "print(dfKabita)"
   ]
  }
 ],
 "metadata": {
  "jupytext": {
   "cell_metadata_filter": "-all",
   "main_language": "python",
   "notebook_metadata_filter": "-all"
  }
 },
 "nbformat": 4,
 "nbformat_minor": 5
}
