{
 "cells": [
  {
   "cell_type": "markdown",
   "id": "f00ca244",
   "metadata": {},
   "source": [
    "1. Element-wise Equality (`==`):"
   ]
  },
  {
   "cell_type": "code",
   "execution_count": null,
   "id": "8d4450fd",
   "metadata": {
    "lines_to_next_cell": 2
   },
   "outputs": [],
   "source": [
    "   # result = df1 == df2"
   ]
  },
  {
   "cell_type": "markdown",
   "id": "762fe4df",
   "metadata": {},
   "source": [
    "2. Element-wise Inequality (`!=`):"
   ]
  },
  {
   "cell_type": "code",
   "execution_count": null,
   "id": "dc4efd93",
   "metadata": {
    "lines_to_next_cell": 2
   },
   "outputs": [],
   "source": [
    "   # result = df1 != df2"
   ]
  },
  {
   "cell_type": "markdown",
   "id": "dbcdece5",
   "metadata": {},
   "source": [
    "3. Element-wise Greater Than (`>`):"
   ]
  },
  {
   "cell_type": "code",
   "execution_count": null,
   "id": "09fa4a3d",
   "metadata": {
    "lines_to_next_cell": 2
   },
   "outputs": [],
   "source": [
    "   # result = df1 > df2"
   ]
  },
  {
   "cell_type": "markdown",
   "id": "5cb905ad",
   "metadata": {},
   "source": [
    "4. Element-wise Greater Than or Equal To (`>=`):"
   ]
  },
  {
   "cell_type": "code",
   "execution_count": null,
   "id": "2a65d91e",
   "metadata": {
    "lines_to_next_cell": 2
   },
   "outputs": [],
   "source": [
    "   # result = df1 >= df2"
   ]
  },
  {
   "cell_type": "markdown",
   "id": "f27490da",
   "metadata": {},
   "source": [
    "5. Element-wise Less Than (`<`):"
   ]
  },
  {
   "cell_type": "code",
   "execution_count": null,
   "id": "9bc497d0",
   "metadata": {
    "lines_to_next_cell": 2
   },
   "outputs": [],
   "source": [
    "   # result = df1 < df2"
   ]
  },
  {
   "cell_type": "markdown",
   "id": "6ab842a5",
   "metadata": {},
   "source": [
    "6. Element-wise Less Than or Equal To (`<=`):"
   ]
  },
  {
   "cell_type": "code",
   "execution_count": null,
   "id": "45d7f4c0",
   "metadata": {
    "lines_to_next_cell": 2
   },
   "outputs": [],
   "source": [
    "   # result = df1 <= df2"
   ]
  },
  {
   "cell_type": "markdown",
   "id": "db35375a",
   "metadata": {},
   "source": [
    "7. Element-wise Operations with Scalars:"
   ]
  },
  {
   "cell_type": "code",
   "execution_count": null,
   "id": "259eee87",
   "metadata": {},
   "outputs": [],
   "source": [
    "   # result = df > scalar_value"
   ]
  },
  {
   "cell_type": "code",
   "execution_count": null,
   "id": "ee187684",
   "metadata": {},
   "outputs": [],
   "source": [
    "import pandas as pd"
   ]
  },
  {
   "cell_type": "code",
   "execution_count": null,
   "id": "6f10954b",
   "metadata": {},
   "outputs": [],
   "source": [
    "# Create a DataFrame\n",
    "df = pd.DataFrame({'A': [1, 2, 3], 'B': [4, 5, 6]})"
   ]
  },
  {
   "cell_type": "code",
   "execution_count": null,
   "id": "493c6d5b",
   "metadata": {},
   "outputs": [],
   "source": [
    "# Perform comparison with a scalar value\n",
    "result = df > 2"
   ]
  },
  {
   "cell_type": "code",
   "execution_count": null,
   "id": "c1715a42",
   "metadata": {},
   "outputs": [],
   "source": [
    "print(result)"
   ]
  }
 ],
 "metadata": {
  "jupytext": {
   "cell_metadata_filter": "-all",
   "main_language": "python",
   "notebook_metadata_filter": "-all"
  }
 },
 "nbformat": 4,
 "nbformat_minor": 5
}
