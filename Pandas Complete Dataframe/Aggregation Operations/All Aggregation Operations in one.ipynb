{
 "cells": [
  {
   "cell_type": "markdown",
   "id": "7b834582",
   "metadata": {},
   "source": [
    "Aggregation operations in Pandas allow you to compute summary statistics or aggregate values based on rows or columns in a DataFrame. These operations provide insights into the distribution and characteristics of the data. Here are some common aggregation operations you can perform:"
   ]
  },
  {
   "cell_type": "markdown",
   "id": "95cc4fb0",
   "metadata": {},
   "source": [
    "Sum: Compute the sum of values in each column or row."
   ]
  },
  {
   "cell_type": "code",
   "execution_count": null,
   "id": "cfbf6f8c",
   "metadata": {},
   "outputs": [],
   "source": [
    "sum_by_column = df.sum()\n",
    "sum_by_row = df.sum(axis=2)"
   ]
  },
  {
   "cell_type": "code",
   "execution_count": null,
   "id": "aa311bc9",
   "metadata": {},
   "outputs": [],
   "source": [
    "print(sum_by_row)\n",
    "print(sum_by_column)"
   ]
  },
  {
   "cell_type": "markdown",
   "id": "a26420de",
   "metadata": {},
   "source": [
    "Mean: Compute the arithmetic mean (average) of values in each column or row."
   ]
  },
  {
   "cell_type": "code",
   "execution_count": null,
   "id": "84e3ba45",
   "metadata": {
    "lines_to_next_cell": 2
   },
   "outputs": [],
   "source": [
    "mean_by_column = df.mean()\n",
    "mean_by_row = df.mean(axis=1)"
   ]
  },
  {
   "cell_type": "markdown",
   "id": "7317cbdd",
   "metadata": {},
   "source": [
    "Median: Compute the median of values in each column or row."
   ]
  },
  {
   "cell_type": "code",
   "execution_count": null,
   "id": "eca1d810",
   "metadata": {
    "lines_to_next_cell": 2
   },
   "outputs": [],
   "source": [
    "median_by_column = df.median()\n",
    "median_by_row = df.median(axis=1)"
   ]
  },
  {
   "cell_type": "markdown",
   "id": "3323a544",
   "metadata": {},
   "source": [
    "Minimum: Find the minimum value in each column or row."
   ]
  },
  {
   "cell_type": "code",
   "execution_count": null,
   "id": "3cb2dd14",
   "metadata": {
    "lines_to_next_cell": 2
   },
   "outputs": [],
   "source": [
    "min_by_column = df.min()\n",
    "min_by_row = df.min(axis=1)"
   ]
  },
  {
   "cell_type": "markdown",
   "id": "1e9c6c05",
   "metadata": {},
   "source": [
    "Maximum: Find the maximum value in each column or row."
   ]
  },
  {
   "cell_type": "code",
   "execution_count": null,
   "id": "8d50e610",
   "metadata": {
    "lines_to_next_cell": 2
   },
   "outputs": [],
   "source": [
    "max_by_column = df.max()\n",
    "max_by_row = df.max(axis=1)"
   ]
  },
  {
   "cell_type": "markdown",
   "id": "733a39c9",
   "metadata": {},
   "source": [
    "Count: Count the number of non-null values in each column or row."
   ]
  },
  {
   "cell_type": "code",
   "execution_count": null,
   "id": "fbf844fb",
   "metadata": {
    "lines_to_next_cell": 2
   },
   "outputs": [],
   "source": [
    "count_by_column = df.count()\n",
    "count_by_row = df.count(axis=1)"
   ]
  },
  {
   "cell_type": "markdown",
   "id": "2a199c79",
   "metadata": {},
   "source": [
    "Standard Deviation: Compute the standard deviation of values in each column or row."
   ]
  },
  {
   "cell_type": "code",
   "execution_count": null,
   "id": "5337df34",
   "metadata": {
    "lines_to_next_cell": 2
   },
   "outputs": [],
   "source": [
    "std_by_column = df.std()\n",
    "std_by_row = df.std(axis=1)"
   ]
  },
  {
   "cell_type": "markdown",
   "id": "d4738c4b",
   "metadata": {},
   "source": [
    "Variance: Compute the variance of values in each column or row."
   ]
  },
  {
   "cell_type": "code",
   "execution_count": null,
   "id": "a64f1e96",
   "metadata": {
    "lines_to_next_cell": 2
   },
   "outputs": [],
   "source": [
    "var_by_column = df.var()\n",
    "var_by_row = df.var(axis=1)"
   ]
  },
  {
   "cell_type": "markdown",
   "id": "b5a06db5",
   "metadata": {},
   "source": [
    "Summarize with describe(): Generate summary statistics for numeric columns."
   ]
  },
  {
   "cell_type": "code",
   "execution_count": null,
   "id": "b903d72d",
   "metadata": {},
   "outputs": [],
   "source": [
    "summary_stats = df.describe()"
   ]
  }
 ],
 "metadata": {
  "jupytext": {
   "cell_metadata_filter": "-all",
   "main_language": "python",
   "notebook_metadata_filter": "-all"
  }
 },
 "nbformat": 4,
 "nbformat_minor": 5
}
