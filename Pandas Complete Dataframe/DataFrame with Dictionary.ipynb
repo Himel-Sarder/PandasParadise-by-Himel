{
 "cells": [
  {
   "cell_type": "code",
   "execution_count": null,
   "id": "f1c54a6b",
   "metadata": {},
   "outputs": [],
   "source": [
    "import pandas as p"
   ]
  },
  {
   "cell_type": "code",
   "execution_count": null,
   "id": "b0731905",
   "metadata": {},
   "outputs": [],
   "source": [
    "DataDic = {\"Name\":[\"Himel\",\"Abonti\", \"Kabita\"], \"Roll\": [11121, 11122, 11123], \"Department\": [\"CSE\", \"Physics\", \"EEE\"]}"
   ]
  },
  {
   "cell_type": "code",
   "execution_count": null,
   "id": "ced28115",
   "metadata": {},
   "outputs": [],
   "source": [
    "DataF = p.DataFrame(DataDic)"
   ]
  },
  {
   "cell_type": "code",
   "execution_count": null,
   "id": "0ab513e8",
   "metadata": {},
   "outputs": [],
   "source": [
    "print(DataF)"
   ]
  }
 ],
 "metadata": {
  "jupytext": {
   "cell_metadata_filter": "-all",
   "main_language": "python",
   "notebook_metadata_filter": "-all"
  }
 },
 "nbformat": 4,
 "nbformat_minor": 5
}
