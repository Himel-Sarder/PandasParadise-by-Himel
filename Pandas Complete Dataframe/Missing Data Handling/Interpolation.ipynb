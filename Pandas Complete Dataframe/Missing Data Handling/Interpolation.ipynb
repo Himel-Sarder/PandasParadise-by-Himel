{
 "cells": [
  {
   "cell_type": "markdown",
   "id": "3caf0d96",
   "metadata": {},
   "source": [
    "interpolate(): Interpolates missing values based on the surrounding values."
   ]
  },
  {
   "cell_type": "markdown",
   "id": "8408bca1",
   "metadata": {
    "lines_to_next_cell": 2
   },
   "source": [
    "print(df.interpolate())  # Linear interpolation by default"
   ]
  },
  {
   "cell_type": "code",
   "execution_count": null,
   "id": "0151e11a",
   "metadata": {},
   "outputs": [],
   "source": [
    "import pandas as pd"
   ]
  },
  {
   "cell_type": "code",
   "execution_count": null,
   "id": "e7fe3d7b",
   "metadata": {},
   "outputs": [],
   "source": [
    "data = {'A': [1, None, 3, None, 5], 'B': [3, 6, None, 12, None]}\n",
    "df = pd.DataFrame(data)"
   ]
  },
  {
   "cell_type": "code",
   "execution_count": null,
   "id": "76d126da",
   "metadata": {},
   "outputs": [],
   "source": [
    "print(df.interpolate())"
   ]
  }
 ],
 "metadata": {
  "jupytext": {
   "cell_metadata_filter": "-all",
   "main_language": "python",
   "notebook_metadata_filter": "-all"
  }
 },
 "nbformat": 4,
 "nbformat_minor": 5
}
