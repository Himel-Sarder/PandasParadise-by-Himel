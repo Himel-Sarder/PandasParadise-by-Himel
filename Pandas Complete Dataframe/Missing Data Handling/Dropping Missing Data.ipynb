{
 "cells": [
  {
   "cell_type": "markdown",
   "id": "61bbe2e7",
   "metadata": {},
   "source": [
    "dropna(): Drops rows or columns containing missing values."
   ]
  },
  {
   "cell_type": "markdown",
   "id": "7ad16536",
   "metadata": {
    "lines_to_next_cell": 2
   },
   "source": [
    "df.dropna()  # Drop rows with any missing value\n",
    "df.dropna(axis=1)  # Drop columns with any missing value\n",
    "df.dropna(thresh=2)  # Drop rows with at least 2 non-null values"
   ]
  },
  {
   "cell_type": "code",
   "execution_count": null,
   "id": "6b67b622",
   "metadata": {},
   "outputs": [],
   "source": [
    "import pandas as pd\n",
    "import numpy as np"
   ]
  },
  {
   "cell_type": "code",
   "execution_count": null,
   "id": "cfba3965",
   "metadata": {},
   "outputs": [],
   "source": [
    "data = {'A': [1, np.nan, 3], 'B': [4, None, 6], 'C' : [1, 2, 3]}\n",
    "df = pd.DataFrame(data)"
   ]
  },
  {
   "cell_type": "code",
   "execution_count": null,
   "id": "a36b7fe2",
   "metadata": {},
   "outputs": [],
   "source": [
    "print(df.dropna())  # Drop rows with any missing value\n",
    "print(df.dropna(axis=1))  # Drop columns with any missing value\n",
    "print(df.dropna(thresh=2)) # Drop rows with at least 2 non-null values"
   ]
  }
 ],
 "metadata": {
  "jupytext": {
   "cell_metadata_filter": "-all",
   "main_language": "python",
   "notebook_metadata_filter": "-all"
  }
 },
 "nbformat": 4,
 "nbformat_minor": 5
}
