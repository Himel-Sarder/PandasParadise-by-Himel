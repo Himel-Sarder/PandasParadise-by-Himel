{
 "cells": [
  {
   "cell_type": "markdown",
   "id": "f380912a",
   "metadata": {
    "lines_to_next_cell": 2
   },
   "source": [
    "reindex(): Reindexes the DataFrame with missing index labels, optionally filling missing values.\n",
    "df.reindex(new_index)  # Reindex with new index labels\n",
    "df.reindex(new_index, fill_value=0)  # Fill missing values with a specified value"
   ]
  },
  {
   "cell_type": "code",
   "execution_count": null,
   "id": "8c95d976",
   "metadata": {},
   "outputs": [],
   "source": [
    "import pandas as pd"
   ]
  },
  {
   "cell_type": "code",
   "execution_count": null,
   "id": "928cdd26",
   "metadata": {},
   "outputs": [],
   "source": [
    "# Create a DataFrame\n",
    "data = {'A': [1, 2, 3]}\n",
    "df = pd.DataFrame(data)"
   ]
  },
  {
   "cell_type": "code",
   "execution_count": null,
   "id": "d86ce7f3",
   "metadata": {},
   "outputs": [],
   "source": [
    "# Reindex with new index labels\n",
    "new_index = [0, 1, 2, 3]\n",
    "df_reindexed = df.reindex(new_index)\n",
    "print(\"DataFrame after reindexing without fill_value:\")\n",
    "print(df_reindexed)"
   ]
  },
  {
   "cell_type": "code",
   "execution_count": null,
   "id": "e657b10b",
   "metadata": {},
   "outputs": [],
   "source": [
    "# Reindex with new index labels and fill missing values with 0\n",
    "df_reindexed_fill = df.reindex(new_index, fill_value=0)\n",
    "print(\"\\nDataFrame after reindexing with fill_value=0:\")\n",
    "print(df_reindexed_fill)"
   ]
  }
 ],
 "metadata": {
  "jupytext": {
   "cell_metadata_filter": "-all",
   "main_language": "python",
   "notebook_metadata_filter": "-all"
  }
 },
 "nbformat": 4,
 "nbformat_minor": 5
}
