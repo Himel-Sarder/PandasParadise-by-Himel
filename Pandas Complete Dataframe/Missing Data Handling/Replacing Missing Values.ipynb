{
 "cells": [
  {
   "cell_type": "markdown",
   "id": "b10fdb74",
   "metadata": {},
   "source": [
    "replace(): Replaces specified values with other values.\n",
    "df.replace(to_replace, value)"
   ]
  },
  {
   "cell_type": "code",
   "execution_count": null,
   "id": "0b00a9ca",
   "metadata": {},
   "outputs": [],
   "source": [
    "import pandas as pd\n",
    "import numpy as np"
   ]
  },
  {
   "cell_type": "code",
   "execution_count": null,
   "id": "b01762b9",
   "metadata": {},
   "outputs": [],
   "source": [
    "data = {'A': [1, None, 3], 'B': [None, 5, 6]}\n",
    "df = pd.DataFrame(data)"
   ]
  },
  {
   "cell_type": "code",
   "execution_count": null,
   "id": "89217257",
   "metadata": {
    "lines_to_next_cell": 2
   },
   "outputs": [],
   "source": [
    "print(df.replace(np.nan, -1))  # Replace None with -1"
   ]
  }
 ],
 "metadata": {
  "jupytext": {
   "cell_metadata_filter": "-all",
   "main_language": "python",
   "notebook_metadata_filter": "-all"
  }
 },
 "nbformat": 4,
 "nbformat_minor": 5
}
