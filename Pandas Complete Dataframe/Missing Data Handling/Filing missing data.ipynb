{
 "cells": [
  {
   "cell_type": "markdown",
   "id": "21c06753",
   "metadata": {},
   "source": [
    "fillna(): Fills missing values with specified values."
   ]
  },
  {
   "cell_type": "markdown",
   "id": "ed146202",
   "metadata": {
    "lines_to_next_cell": 2
   },
   "source": [
    "df.fillna(value)  # Fill missing values with a scalar or a dictionary\n",
    "df.fillna(method='ffill')  # Forward fill missing values\n",
    "df.fillna(method='bfill')  # Backward fill missing values"
   ]
  },
  {
   "cell_type": "code",
   "execution_count": null,
   "id": "d5e5ea92",
   "metadata": {},
   "outputs": [],
   "source": [
    "import pandas as pd"
   ]
  },
  {
   "cell_type": "code",
   "execution_count": null,
   "id": "db156899",
   "metadata": {},
   "outputs": [],
   "source": [
    "data = {'A': [1, None, 3], 'B': [None, 5, 6]}\n",
    "df = pd.DataFrame(data)"
   ]
  },
  {
   "cell_type": "code",
   "execution_count": null,
   "id": "702a69f2",
   "metadata": {},
   "outputs": [],
   "source": [
    "print(df.fillna(0))  # Fill missing values with a scalar\n",
    "print(df.fillna({'A': 0, 'B': 1}))  # Fill missing values with a dictionary\n",
    "print(df.fillna(method='ffill'))\n",
    "print(df.fillna(method='bfill'))\n",
    "print(df.fillna(method='pad'))"
   ]
  }
 ],
 "metadata": {
  "jupytext": {
   "cell_metadata_filter": "-all",
   "main_language": "python",
   "notebook_metadata_filter": "-all"
  }
 },
 "nbformat": 4,
 "nbformat_minor": 5
}
