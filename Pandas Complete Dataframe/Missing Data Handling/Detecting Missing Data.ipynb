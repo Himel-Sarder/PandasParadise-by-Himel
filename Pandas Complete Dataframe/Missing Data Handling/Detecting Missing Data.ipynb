{
 "cells": [
  {
   "cell_type": "markdown",
   "id": "26d88544",
   "metadata": {
    "lines_to_next_cell": 2
   },
   "source": [
    "Detecting Missing Data:\n",
    "isnull(): Returns a boolean DataFrame indicating missing values.\n",
    "notnull(): Returns the opposite of isnull(), indicating non-missing values."
   ]
  },
  {
   "cell_type": "code",
   "execution_count": null,
   "id": "6b5369eb",
   "metadata": {},
   "outputs": [],
   "source": [
    "import pandas as pd\n",
    "import numpy as np"
   ]
  },
  {
   "cell_type": "code",
   "execution_count": null,
   "id": "1bd9fba3",
   "metadata": {},
   "outputs": [],
   "source": [
    "data = {'A': [1, None, 3, np.nan], 'B': [np.nan, 5, 6, None]}\n",
    "df = pd.DataFrame(data)"
   ]
  },
  {
   "cell_type": "code",
   "execution_count": null,
   "id": "f5a1a648",
   "metadata": {},
   "outputs": [],
   "source": [
    "print(df.isnull())"
   ]
  },
  {
   "cell_type": "code",
   "execution_count": null,
   "id": "7a37b94d",
   "metadata": {},
   "outputs": [],
   "source": [
    "print(df.notnull)"
   ]
  }
 ],
 "metadata": {
  "jupytext": {
   "cell_metadata_filter": "-all",
   "main_language": "python",
   "notebook_metadata_filter": "-all"
  }
 },
 "nbformat": 4,
 "nbformat_minor": 5
}
