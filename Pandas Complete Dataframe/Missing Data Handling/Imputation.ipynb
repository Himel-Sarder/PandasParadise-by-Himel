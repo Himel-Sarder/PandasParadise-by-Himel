{
 "cells": [
  {
   "cell_type": "markdown",
   "id": "17f8e79d",
   "metadata": {},
   "source": [
    "Fill missing values with estimated values (e.g., mean, median, mode) based on other observations."
   ]
  },
  {
   "cell_type": "code",
   "execution_count": null,
   "id": "c3593bf6",
   "metadata": {},
   "outputs": [],
   "source": [
    "import pandas as pd"
   ]
  },
  {
   "cell_type": "code",
   "execution_count": null,
   "id": "a0574f98",
   "metadata": {},
   "outputs": [],
   "source": [
    "data = {'A': [1, None, 3], 'B': [4, None, 6], 'C' : [None, 2, 3]}\n",
    "df = pd.DataFrame(data)"
   ]
  },
  {
   "cell_type": "code",
   "execution_count": null,
   "id": "8f73533a",
   "metadata": {},
   "outputs": [],
   "source": [
    "print(df.fillna(df.mean()))  # Fill missing values with mean of each column"
   ]
  }
 ],
 "metadata": {
  "jupytext": {
   "cell_metadata_filter": "-all",
   "main_language": "python",
   "notebook_metadata_filter": "-all"
  }
 },
 "nbformat": 4,
 "nbformat_minor": 5
}
