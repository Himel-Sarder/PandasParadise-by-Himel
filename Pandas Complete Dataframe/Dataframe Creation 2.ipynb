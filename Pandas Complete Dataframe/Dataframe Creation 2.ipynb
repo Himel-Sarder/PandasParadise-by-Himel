{
 "cells": [
  {
   "cell_type": "code",
   "execution_count": null,
   "id": "415968ae",
   "metadata": {},
   "outputs": [],
   "source": [
    "import pandas as p"
   ]
  },
  {
   "cell_type": "code",
   "execution_count": null,
   "id": "4593ab6f",
   "metadata": {},
   "outputs": [],
   "source": [
    "Data = ([\"Himel\", 100, \"CSE\"],[\"Abonti\", 200, \"Physics\"], [\"Kabita\", 300, \"EEE\"])"
   ]
  },
  {
   "cell_type": "code",
   "execution_count": null,
   "id": "24089807",
   "metadata": {},
   "outputs": [],
   "source": [
    "col = [\"Name\", \"Marks\", \"Department\"]"
   ]
  },
  {
   "cell_type": "code",
   "execution_count": null,
   "id": "ead4b2fb",
   "metadata": {},
   "outputs": [],
   "source": [
    "DataF = p.DataFrame(Data, columns=col)"
   ]
  },
  {
   "cell_type": "code",
   "execution_count": null,
   "id": "def03735",
   "metadata": {},
   "outputs": [],
   "source": [
    "print(DataF)"
   ]
  },
  {
   "cell_type": "code",
   "execution_count": null,
   "id": "9fe21d11",
   "metadata": {},
   "outputs": [],
   "source": [
    "'''\n",
    "     Name  Marks Department\n",
    "0   Himel    100        CSE\n",
    "1  Abonti    200    Physics\n",
    "2  Kabita    300        EEE\n",
    "'''"
   ]
  }
 ],
 "metadata": {
  "jupytext": {
   "cell_metadata_filter": "-all",
   "main_language": "python",
   "notebook_metadata_filter": "-all"
  }
 },
 "nbformat": 4,
 "nbformat_minor": 5
}
