{
 "cells": [
  {
   "cell_type": "code",
   "execution_count": null,
   "id": "28c95cfe",
   "metadata": {},
   "outputs": [],
   "source": [
    "import pandas as pd"
   ]
  },
  {
   "cell_type": "code",
   "execution_count": null,
   "id": "b7a448a3",
   "metadata": {},
   "outputs": [],
   "source": [
    "# Creating a sample DataFrame\n",
    "data = {'Name': ['Alice', 'Bob', 'Charlie', 'David', 'Emily'],\n",
    "        'Age': [25, 30, 35, 40, 35],\n",
    "        'Score': [85, 90, 88, 92, 87]}"
   ]
  },
  {
   "cell_type": "code",
   "execution_count": null,
   "id": "77e452fd",
   "metadata": {},
   "outputs": [],
   "source": [
    "df = pd.DataFrame(data)"
   ]
  },
  {
   "cell_type": "code",
   "execution_count": null,
   "id": "eecab9ad",
   "metadata": {},
   "outputs": [],
   "source": [
    "# Retrieve top 3 rows with the largest values in the 'Score' column\n",
    "top_3_scores = df.nlargest(3, 'Score')\n",
    "print(\"Top 3 rows with the largest scores:\")\n",
    "print(top_3_scores)"
   ]
  },
  {
   "cell_type": "code",
   "execution_count": null,
   "id": "51f20486",
   "metadata": {},
   "outputs": [],
   "source": [
    "# Retrieve top 2 rows with the smallest values in the 'Age' column\n",
    "top_2_youngest = df.nsmallest(2, 'Age')\n",
    "print(\"\\nTop 2 rows with the smallest ages:\")\n",
    "print(top_2_youngest)"
   ]
  }
 ],
 "metadata": {
  "jupytext": {
   "cell_metadata_filter": "-all",
   "main_language": "python",
   "notebook_metadata_filter": "-all"
  }
 },
 "nbformat": 4,
 "nbformat_minor": 5
}
