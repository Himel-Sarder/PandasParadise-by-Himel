{
 "cells": [
  {
   "cell_type": "code",
   "execution_count": null,
   "id": "e88b7843",
   "metadata": {},
   "outputs": [],
   "source": [
    "import pandas as pd"
   ]
  },
  {
   "cell_type": "code",
   "execution_count": null,
   "id": "7e8b9080",
   "metadata": {},
   "outputs": [],
   "source": [
    "# Creating a sample Series\n",
    "data = {'Alice': 85, 'Bob': 90, 'Charlie': 88, 'David': 92, 'Emily': 87}"
   ]
  },
  {
   "cell_type": "code",
   "execution_count": null,
   "id": "7b4adb50",
   "metadata": {},
   "outputs": [],
   "source": [
    "s = pd.Series(data)"
   ]
  },
  {
   "cell_type": "code",
   "execution_count": null,
   "id": "390aa625",
   "metadata": {},
   "outputs": [],
   "source": [
    "# Retrieve top 3 items with the largest values\n",
    "top_3_largest = s.nlargest(3)\n",
    "print(\"Top 3 items with the largest values:\")\n",
    "print(top_3_largest)"
   ]
  },
  {
   "cell_type": "code",
   "execution_count": null,
   "id": "649496f2",
   "metadata": {},
   "outputs": [],
   "source": [
    "# Retrieve top 2 items with the smallest values\n",
    "top_2_smallest = s.nsmallest(2)\n",
    "print(\"\\nTop 2 items with the smallest values:\")\n",
    "print(top_2_smallest)"
   ]
  }
 ],
 "metadata": {
  "jupytext": {
   "cell_metadata_filter": "-all",
   "main_language": "python",
   "notebook_metadata_filter": "-all"
  }
 },
 "nbformat": 4,
 "nbformat_minor": 5
}
