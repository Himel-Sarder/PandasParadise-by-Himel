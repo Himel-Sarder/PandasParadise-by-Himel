{
 "cells": [
  {
   "cell_type": "code",
   "execution_count": null,
   "id": "3d794b72",
   "metadata": {},
   "outputs": [],
   "source": [
    "import pandas as pd"
   ]
  },
  {
   "cell_type": "code",
   "execution_count": null,
   "id": "4b4a653a",
   "metadata": {},
   "outputs": [],
   "source": [
    "GermanCars = {'Company': ['Ford', 'Mercedes', 'BMV', 'Audi'], 'Price': [23845, 171995, 135925 , 71400]}\n",
    "carsDf1 = pd.DataFrame.from_dict(GermanCars)"
   ]
  },
  {
   "cell_type": "code",
   "execution_count": null,
   "id": "14f3c85d",
   "metadata": {},
   "outputs": [],
   "source": [
    "japaneseCars = {'Company': ['Toyota', 'Honda', 'Nissan', 'Mitsubishi '], 'Price': [29995, 23600, 61500 , 58900]}\n",
    "carsDf2 = pd.DataFrame.from_dict(japaneseCars)"
   ]
  },
  {
   "cell_type": "code",
   "execution_count": null,
   "id": "a3adb01d",
   "metadata": {},
   "outputs": [],
   "source": [
    "carsDf = pd.concat([carsDf1, carsDf2], keys=[\"Germany\", \"Japan\"])\n",
    "print(carsDf)"
   ]
  }
 ],
 "metadata": {
  "jupytext": {
   "cell_metadata_filter": "-all",
   "main_language": "python",
   "notebook_metadata_filter": "-all"
  }
 },
 "nbformat": 4,
 "nbformat_minor": 5
}
