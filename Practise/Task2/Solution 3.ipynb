{
 "cells": [
  {
   "cell_type": "code",
   "execution_count": null,
   "id": "bbcc9497",
   "metadata": {},
   "outputs": [],
   "source": [
    "import pandas as pd"
   ]
  },
  {
   "cell_type": "code",
   "execution_count": null,
   "id": "ed3e26de",
   "metadata": {},
   "outputs": [],
   "source": [
    "df = pd.read_csv(\"Automobile_data.csv\")"
   ]
  },
  {
   "cell_type": "code",
   "execution_count": null,
   "id": "cfe2d8da",
   "metadata": {},
   "outputs": [],
   "source": [
    "df = df[['company', 'price']]\n",
    "df = df[df.price == df['price'].max()]"
   ]
  },
  {
   "cell_type": "code",
   "execution_count": null,
   "id": "60def9cf",
   "metadata": {},
   "outputs": [],
   "source": [
    "print(df)"
   ]
  }
 ],
 "metadata": {
  "jupytext": {
   "cell_metadata_filter": "-all",
   "main_language": "python",
   "notebook_metadata_filter": "-all"
  }
 },
 "nbformat": 4,
 "nbformat_minor": 5
}
