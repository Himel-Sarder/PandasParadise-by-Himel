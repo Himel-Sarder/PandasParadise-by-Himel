{
 "cells": [
  {
   "cell_type": "code",
   "execution_count": null,
   "id": "7e5d63ea",
   "metadata": {},
   "outputs": [],
   "source": [
    "import pandas as pd\n",
    "carsDf = pd.read_csv(\"Automobile_data.csv\")\n",
    "carsDf = carsDf.sort_values(by=['price', 'horsepower'], ascending=False)\n",
    "print(carsDf.head(5))"
   ]
  }
 ],
 "metadata": {
  "jupytext": {
   "cell_metadata_filter": "-all",
   "main_language": "python",
   "notebook_metadata_filter": "-all"
  }
 },
 "nbformat": 4,
 "nbformat_minor": 5
}
