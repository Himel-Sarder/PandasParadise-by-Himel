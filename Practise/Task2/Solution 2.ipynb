{
 "cells": [
  {
   "cell_type": "code",
   "execution_count": null,
   "id": "4b3558e1",
   "metadata": {},
   "outputs": [],
   "source": [
    "import pandas as pd"
   ]
  },
  {
   "cell_type": "code",
   "execution_count": null,
   "id": "790e26b3",
   "metadata": {},
   "outputs": [],
   "source": [
    "# Load the CSV file with specified values treated as NaN\n",
    "df = pd.read_csv(\"Automobile_data.csv\", na_values={\n",
    "    'price': [\"?\", \"n.a\"],\n",
    "    'stroke': [\"?\", \"n.a\"],\n",
    "    'horsepower': [\"?\", \"n.a\"],\n",
    "    'peak-rpm': [\"?\", \"n.a\"],\n",
    "    'average-mileage': [\"?\", \"n.a\"]\n",
    "})"
   ]
  },
  {
   "cell_type": "code",
   "execution_count": null,
   "id": "e57fa3b0",
   "metadata": {},
   "outputs": [],
   "source": [
    "# Print the DataFrame to inspect it\n",
    "print(df)"
   ]
  },
  {
   "cell_type": "code",
   "execution_count": null,
   "id": "d9b4ab9e",
   "metadata": {},
   "outputs": [],
   "source": [
    "# Fill NaN values with an empty string or a specific value\n",
    "df.fillna('', inplace=True)"
   ]
  },
  {
   "cell_type": "code",
   "execution_count": null,
   "id": "d70ab202",
   "metadata": {},
   "outputs": [],
   "source": [
    "# Save the cleaned DataFrame to a CSV file in the specified directory\n",
    "output_dir = \"All_Outputs\"\n",
    "output_file = \"Output_Exercise_2.csv\"\n",
    "output_path = f\"{output_dir}/{output_file}\""
   ]
  },
  {
   "cell_type": "code",
   "execution_count": null,
   "id": "738eea14",
   "metadata": {},
   "outputs": [],
   "source": [
    "# Ensure the output directory exists\n",
    "import os\n",
    "os.makedirs(output_dir, exist_ok=True)"
   ]
  },
  {
   "cell_type": "code",
   "execution_count": null,
   "id": "c876f036",
   "metadata": {},
   "outputs": [],
   "source": [
    "# Save the DataFrame to a CSV file\n",
    "df.to_csv(output_path, index=False)"
   ]
  },
  {
   "cell_type": "code",
   "execution_count": null,
   "id": "0f0ddfbe",
   "metadata": {},
   "outputs": [],
   "source": [
    "print(f\"Cleaned data saved to {output_path}\")"
   ]
  }
 ],
 "metadata": {
  "jupytext": {
   "cell_metadata_filter": "-all",
   "main_language": "python",
   "notebook_metadata_filter": "-all"
  }
 },
 "nbformat": 4,
 "nbformat_minor": 5
}
