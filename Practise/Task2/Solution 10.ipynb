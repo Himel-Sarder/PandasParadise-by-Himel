{
 "cells": [
  {
   "cell_type": "code",
   "execution_count": null,
   "id": "24b19038",
   "metadata": {},
   "outputs": [],
   "source": [
    "import pandas as pd"
   ]
  },
  {
   "cell_type": "code",
   "execution_count": null,
   "id": "1d8c8114",
   "metadata": {},
   "outputs": [],
   "source": [
    "Car_Price = {'Company': ['Toyota', 'Honda', 'BMV', 'Audi'], 'Price': [23845, 17995, 135925 , 71400]}\n",
    "carPriceDf = pd.DataFrame.from_dict(Car_Price)"
   ]
  },
  {
   "cell_type": "code",
   "execution_count": null,
   "id": "569f374b",
   "metadata": {},
   "outputs": [],
   "source": [
    "car_Horsepower = {'Company': ['Toyota', 'Honda', 'BMV', 'Audi'], 'horsepower': [141, 80, 182 , 160]}\n",
    "carsHorsepowerDf = pd.DataFrame.from_dict(car_Horsepower)"
   ]
  },
  {
   "cell_type": "code",
   "execution_count": null,
   "id": "2e43da9c",
   "metadata": {},
   "outputs": [],
   "source": [
    "carsDf = pd.merge(carPriceDf, carsHorsepowerDf, on=\"Company\")\n",
    "print(carsDf)"
   ]
  }
 ],
 "metadata": {
  "jupytext": {
   "cell_metadata_filter": "-all",
   "main_language": "python",
   "notebook_metadata_filter": "-all"
  }
 },
 "nbformat": 4,
 "nbformat_minor": 5
}
