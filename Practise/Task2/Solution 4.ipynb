{
 "cells": [
  {
   "cell_type": "code",
   "execution_count": null,
   "id": "74ca8e46",
   "metadata": {},
   "outputs": [],
   "source": [
    "import pandas as pd"
   ]
  },
  {
   "cell_type": "code",
   "execution_count": null,
   "id": "4fb4c19b",
   "metadata": {},
   "outputs": [],
   "source": [
    "df = pd.read_csv(\"Automobile_data.csv\")"
   ]
  },
  {
   "cell_type": "code",
   "execution_count": null,
   "id": "4f988aed",
   "metadata": {},
   "outputs": [],
   "source": [
    "car_Manufacturers = df.groupby('company')\n",
    "toyotaDf = car_Manufacturers.get_group('toyota')"
   ]
  },
  {
   "cell_type": "code",
   "execution_count": null,
   "id": "b7ab8150",
   "metadata": {},
   "outputs": [],
   "source": [
    "print(toyotaDf)"
   ]
  }
 ],
 "metadata": {
  "jupytext": {
   "cell_metadata_filter": "-all",
   "main_language": "python",
   "notebook_metadata_filter": "-all"
  }
 },
 "nbformat": 4,
 "nbformat_minor": 5
}
