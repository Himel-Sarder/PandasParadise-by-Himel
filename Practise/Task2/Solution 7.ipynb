{
 "cells": [
  {
   "cell_type": "code",
   "execution_count": null,
   "id": "78da362c",
   "metadata": {},
   "outputs": [],
   "source": [
    "import pandas as pd\n",
    "df = pd.read_csv(\"D:\\\\Python\\\\Articles\\\\pandas\\\\automobile-dataset\\\\Automobile_data.csv\")\n",
    "car_Manufacturers = df.groupby('company')\n",
    "mileageDf = car_Manufacturers['company','average-mileage'].mean()\n",
    "print(mileageDf)"
   ]
  }
 ],
 "metadata": {
  "jupytext": {
   "cell_metadata_filter": "-all",
   "main_language": "python",
   "notebook_metadata_filter": "-all"
  }
 },
 "nbformat": 4,
 "nbformat_minor": 5
}
