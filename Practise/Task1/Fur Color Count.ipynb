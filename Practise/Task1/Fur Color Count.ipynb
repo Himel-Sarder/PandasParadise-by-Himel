{
 "cells": [
  {
   "cell_type": "code",
   "execution_count": null,
   "id": "28821776",
   "metadata": {},
   "outputs": [],
   "source": [
    "import pandas as pd"
   ]
  },
  {
   "cell_type": "code",
   "execution_count": null,
   "id": "15493452",
   "metadata": {},
   "outputs": [],
   "source": [
    "# Read the CSV file\n",
    "data = pd.read_csv(\"2018-Central-Park-Squirrel-Census-Squirrel-Data.csv\")"
   ]
  },
  {
   "cell_type": "code",
   "execution_count": null,
   "id": "278a6f55",
   "metadata": {},
   "outputs": [],
   "source": [
    "# Count squirrels based on their primary fur color\n",
    "grey_squirrels_count = len(data[data[\"Primary Fur Color\"] == \"Gray\"])\n",
    "cinnamon_squirrels_count = len(data[data[\"Primary Fur Color\"] == \"Cinnamon\"])\n",
    "black_squirrels_count = len(data[data[\"Primary Fur Color\"] == \"Black\"])"
   ]
  },
  {
   "cell_type": "code",
   "execution_count": null,
   "id": "34cc69c2",
   "metadata": {},
   "outputs": [],
   "source": [
    "# Print the counts\n",
    "print(grey_squirrels_count)\n",
    "print(cinnamon_squirrels_count)\n",
    "print(black_squirrels_count)"
   ]
  },
  {
   "cell_type": "code",
   "execution_count": null,
   "id": "0ceca531",
   "metadata": {},
   "outputs": [],
   "source": [
    "# Create a dictionary with the fur color counts\n",
    "data_dict = {\n",
    "    \"Fur Color\": [\"Gray\", \"Cinnamon\", \"Black\"],\n",
    "    \"Count\": [grey_squirrels_count, cinnamon_squirrels_count, black_squirrels_count]\n",
    "}"
   ]
  },
  {
   "cell_type": "code",
   "execution_count": null,
   "id": "42744b15",
   "metadata": {},
   "outputs": [],
   "source": [
    "# Create a DataFrame from the dictionary\n",
    "df = pd.DataFrame(data_dict)"
   ]
  },
  {
   "cell_type": "code",
   "execution_count": null,
   "id": "e40b35f6",
   "metadata": {},
   "outputs": [],
   "source": [
    "# Save the DataFrame to a CSV file\n",
    "df.to_csv(\"squirrel_count.csv\", index=False)"
   ]
  }
 ],
 "metadata": {
  "jupytext": {
   "cell_metadata_filter": "-all",
   "main_language": "python",
   "notebook_metadata_filter": "-all"
  }
 },
 "nbformat": 4,
 "nbformat_minor": 5
}
